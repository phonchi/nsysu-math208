{
 "cells": [
  {
   "cell_type": "markdown",
   "metadata": {
    "id": "11n5gndbRzoY",
    "slideshow": {
     "slide_type": "slide"
    }
   },
   "source": [
    "# Linear Linked Structure\n"
   ]
  },
  {
   "cell_type": "markdown",
   "metadata": {
    "slideshow": {
     "slide_type": "subslide"
    }
   },
   "source": [
    "1. What Are Linear Structures?\n",
    "\n",
    "2. The Unordered Linked List\n",
    "\n",
    "3. The Ordered Linked List\n",
    "\n",
    "4. Other types of Linked list"
   ]
  },
  {
   "cell_type": "markdown",
   "metadata": {
    "id": "7UomBxHtJ14C",
    "slideshow": {
     "slide_type": "slide"
    }
   },
   "source": [
    "## 3.19 Lists"
   ]
  },
  {
   "cell_type": "markdown",
   "metadata": {
    "id": "wJjIP5Vne7cM",
    "slideshow": {
     "slide_type": "subslide"
    }
   },
   "source": [
    "Throughout the discussion of basic data structures, we will use `Python` lists to implement the abstract data types presented. However, other types of data structure exists."
   ]
  },
  {
   "cell_type": "markdown",
   "metadata": {
    "slideshow": {
     "slide_type": "fragment"
    }
   },
   "source": [
    "A list is a collection of items where each item holds a relative position with respect to the others. More specifically, we will refer to this type of list as an <u>unordered list</u>. We can consider the list as having a first item, a second item, a third item, and so on. For simplicity we will assume that lists cannot contain duplicate items."
   ]
  },
  {
   "cell_type": "markdown",
   "metadata": {
    "slideshow": {
     "slide_type": "slide"
    }
   },
   "source": [
    "## 3.20 The Unordered Linked List"
   ]
  },
  {
   "cell_type": "markdown",
   "metadata": {
    "slideshow": {
     "slide_type": "subslide"
    }
   },
   "source": [
    "The structure of an unordered list is a collection of items where each item holds a relative position with respect to the others. Some possible unordered list operations are given below:"
   ]
  },
  {
   "cell_type": "markdown",
   "metadata": {
    "id": "n9ehxkHHJ14K",
    "slideshow": {
     "slide_type": "fragment"
    }
   },
   "source": [
    "- `List()` creates a new list that is empty. It needs no parameters and returns an empty list.\n",
    "- `add(item)` adds a new item to the head of list. It needs the item and returns nothing. Assume the item is not already in the list.\n",
    "- `remove(item)` removes the item from the list. It needs the item and modifies the list. Raise an error if the item is not present in the list."
   ]
  },
  {
   "cell_type": "markdown",
   "metadata": {
    "slideshow": {
     "slide_type": "fragment"
    }
   },
   "source": [
    "- `search(item)` searches for the item in the list. It needs the item and returns a Boolean value.\n",
    "- `is_empty()` tests to see whether the list is empty. It needs no parameters and returns a Boolean value.\n",
    "- `size()` returns the number of items in the list. It needs no parameters and returns an integer."
   ]
  },
  {
   "cell_type": "markdown",
   "metadata": {
    "slideshow": {
     "slide_type": "subslide"
    }
   },
   "source": [
    "- `append(item)` adds a new item to the end of the list making it the last item in the collection. It needs the item and returns nothing. Assume the item is not already in the list.\n",
    "- `index(item)` returns the position of item in the list. It needs the item and returns the index. Assume the item is in the list."
   ]
  },
  {
   "cell_type": "markdown",
   "metadata": {
    "slideshow": {
     "slide_type": "fragment"
    }
   },
   "source": [
    "- `insert(pos, item)` adds a new item to the list at position pos. It needs the item and returns nothing. Assume the item is not already in the list and there are enough existing items to have position pos.\n",
    "- `pop()` removes and returns the last item in the list. It needs nothing and returns an item. Assume the list has at least one item.\n",
    "- `pop(pos)` removes and returns the item at position pos. It needs the position and returns the item. Assume the item is in the list."
   ]
  },
  {
   "cell_type": "markdown",
   "metadata": {
    "id": "5j-SudSSJ14K",
    "slideshow": {
     "slide_type": "slide"
    }
   },
   "source": [
    "## 3.21 Implementing an Unordered Linked List: Linked Lists"
   ]
  },
  {
   "cell_type": "markdown",
   "metadata": {
    "slideshow": {
     "slide_type": "subslide"
    }
   },
   "source": [
    "In order to implement an unordered list, we will construct what is commonly known as a <u>linked list</u>. Recall that we need to be sure that we can maintain the relative positioning of the items. However, there is **no requirement that we maintain that positioning in contiguous memory.**"
   ]
  },
  {
   "cell_type": "markdown",
   "metadata": {
    "id": "YkG4H_wmJ14L",
    "slideshow": {
     "slide_type": "fragment"
    }
   },
   "source": [
    "<center><img src=\"imgs/unordered.png\" width=\"25%\" /></center>"
   ]
  },
  {
   "cell_type": "markdown",
   "metadata": {
    "slideshow": {
     "slide_type": "fragment"
    }
   },
   "source": [
    "For example, consider the collection of items. It appears that these values have been placed randomly."
   ]
  },
  {
   "cell_type": "markdown",
   "metadata": {
    "id": "In-sod4hJ14L",
    "slideshow": {
     "slide_type": "subslide"
    }
   },
   "source": [
    "If we can maintain some explicit information in each item, namely the **location of the next item**, then the relative position of each item can be expressed by simply following the link from one item to the next."
   ]
  },
  {
   "cell_type": "markdown",
   "metadata": {
    "id": "V1hbNXWKJ14M",
    "slideshow": {
     "slide_type": "fragment"
    }
   },
   "source": [
    "<center><img src=\"imgs/unordered2.png\" width=\"35%\" /></center>"
   ]
  },
  {
   "cell_type": "markdown",
   "metadata": {
    "slideshow": {
     "slide_type": "fragment"
    }
   },
   "source": [
    "It is important to note that the location of the first item of the list must be explicitly specified. Once we know where the first item is, the first item can tell us where the second is, and so on. The external reference is often referred to as the <u>head</u> of the list. Similarly, the last item needs to know that there is no next item."
   ]
  },
  {
   "cell_type": "markdown",
   "metadata": {
    "slideshow": {
     "slide_type": "subslide"
    }
   },
   "source": [
    "## 3.21.1 The `Node` Class"
   ]
  },
  {
   "cell_type": "markdown",
   "metadata": {
    "slideshow": {
     "slide_type": "subslide"
    }
   },
   "source": [
    "The basic building block for the linked list implementation is the <u>node</u>. Each node object must hold at least two pieces of information. First, the node must contain the list item itself. We will call this the <u>data field</u> of the node. In addition, each node must hold a reference to the next node."
   ]
  },
  {
   "cell_type": "code",
   "execution_count": null,
   "metadata": {
    "slideshow": {
     "slide_type": "fragment"
    }
   },
   "outputs": [],
   "source": [
    "class Node:\n",
    "    \"\"\"A node of a linked list\"\"\"\n",
    "    def __init__(self, node_data):\n",
    "        self._data = node_data\n",
    "        self._next = None\n",
    "    def get_data(self):\n",
    "        \"\"\"Get node data\"\"\"\n",
    "        return self._data\n",
    "    def set_data(self, node_data):\n",
    "        \"\"\"Set node data\"\"\"\n",
    "        self._data = node_data\n",
    "\n",
    "    def get_next(self):\n",
    "        \"\"\"Get next node\"\"\"\n",
    "        return self._next\n",
    "    def set_next(self, node_next):\n",
    "        \"\"\"Set next node\"\"\"\n",
    "        self._next = node_next\n",
    "    \n",
    "    data = property(get_data, set_data)\n",
    "    next = property(get_next, set_next)"
   ]
  },
  {
   "cell_type": "markdown",
   "metadata": {
    "slideshow": {
     "slide_type": "subslide"
    }
   },
   "source": [
    "Note that hidden fields `_data` and `_next` of the `Node` class are turned into properties and can be accessed as `data` and `next`, respectively!"
   ]
  },
  {
   "cell_type": "markdown",
   "metadata": {
    "slideshow": {
     "slide_type": "fragment"
    }
   },
   "source": [
    "We create `Node` objects in the usual way."
   ]
  },
  {
   "cell_type": "code",
   "execution_count": null,
   "metadata": {
    "slideshow": {
     "slide_type": "fragment"
    }
   },
   "outputs": [],
   "source": [
    "temp = Node(93)\n",
    "temp.data"
   ]
  },
  {
   "cell_type": "markdown",
   "metadata": {
    "slideshow": {
     "slide_type": "fragment"
    }
   },
   "source": [
    "<center><img src=\"imgs/head_list.png\" width=\"15%\" /></center>"
   ]
  },
  {
   "cell_type": "markdown",
   "metadata": {
    "slideshow": {
     "slide_type": "subslide"
    }
   },
   "source": [
    "The special `Python` reference value `None` will play an important role in the `Node` class and later in the linked list itself. A reference to `None` will denote the fact that there is no next node. \n",
    "\n",
    "Note in the constructor that a node is initially created with next set to `None`. It is always a good idea to explicitly assign `None` to your initial next reference values."
   ]
  },
  {
   "cell_type": "markdown",
   "metadata": {
    "id": "CEYjPqnWJ14N",
    "slideshow": {
     "slide_type": "subslide"
    }
   },
   "source": [
    "## 3.21.2 The UnorderedList Class"
   ]
  },
  {
   "cell_type": "markdown",
   "metadata": {
    "slideshow": {
     "slide_type": "subslide"
    }
   },
   "source": [
    "The unordered list will be built from a collection of nodes, each linked to the next by explicit references. With this in mind, the `UnorderedList` class must maintain a reference to the first node. Code below shows the constructor. Note that each list object will maintain a single reference to the head of the list."
   ]
  },
  {
   "cell_type": "code",
   "execution_count": null,
   "metadata": {
    "id": "0V5fNcKnJ14N",
    "slideshow": {
     "slide_type": "fragment"
    }
   },
   "outputs": [],
   "source": [
    "class UnorderedList:\n",
    "    def __init__(self):\n",
    "        self.head = None"
   ]
  },
  {
   "cell_type": "code",
   "execution_count": null,
   "metadata": {
    "id": "dd7m-qCDJ14N",
    "slideshow": {
     "slide_type": "fragment"
    }
   },
   "outputs": [],
   "source": [
    "my_list = UnorderedList()"
   ]
  },
  {
   "cell_type": "markdown",
   "metadata": {
    "slideshow": {
     "slide_type": "fragment"
    }
   },
   "source": [
    "The assignment statement creates the linked list representation "
   ]
  },
  {
   "cell_type": "markdown",
   "metadata": {
    "slideshow": {
     "slide_type": "fragment"
    }
   },
   "source": [
    "<center><img src=\"imgs/head_list2.png\" width=\"25%\" /></center>"
   ]
  },
  {
   "cell_type": "markdown",
   "metadata": {
    "id": "AngpG0KfJ14O",
    "slideshow": {
     "slide_type": "subslide"
    }
   },
   "source": [
    "As we discussed in the `Node` class, the special reference `None` will again be used to state that the head of the list does not refer to anything. Eventually, the example list given earlier will be represented by a linked list as shown below: "
   ]
  },
  {
   "cell_type": "markdown",
   "metadata": {
    "slideshow": {
     "slide_type": "fragment"
    }
   },
   "source": [
    "<center><img src=\"imgs/head_list3.png\" width=\"55%\" /></center>"
   ]
  },
  {
   "cell_type": "markdown",
   "metadata": {
    "slideshow": {
     "slide_type": "fragment"
    }
   },
   "source": [
    "The head of the list refers to the first node which contains the first item of the list. In turn, that node holds a reference to the next node (the next item), and so on. \n",
    "\n",
    "It is very important to note that the `UnorderedList` class itself does not contain any node objects. Instead it contains a single reference to only the first node in the linked structure."
   ]
  },
  {
   "cell_type": "markdown",
   "metadata": {
    "id": "UcAcIkGtJ14O",
    "slideshow": {
     "slide_type": "subslide"
    }
   },
   "source": [
    "The `is_empty()` method, shown below, simply checks to see if the head of the list is a reference to `None`. The result of the boolean expression `self.head == None` will only be true if there are no nodes in the linked list."
   ]
  },
  {
   "cell_type": "code",
   "execution_count": null,
   "metadata": {
    "slideshow": {
     "slide_type": "fragment"
    }
   },
   "outputs": [],
   "source": [
    "def is_empty(self):\n",
    "    return self.head == None"
   ]
  },
  {
   "cell_type": "markdown",
   "metadata": {
    "slideshow": {
     "slide_type": "subslide"
    }
   },
   "source": [
    "So how do we get items into our list? We need to implement the `add()` method. However, before we can do that, we need to address the important question of where in the linked list to place the new item. "
   ]
  },
  {
   "cell_type": "markdown",
   "metadata": {
    "slideshow": {
     "slide_type": "fragment"
    }
   },
   "source": [
    "Since this list is unordered, the specific location of the new item with respect to the other items already in the list is not important. The new item can go anywhere. With that in mind, **it makes sense to place the new item in the easiest location possible.**"
   ]
  },
  {
   "cell_type": "markdown",
   "metadata": {
    "id": "DZd-K-Z-J14O",
    "slideshow": {
     "slide_type": "fragment"
    }
   },
   "source": [
    "Recall that the linked list structure provides us with only one entry point, the head of the list. All of the other nodes can only be reached by accessing the first node and then following next links. This means that the easiest place to add the new node is right at the head, or beginning, of the list"
   ]
  },
  {
   "cell_type": "markdown",
   "metadata": {
    "slideshow": {
     "slide_type": "subslide"
    }
   },
   "source": [
    "```\n",
    "my_list.add(31)\n",
    "my_list.add(77)\n",
    "my_list.add(17)\n",
    "my_list.add(93)\n",
    "my_list.add(26)\n",
    "my_list.add(54)\n",
    "```"
   ]
  },
  {
   "cell_type": "markdown",
   "metadata": {
    "id": "exxX2n_BJ14V",
    "slideshow": {
     "slide_type": "fragment"
    }
   },
   "source": [
    "Note that since 31 is the first item added to the list, it will eventually be the last node on the linked list as every other item is added ahead of it. Also, since 54 is the last item added, it will become the data value in the first node of the linked list."
   ]
  },
  {
   "cell_type": "markdown",
   "metadata": {
    "slideshow": {
     "slide_type": "subslide"
    }
   },
   "source": [
    "Therefore, we can create a new node and places the item as its data. Now we must complete the process by linking the new node into the existing structure. "
   ]
  },
  {
   "cell_type": "code",
   "execution_count": null,
   "metadata": {
    "id": "OXKHZgycJ14V",
    "slideshow": {
     "slide_type": "fragment"
    }
   },
   "outputs": [],
   "source": [
    "def add(self, item):\n",
    "    temp = Node(item)\n",
    "    temp.set_next(self.head)\n",
    "    self.head = temp"
   ]
  },
  {
   "cell_type": "markdown",
   "metadata": {
    "slideshow": {
     "slide_type": "fragment"
    }
   },
   "source": [
    "<center><img src=\"imgs/add_list.png\" width=\"45%\" /></center>"
   ]
  },
  {
   "cell_type": "markdown",
   "metadata": {
    "id": "HtcIVAvjJ14V",
    "slideshow": {
     "slide_type": "skip"
    }
   },
   "source": [
    "Step 1 (line 3) changes the next reference of the new node to refer to the old first node of the list. Now that the rest of the list has been properly attached to the new node, we can modify the head of the list to refer to the new node. "
   ]
  },
  {
   "cell_type": "markdown",
   "metadata": {
    "id": "eb-FzjxHJ14W",
    "slideshow": {
     "slide_type": "subslide"
    }
   },
   "source": [
    "The order of the two steps described above is very important. **What happens if the order of line 3 and line 4 is reversed?**"
   ]
  },
  {
   "cell_type": "markdown",
   "metadata": {
    "id": "HUdT0USRJ14W",
    "slideshow": {
     "slide_type": "fragment"
    }
   },
   "source": [
    "<center><img src=\"imgs/add_list2.png\" width=\"45%\" /></center>"
   ]
  },
  {
   "cell_type": "markdown",
   "metadata": {
    "slideshow": {
     "slide_type": "fragment"
    }
   },
   "source": [
    "Since the head was the only external reference to the list nodes, all of the original nodes are lost and can no longer be accessed."
   ]
  },
  {
   "cell_type": "markdown",
   "metadata": {
    "colab": {
     "base_uri": "https://localhost:8080/"
    },
    "executionInfo": {
     "elapsed": 298,
     "status": "ok",
     "timestamp": 1683101092815,
     "user": {
      "displayName": "phonchi chung",
      "userId": "13517391734500420886"
     },
     "user_tz": -480
    },
    "id": "zFaZR6kPJ14a",
    "outputId": "4eee32f7-dc06-4c6e-d913-0204e4edce82",
    "slideshow": {
     "slide_type": "subslide"
    }
   },
   "source": [
    "The next methods that we will implement – `size()`, `search()`, and `remove()` – are all based on a technique known as <u>linked list traversal</u>. Traversal refers to the process of systematically visiting each node. "
   ]
  },
  {
   "cell_type": "markdown",
   "metadata": {
    "slideshow": {
     "slide_type": "fragment"
    }
   },
   "source": [
    "To do this we use an external reference that starts at the first node in the list. As we visit each node, we move the reference to the next node by \"traversing\" the next reference."
   ]
  },
  {
   "cell_type": "markdown",
   "metadata": {
    "colab": {
     "base_uri": "https://localhost:8080/"
    },
    "executionInfo": {
     "elapsed": 295,
     "status": "ok",
     "timestamp": 1683101448651,
     "user": {
      "displayName": "phonchi chung",
      "userId": "13517391734500420886"
     },
     "user_tz": -480
    },
    "id": "j22nb9uwJ14b",
    "outputId": "837a3c03-57f0-4a62-a037-b9464c17b064",
    "slideshow": {
     "slide_type": "subslide"
    }
   },
   "source": [
    "To implement the `size()` method, we need to traverse the linked list and keep a count of the number of nodes that occurred."
   ]
  },
  {
   "cell_type": "code",
   "execution_count": null,
   "metadata": {
    "id": "mLP54ctYJ14b",
    "slideshow": {
     "slide_type": "fragment"
    }
   },
   "outputs": [],
   "source": [
    "def size(self):\n",
    "    current = self.head\n",
    "    count = 0\n",
    "    while current is not None:\n",
    "        count = count + 1\n",
    "        current = current.get_next()\n",
    "\n",
    "    return count"
   ]
  },
  {
   "cell_type": "markdown",
   "metadata": {
    "slideshow": {
     "slide_type": "fragment"
    }
   },
   "source": [
    "<center><img src=\"imgs/size_list.png\" width=\"50%\" /></center>"
   ]
  },
  {
   "cell_type": "markdown",
   "metadata": {
    "slideshow": {
     "slide_type": "skip"
    }
   },
   "source": [
    "The external reference is called `current` and is initialized to the head of the list in line 2. At the start of the process we have not seen any nodes so the `count` is set to 0. Lines 4–6 actually implement the traversal. As long as the current reference has not seen the end of the list (`None`), we move `current` along to the next node via the assignment statement in line 6. \n",
    "\n",
    "Again, the ability to compare a reference to `None` is very useful. Every time `current` moves to a new node, we add to `count`. Finally, `count` gets returned after the iteration stops."
   ]
  },
  {
   "cell_type": "markdown",
   "metadata": {
    "slideshow": {
     "slide_type": "subslide"
    }
   },
   "source": [
    "Searching for a value in a linked list implementation of an unordered list also uses the traversal technique. As we visit each node in the linked list we will ask whether the data stored there matches the item we are looking for."
   ]
  },
  {
   "cell_type": "code",
   "execution_count": null,
   "metadata": {
    "slideshow": {
     "slide_type": "fragment"
    }
   },
   "outputs": [],
   "source": [
    "def search(self, item):\n",
    "    current = self.head\n",
    "    while current is not None:\n",
    "        if current.data == item:\n",
    "            return True\n",
    "        current = current.get_next()\n",
    "\n",
    "    return False"
   ]
  },
  {
   "cell_type": "markdown",
   "metadata": {
    "slideshow": {
     "slide_type": "fragment"
    }
   },
   "source": [
    "If we do get to the end of the list, that means that the item we are looking for must not be present. Also, if we do find the item, there is no need to continue."
   ]
  },
  {
   "cell_type": "markdown",
   "metadata": {
    "slideshow": {
     "slide_type": "subslide"
    }
   },
   "source": [
    "```\n",
    "my_list.search(17)\n",
    "```"
   ]
  },
  {
   "cell_type": "markdown",
   "metadata": {
    "id": "rDvyWSaCJ14b",
    "slideshow": {
     "slide_type": "fragment"
    }
   },
   "source": [
    "<center><img src=\"imgs/search_list.png\" width=\"50%\" /></center>"
   ]
  },
  {
   "cell_type": "markdown",
   "metadata": {
    "colab": {
     "base_uri": "https://localhost:8080/"
    },
    "executionInfo": {
     "elapsed": 279,
     "status": "ok",
     "timestamp": 1683101588324,
     "user": {
      "displayName": "phonchi chung",
      "userId": "13517391734500420886"
     },
     "user_tz": -480
    },
    "id": "qsx-08WCJ14c",
    "outputId": "e17f0651-5f3e-45f8-cdc4-2ad534a2aacf",
    "slideshow": {
     "slide_type": "fragment"
    }
   },
   "source": [
    "Since 17 is in the list, the traversal process needs to move only to the node containing 17. At that point, the condition in line 4 becomes `True` and we return the result of the search. "
   ]
  },
  {
   "cell_type": "markdown",
   "metadata": {
    "slideshow": {
     "slide_type": "subslide"
    }
   },
   "source": [
    "The `remove()` method requires two logical steps. First, we need to traverse the list looking for the item we want to remove. Once we find the item, we must remove it. If the item is not in the list, our method should raise a `ValueError`."
   ]
  },
  {
   "cell_type": "markdown",
   "metadata": {
    "slideshow": {
     "slide_type": "fragment"
    }
   },
   "source": [
    "The first step is very similar to search. Starting with an external reference set to the head of the list, we traverse the links until we discover the item we are looking for."
   ]
  },
  {
   "cell_type": "markdown",
   "metadata": {
    "slideshow": {
     "slide_type": "fragment"
    }
   },
   "source": [
    "When the item is found and we break out of the loop, `current` will be a reference to the node containing the item to be removed. But how do we remove it?"
   ]
  },
  {
   "cell_type": "markdown",
   "metadata": {
    "slideshow": {
     "slide_type": "subslide"
    }
   },
   "source": [
    "In order to remove the node containing the item, we need to modify the link in the previous node so that it refers to the node that comes after current. Unfortunately, there is no way to go backward in the linked list. Since `current` refers to the node ahead of the node where we would like to make the change, it is too late to make the necessary modification!"
   ]
  },
  {
   "cell_type": "markdown",
   "metadata": {
    "slideshow": {
     "slide_type": "fragment"
    }
   },
   "source": [
    "The solution to this dilemma is to use two external references as we traverse down the linked list. `current` will behave just as it did before, marking the current location of the traversal. The new reference, which we will call `previous`, will always travel one node behind `current`. That way, when `current` stops at the node to be removed, `previous` will refer to the proper place in the linked list for the modification!"
   ]
  },
  {
   "cell_type": "code",
   "execution_count": null,
   "metadata": {
    "slideshow": {
     "slide_type": "subslide"
    }
   },
   "outputs": [],
   "source": [
    "def remove(self, item):\n",
    "    current = self.head\n",
    "    previous = None\n",
    "\n",
    "    while current is not None:\n",
    "        if current.data == item:\n",
    "            break\n",
    "        previous = current\n",
    "        current = current.get_next()\n",
    "\n",
    "    if current is None:\n",
    "        raise ValueError(\"{} is not in the list\".format(item))\n",
    "    if previous is None:\n",
    "        self.head = current.get_next()\n",
    "    else:\n",
    "        previous.next = current.get_next()"
   ]
  },
  {
   "cell_type": "markdown",
   "metadata": {
    "slideshow": {
     "slide_type": "fragment"
    }
   },
   "source": [
    "<center><img src=\"imgs/remove_unorder_list.png\" width=\"50%\" /></center>"
   ]
  },
  {
   "cell_type": "markdown",
   "metadata": {
    "slideshow": {
     "slide_type": "subslide"
    }
   },
   "source": [
    "Figure below shows the movement of `previous` and `current` as they progress down the list looking for the node containing the value 17."
   ]
  },
  {
   "cell_type": "markdown",
   "metadata": {
    "slideshow": {
     "slide_type": "fragment"
    }
   },
   "source": [
    "<center><img src=\"imgs/remove_unorder_list2.png\" width=\"50%\" /></center>"
   ]
  },
  {
   "cell_type": "markdown",
   "metadata": {
    "slideshow": {
     "slide_type": "subslide"
    }
   },
   "source": [
    "<center><img src=\"imgs/remove_unorder_list3.png\" width=\"50%\" /></center>"
   ]
  },
  {
   "cell_type": "markdown",
   "metadata": {
    "id": "sAszrEnnJ14d",
    "slideshow": {
     "slide_type": "fragment"
    }
   },
   "source": [
    "Once the searching step of the remove has been completed, we need to remove the node from the linked list. Figure above shows the link that must be modified. "
   ]
  },
  {
   "cell_type": "markdown",
   "metadata": {
    "slideshow": {
     "slide_type": "fragment"
    }
   },
   "source": [
    "However, there is a special case that needs to be addressed. If the item to be removed happens to be the first item in the list, then `current` will reference the first node in the linked list. This also means that `previous` will be `None`. We said earlier that previous would be referring to the node whose next reference needs to be modified in order to complete the removal. In this case, it is not previous but rather the head of the list that needs to be changed. "
   ]
  },
  {
   "cell_type": "markdown",
   "metadata": {
    "slideshow": {
     "slide_type": "subslide"
    }
   },
   "source": [
    "<center><img src=\"imgs/remove_unorder_list4.png\" width=\"50%\" /></center>"
   ]
  },
  {
   "cell_type": "markdown",
   "metadata": {
    "slideshow": {
     "slide_type": "fragment"
    }
   },
   "source": [
    "Line 13 allows us to check whether we are dealing with the special case described above. If `previous` did not move, it will still have the value `None` when the loop breaks. In that case, the head of the list is modified to refer to the node after the current node (line 14), in effect removing the first node from the linked list. However, if previous is not `None`, the node to be removed is somewhere down the linked list structure. "
   ]
  },
  {
   "cell_type": "markdown",
   "metadata": {
    "slideshow": {
     "slide_type": "fragment"
    }
   },
   "source": [
    "In this case the previous reference is providing us with the node whose next reference must be changed. Line 16 modifies the `next` property of the previous to accomplish the removal. Note that in both cases the destination of the reference change is `current.get_next()`. "
   ]
  },
  {
   "cell_type": "markdown",
   "metadata": {
    "slideshow": {
     "slide_type": "fragment"
    }
   },
   "source": [
    "You could also add a header node to simplify the process and this is left as exercise."
   ]
  },
  {
   "cell_type": "markdown",
   "metadata": {
    "colab": {
     "base_uri": "https://localhost:8080/"
    },
    "executionInfo": {
     "elapsed": 343,
     "status": "ok",
     "timestamp": 1683101709851,
     "user": {
      "displayName": "phonchi chung",
      "userId": "13517391734500420886"
     },
     "user_tz": -480
    },
    "id": "aybBqNHdJ14d",
    "outputId": "cc2890de-0f67-4c7b-c70d-d966140669ce",
    "slideshow": {
     "slide_type": "skip"
    }
   },
   "source": [
    "One question that often arises is whether the two cases shown here will also handle the situation where the item to be removed is in the last node of the linked list. We leave that for you to consider."
   ]
  },
  {
   "cell_type": "code",
   "execution_count": null,
   "metadata": {
    "id": "c5cVK04hJ14d",
    "slideshow": {
     "slide_type": "subslide"
    }
   },
   "outputs": [],
   "source": [
    "import sys\n",
    "sys.path.append(\"../pythonds3/\")"
   ]
  },
  {
   "cell_type": "code",
   "execution_count": null,
   "metadata": {
    "id": "ZzmywYm1J14e",
    "slideshow": {
     "slide_type": "subslide"
    }
   },
   "outputs": [],
   "source": [
    "from pythonds3.basic import UnorderedList\n",
    "\n",
    "my_list = UnorderedList()\n",
    "\n",
    "my_list.add(31)\n",
    "my_list.add(77)\n",
    "my_list.add(17)\n",
    "my_list.add(93)\n",
    "my_list.add(26)\n",
    "my_list.add(54)\n",
    "\n",
    "print(my_list)\n",
    "print(my_list.size())\n",
    "print(my_list.search(93))\n",
    "print(my_list.search(100))"
   ]
  },
  {
   "cell_type": "code",
   "execution_count": null,
   "metadata": {
    "slideshow": {
     "slide_type": "subslide"
    }
   },
   "outputs": [],
   "source": [
    "my_list.add(100)\n",
    "print(my_list.search(100))\n",
    "print(my_list.size())\n",
    "\n",
    "my_list.remove(54)\n",
    "print(my_list.size())\n",
    "my_list.remove(93)\n",
    "print(my_list.size())\n",
    "my_list.remove(31)\n",
    "print(my_list.size())\n",
    "print(my_list.search(93))"
   ]
  },
  {
   "cell_type": "markdown",
   "metadata": {
    "colab": {
     "base_uri": "https://localhost:8080/"
    },
    "executionInfo": {
     "elapsed": 2,
     "status": "ok",
     "timestamp": 1683102465996,
     "user": {
      "displayName": "phonchi chung",
      "userId": "13517391734500420886"
     },
     "user_tz": -480
    },
    "id": "1FJPykoruLi6",
    "outputId": "0129b8fa-a822-4b51-bfc3-7a4441616252",
    "slideshow": {
     "slide_type": "skip"
    }
   },
   "source": [
    "#### Exercise: Implement the `append()` method for `UnorderedList`. What is the time complexity of the method you created?"
   ]
  },
  {
   "cell_type": "code",
   "execution_count": null,
   "metadata": {
    "id": "KhJfQMXwuZUA",
    "slideshow": {
     "slide_type": "skip"
    }
   },
   "outputs": [],
   "source": [
    "## Your code here\n",
    "class Node:\n",
    "    \"\"\"A node of a linked list\"\"\"\n",
    "\n",
    "    def __init__(self, node_data):\n",
    "        self._data = node_data\n",
    "        self._next = None\n",
    "\n",
    "    def get_data(self):\n",
    "        \"\"\"Get node data\"\"\"\n",
    "        return self._data\n",
    "\n",
    "    def set_data(self, node_data):\n",
    "        \"\"\"Set node data\"\"\"\n",
    "        self._data = node_data\n",
    "\n",
    "    data = property(get_data, set_data)\n",
    "\n",
    "    def get_next(self):\n",
    "        \"\"\"Get next node\"\"\"\n",
    "        return self._next\n",
    "\n",
    "    def set_next(self, node_next):\n",
    "        \"\"\"Set next node\"\"\"\n",
    "        self._next = node_next\n",
    "\n",
    "    next = property(get_next, set_next)\n",
    "\n",
    "    def __str__(self):\n",
    "        \"\"\"String\"\"\"\n",
    "        return str(self._data)\n",
    "\n",
    "\n",
    "class UnorderedList:\n",
    "    def __init__(self):\n",
    "        self.head = None\n",
    "\n",
    "    def is_empty(self):\n",
    "        return self.head == None\n",
    "\n",
    "    def add(self, item):\n",
    "        temp = Node(item)\n",
    "        temp.set_next(self.head)\n",
    "        self.head = temp\n",
    "\n",
    "    def size(self):\n",
    "        current = self.head\n",
    "        count = 0\n",
    "        while current is not None:\n",
    "            count = count + 1\n",
    "            current = current.next\n",
    "\n",
    "        return count\n",
    "\n",
    "    def search(self, item):\n",
    "        current = self.head\n",
    "        while current is not None:\n",
    "            if current.data == item:\n",
    "                return True\n",
    "            current = current.next\n",
    "\n",
    "        return False\n",
    "\n",
    "    def remove(self, item):\n",
    "        current = self.head\n",
    "        previous = None\n",
    "\n",
    "        while current is not None:\n",
    "            if current.data == item:\n",
    "                break\n",
    "            previous = current\n",
    "            current = current.next\n",
    "\n",
    "        if current is None:\n",
    "            raise ValueError(\"{} is not in the list\".format(item))\n",
    "        if previous is None:\n",
    "            self.head = current.next\n",
    "        else:\n",
    "            previous.next = current.next\n",
    "\n",
    "    def append(self, item):\n",
    "        temp = Node(item)\n",
    "        current = self.head\n",
    "        previous = None\n",
    "        while current != None:\n",
    "            previous = current\n",
    "            current = current.getNext()\n",
    "        if previous == None:\n",
    "            self.head = temp\n",
    "            temp.setNext(None)\n",
    "        else:\n",
    "            previous.setNext(temp)\n",
    "            temp.setNext(None)"
   ]
  },
  {
   "cell_type": "markdown",
   "metadata": {
    "slideshow": {
     "slide_type": "slide"
    }
   },
   "source": [
    "## 3.22. The Ordered Linked List"
   ]
  },
  {
   "cell_type": "markdown",
   "metadata": {
    "slideshow": {
     "slide_type": "subslide"
    }
   },
   "source": [
    "We will now consider a type of list known as an <u>ordered list</u>. For example, if the list of integers shown in previous section were an ordered list (ascending order), then it could be written as 17, 26, 31, 54, 77, and 93."
   ]
  },
  {
   "cell_type": "markdown",
   "metadata": {
    "slideshow": {
     "slide_type": "fragment"
    }
   },
   "source": [
    "The structure of an ordered list is a collection of items where each item holds a relative position that is based upon some underlying characteristic of the item. The ordering is typically either ascending or descending and **we assume that list items have a meaningful comparison operation that is already defined.** "
   ]
  },
  {
   "cell_type": "markdown",
   "metadata": {
    "slideshow": {
     "slide_type": "subslide"
    }
   },
   "source": [
    "Many of the ordered list operations are the same as those of the unordered list:"
   ]
  },
  {
   "cell_type": "markdown",
   "metadata": {
    "slideshow": {
     "slide_type": "fragment"
    }
   },
   "source": [
    "- `OrderedList()` creates a new ordered list that is empty. It needs no parameters and returns an empty list.\n",
    "- `add(item)` adds a new item to the list making sure that the order is preserved. It needs the item and returns nothing. Assume the item is not already in the list.\n",
    "- `remove(item)` removes the item from the list. It needs the item and modifies the list. It will raise an error if the item is not present in the list.\n",
    "- `search(item)` searches for the item in the list. It needs the item and returns a Boolean value."
   ]
  },
  {
   "cell_type": "markdown",
   "metadata": {
    "slideshow": {
     "slide_type": "subslide"
    }
   },
   "source": [
    "- `is_empty()` tests to see whether the list is empty. It needs no parameters and returns a Boolean value.\n",
    "- `size()` returns the number of items in the list. It needs no parameters and returns an integer.\n",
    "- `index(item)` returns the position of an item in the list. It needs the item and returns the index. Assume the item is in the list.\n",
    "- `pop()` removes and returns the last item in the list. It needs nothing and returns an item. Assume the list has at least one item.\n",
    "- `pop(pos)` removes and returns the item at position pos. It needs the position and returns the item. Assume the item is in the list."
   ]
  },
  {
   "cell_type": "markdown",
   "metadata": {
    "slideshow": {
     "slide_type": "slide"
    }
   },
   "source": [
    "## 3.23 Implementing an Ordered Linked List"
   ]
  },
  {
   "cell_type": "markdown",
   "metadata": {
    "slideshow": {
     "slide_type": "subslide"
    }
   },
   "source": [
    "The ordered list of integers given above (17, 26, 31, 54, 77, and 93) can be represented by a linked structure as shown below. "
   ]
  },
  {
   "cell_type": "markdown",
   "metadata": {
    "slideshow": {
     "slide_type": "fragment"
    }
   },
   "source": [
    "<center><img src=\"imgs/order_list.png\" width=\"50%\" /></center>"
   ]
  },
  {
   "cell_type": "markdown",
   "metadata": {
    "slideshow": {
     "slide_type": "fragment"
    }
   },
   "source": [
    "Again, the node and link structure is ideal for representing the relative positioning of the items."
   ]
  },
  {
   "cell_type": "markdown",
   "metadata": {
    "slideshow": {
     "slide_type": "subslide"
    }
   },
   "source": [
    "To implement the `OrderedList` class, we will use the same technique as seen previously with unordered lists. Once again, an empty list will be denoted by a head reference to `None`:"
   ]
  },
  {
   "cell_type": "code",
   "execution_count": null,
   "metadata": {
    "slideshow": {
     "slide_type": "fragment"
    }
   },
   "outputs": [],
   "source": [
    "class OrderedList:\n",
    "    def __init__(self):\n",
    "        self.head = None"
   ]
  },
  {
   "cell_type": "markdown",
   "metadata": {
    "slideshow": {
     "slide_type": "fragment"
    }
   },
   "source": [
    "As we consider the operations for the ordered list, we should note that the `is_empty()` and `size()` methods can be implemented the same as with unordered lists since they deal only with the number of nodes in the list without regard to the actual item values. \n",
    "\n",
    "Likewise, the `remove()` method will work just fine since we still need to find the item and then link around the node to remove it. The two remaining methods, `search()` and `add()`, will require some modification."
   ]
  },
  {
   "cell_type": "markdown",
   "metadata": {
    "slideshow": {
     "slide_type": "subslide"
    }
   },
   "source": [
    "The `search()` of an unordered linked list required that we traverse the nodes one at a time until we either find the item we are looking for or run out of nodes (`None`). "
   ]
  },
  {
   "cell_type": "markdown",
   "metadata": {
    "slideshow": {
     "slide_type": "fragment"
    }
   },
   "source": [
    "t turns out that the same approach would work with the ordered list and no changes are necessary if the item is in the list. However, in the case where the item is not in the list, **we can take advantage of the ordering to stop the search as soon as possible.**"
   ]
  },
  {
   "cell_type": "markdown",
   "metadata": {
    "slideshow": {
     "slide_type": "fragment"
    }
   },
   "source": [
    "For example, Figure below shows the ordered linked list as a search is looking for the value 45:"
   ]
  },
  {
   "cell_type": "markdown",
   "metadata": {
    "slideshow": {
     "slide_type": "fragment"
    }
   },
   "source": [
    "<center><img src=\"imgs/search_order_list.png\" width=\"50%\" /></center>"
   ]
  },
  {
   "cell_type": "markdown",
   "metadata": {
    "slideshow": {
     "slide_type": "skip"
    }
   },
   "source": [
    "As we traverse, starting at the head of the list, we first compare against 17. Since 17 is not the item we are looking for, we move to the next node, in this case 26. Again, this is not what we want, so we move on to 31 and then on to 54. \n",
    "\n",
    "Now, at this point, something is different. Since 54 is not the item we are looking for, our former strategy would be to move forward. **However, due to the fact that this is an ordered list, that will not be necessary.** Once the value in the node becomes greater than the item we are searching for, the search can stop and return False. There is no way the item could exist further out in the linked list."
   ]
  },
  {
   "cell_type": "markdown",
   "metadata": {
    "slideshow": {
     "slide_type": "subslide"
    }
   },
   "source": [
    "The code below shows the complete `search()` method. It is easy to incorporate the new condition discussed above by adding another check (line 6):"
   ]
  },
  {
   "cell_type": "code",
   "execution_count": null,
   "metadata": {
    "slideshow": {
     "slide_type": "fragment"
    }
   },
   "outputs": [],
   "source": [
    "def search(self,item):\n",
    "    current = self.head\n",
    "    while current is not None:\n",
    "        if current.data == item:\n",
    "            return True\n",
    "        if current.data > item:\n",
    "            return False\n",
    "        current = current.next\n",
    "\n",
    "    return False"
   ]
  },
  {
   "cell_type": "markdown",
   "metadata": {
    "slideshow": {
     "slide_type": "fragment"
    }
   },
   "source": [
    "We can continue to look forward in the list (line 3). If any node is ever discovered that contains data greater than the item we are looking for, we will immediately return `False`."
   ]
  },
  {
   "cell_type": "markdown",
   "metadata": {
    "slideshow": {
     "slide_type": "subslide"
    }
   },
   "source": [
    "The most significant method modification will take place in `add()`. Recall that for unordered lists, **the add method could simply place a new node at the head of the list.** It was the easiest point of access. "
   ]
  },
  {
   "cell_type": "markdown",
   "metadata": {
    "slideshow": {
     "slide_type": "fragment"
    }
   },
   "source": [
    "Unfortunately, this will no longer work with ordered lists. It is now necessary that we discover the specific place where a new item belongs in the existing ordered list."
   ]
  },
  {
   "cell_type": "markdown",
   "metadata": {
    "slideshow": {
     "slide_type": "subslide"
    }
   },
   "source": [
    "Assume we have the ordered list consisting of 17, 26, 54, 77, and 93 and we want to add the value 31. The add method must decide that the new item belongs between 26 and 54:"
   ]
  },
  {
   "cell_type": "markdown",
   "metadata": {
    "slideshow": {
     "slide_type": "fragment"
    }
   },
   "source": [
    "<center><img src=\"imgs/add_order_list.png\" width=\"50%\" /></center>"
   ]
  },
  {
   "cell_type": "markdown",
   "metadata": {
    "slideshow": {
     "slide_type": "fragment"
    }
   },
   "source": [
    "As we explained earlier, we need to traverse the linked list looking for the place where the new node will be added!"
   ]
  },
  {
   "cell_type": "markdown",
   "metadata": {
    "slideshow": {
     "slide_type": "subslide"
    }
   },
   "source": [
    "As we saw with unordered lists, it is necessary to have an additional reference, again called `previous`, since `current` will not provide access to the node that must be modified."
   ]
  },
  {
   "cell_type": "code",
   "execution_count": null,
   "metadata": {
    "slideshow": {
     "slide_type": "fragment"
    }
   },
   "outputs": [],
   "source": [
    "def add(self, item):\n",
    "    \"\"\"Add a new node\"\"\"\n",
    "    current = self.head\n",
    "    previous = None\n",
    "    temp = Node(item)\n",
    "\n",
    "    while current is not None and current.data < item:\n",
    "        previous = current\n",
    "        current = current.next\n",
    "\n",
    "    if previous is None:\n",
    "        temp.next = self.head\n",
    "        self.head = temp\n",
    "    else:\n",
    "        temp.next = current\n",
    "        previous.next = temp"
   ]
  },
  {
   "cell_type": "markdown",
   "metadata": {
    "slideshow": {
     "slide_type": "subslide"
    }
   },
   "source": [
    "The `OrderedList` class with methods discussed thus far can be found below:"
   ]
  },
  {
   "cell_type": "code",
   "execution_count": null,
   "metadata": {
    "slideshow": {
     "slide_type": "fragment"
    }
   },
   "outputs": [],
   "source": [
    "from pythonds3.basic import OrderedList\n",
    "\n",
    "my_list = OrderedList()\n",
    "\n",
    "my_list.add(31)\n",
    "my_list.add(77)\n",
    "my_list.add(17)\n",
    "my_list.add(93)\n",
    "my_list.add(26)\n",
    "my_list.add(54)\n",
    "\n",
    "print(my_list)\n",
    "print(my_list.size())\n",
    "print(my_list.search(93))\n",
    "print(my_list.search(100))"
   ]
  },
  {
   "cell_type": "markdown",
   "metadata": {
    "slideshow": {
     "slide_type": "subslide"
    }
   },
   "source": [
    "### 3.23.1 Analysis of Linked Lists"
   ]
  },
  {
   "cell_type": "markdown",
   "metadata": {
    "slideshow": {
     "slide_type": "subslide"
    }
   },
   "source": [
    "To analyze the complexity of the linked list operations, we need to consider whether they require traversal. \n",
    "\n",
    "Consider a linked list that has $n$ nodes. The `is_empty()` method is $O(1)$ since it requires one step to check the head reference for `None`. `size()`, on the other hand, will always require $n$ steps since there is no way to know how many nodes are in the linked list without traversing from head to end. Therefore, `size()` is $O(n)$. "
   ]
  },
  {
   "cell_type": "markdown",
   "metadata": {
    "slideshow": {
     "slide_type": "fragment"
    }
   },
   "source": [
    "Adding an item to an unordered list will always be $O(1)$ since we simply place the new node at the head of the linked list. However, `search()` and `remove()`, as well as `add()` for an ordered list, all require the traversal process. Although on average they may need to traverse only half of the nodes, these methods are all $O(n)$ since in the worst case each will process every node in the list."
   ]
  },
  {
   "cell_type": "markdown",
   "metadata": {
    "slideshow": {
     "slide_type": "skip"
    }
   },
   "source": [
    "You may also have noticed that the performance of this implementation differs from the actual performance given earlier for `Python` lists. This suggests that linked lists are not the way `Python` lists are implemented. **The actual implementation of a `Python` list is based on the notion of an array**. We discuss this in more detail in the last chapter."
   ]
  },
  {
   "cell_type": "markdown",
   "metadata": {
    "slideshow": {
     "slide_type": "slide"
    }
   },
   "source": [
    "## A.1 Other types of Linked list (Optional)"
   ]
  },
  {
   "cell_type": "markdown",
   "metadata": {
    "slideshow": {
     "slide_type": "subslide"
    }
   },
   "source": [
    "### Circularly linked list"
   ]
  },
  {
   "cell_type": "markdown",
   "metadata": {
    "slideshow": {
     "slide_type": "subslide"
    }
   },
   "source": [
    "In the case of linked lists, there is a more tangible notion of a circularly linked list, as we can have the tail of the list use its next reference to point back to the head of the list, as shown below. We call such a structure a <u>circularly linked list</u>."
   ]
  },
  {
   "cell_type": "markdown",
   "metadata": {
    "slideshow": {
     "slide_type": "fragment"
    }
   },
   "source": [
    "<center><img src=\"imgs/circular_list.png\" width=\"50%\" /></center>"
   ]
  },
  {
   "cell_type": "markdown",
   "metadata": {
    "slideshow": {
     "slide_type": "fragment"
    }
   },
   "source": [
    "A circularly linked list provides a more general model than a standard linked list for data sets that are cyclic, that is, which do not have any particular notion of a beginning and end."
   ]
  },
  {
   "cell_type": "markdown",
   "metadata": {
    "slideshow": {
     "slide_type": "subslide"
    }
   },
   "source": [
    "A circular view could be used, for example, to describe the order of train stops, or the order in which players take turns\n",
    "during a game. Even though a circularly linked list has no beginning or end, per se, we must maintain a reference to a particular node in order to make use of the list. We use the identiﬁer `current` to describe such a designated node. By setting `current = current.next`, we can effectively advance through the nodes of the list."
   ]
  },
  {
   "cell_type": "markdown",
   "metadata": {
    "slideshow": {
     "slide_type": "subslide"
    }
   },
   "source": [
    "### Doubly linked list"
   ]
  },
  {
   "cell_type": "markdown",
   "metadata": {
    "slideshow": {
     "slide_type": "subslide"
    }
   },
   "source": [
    "In a singly linked list, each node maintains a reference to the node that is immediately after it. We have demonstrated the usefulness of such a representation when managing a sequence of elements. However, there are limitations that stem from\n",
    "the asymmetry of a singly linked list."
   ]
  },
  {
   "cell_type": "markdown",
   "metadata": {
    "slideshow": {
     "slide_type": "fragment"
    }
   },
   "source": [
    "We emphasized that we can efficiently insert a node at either end of a singly linked list, and can delete a node at the head of a list, but we are unable to efficiently delete a node at the tail of the list. More generally, we cannot efficiently delete an arbitrary node from an interior position of the list if only given a reference to that node, because\n",
    "we cannot determine the node that immediately precedes the node to be deleted (yet, that node needs to have its next reference updated)!"
   ]
  },
  {
   "cell_type": "markdown",
   "metadata": {
    "slideshow": {
     "slide_type": "subslide"
    }
   },
   "source": [
    "To provide greater symmetry, we deﬁne a linked list in which each node keeps an explicit reference to the node before it and a reference to the node after it. Such a structure is known as a <u>doubly linked list</u>. These lists allow a greater variety of $O(1)$-time update operations, including insertions and deletions at arbitrary positions within the list. We continue to use the term `next` for the reference to the node that follows another, and we introduce the term `prev` for the reference to the node that precedes it."
   ]
  },
  {
   "cell_type": "markdown",
   "metadata": {
    "slideshow": {
     "slide_type": "fragment"
    }
   },
   "source": [
    "In order to avoid some special cases when operating near the boundaries of a doubly linked list, it helps to add special nodes at both ends of the list: a header node at the beginning of the list, and a trailer node at the end of the list. These \"dummy\" nodes are known as sentinels (or guards), and they do not store elements of the primary sequence. "
   ]
  },
  {
   "cell_type": "markdown",
   "metadata": {
    "slideshow": {
     "slide_type": "subslide"
    }
   },
   "source": [
    "A doubly linked list with such sentinels is shown"
   ]
  },
  {
   "cell_type": "markdown",
   "metadata": {
    "slideshow": {
     "slide_type": "fragment"
    }
   },
   "source": [
    "<center><img src=\"imgs/double_list.png\" width=\"50%\" /></center>"
   ]
  },
  {
   "cell_type": "markdown",
   "metadata": {
    "slideshow": {
     "slide_type": "fragment"
    }
   },
   "source": [
    "For a nonempty list, the header’s next will refer to a node containing the first real element of a sequence, just as the trailer’s prev references the node containing the last element of a sequence."
   ]
  },
  {
   "cell_type": "markdown",
   "metadata": {
    "slideshow": {
     "slide_type": "fragment"
    }
   },
   "source": [
    "We can treat all insertions in a unified manner, because a new node will always be placed between a pair of existing nodes. In similar fashion, every element that is to be deleted is guaranteed to be stored in a node that has neighbors on each side."
   ]
  },
  {
   "cell_type": "markdown",
   "metadata": {
    "slideshow": {
     "slide_type": "subslide"
    }
   },
   "source": [
    "<center><img src=\"imgs/double_list2.png\" width=\"50%\" /></center>"
   ]
  },
  {
   "cell_type": "markdown",
   "metadata": {
    "slideshow": {
     "slide_type": "fragment"
    }
   },
   "source": [
    "<center><img src=\"imgs/double_list3.png\" width=\"50%\" /></center>"
   ]
  },
  {
   "cell_type": "markdown",
   "metadata": {
    "slideshow": {
     "slide_type": "fragment"
    }
   },
   "source": [
    "<center><img src=\"imgs/double_list4.png\" width=\"50%\" /></center>"
   ]
  },
  {
   "cell_type": "markdown",
   "metadata": {
    "slideshow": {
     "slide_type": "skip"
    }
   },
   "source": [
    "Every insertion into our doubly linked list representation will take place between a pair of existing nodes. For example, when a new element is inserted at the front of the sequence, we will simply add the new node between the header and the node that is currently after the header."
   ]
  },
  {
   "cell_type": "markdown",
   "metadata": {
    "slideshow": {
     "slide_type": "subslide"
    }
   },
   "source": [
    "<center><img src=\"imgs/double_list5.png\" width=\"50%\" /></center>"
   ]
  },
  {
   "cell_type": "markdown",
   "metadata": {
    "slideshow": {
     "slide_type": "fragment"
    }
   },
   "source": [
    "<center><img src=\"imgs/double_list6.png\" width=\"50%\" /></center>"
   ]
  },
  {
   "cell_type": "markdown",
   "metadata": {
    "slideshow": {
     "slide_type": "fragment"
    }
   },
   "source": [
    "<center><img src=\"imgs/double_list7.png\" width=\"50%\" /></center>"
   ]
  },
  {
   "cell_type": "markdown",
   "metadata": {
    "slideshow": {
     "slide_type": "skip"
    }
   },
   "source": [
    "The deletion of a node, portrayed above, proceeds in the opposite fashion of an insertion. The two neighbors of the node to be deleted are linked directly to each other, thereby bypassing the original node. As a result, that node will no\n",
    "longer be considered part of the list and it can be reclaimed by the system. Because of our use of sentinels, the same implementation can be used when deleting the first or the last element of a sequence, because even such an element will be stored at a node that lies between two others."
   ]
  },
  {
   "cell_type": "markdown",
   "metadata": {
    "slideshow": {
     "slide_type": "slide"
    }
   },
   "source": [
    "## References"
   ]
  },
  {
   "cell_type": "markdown",
   "metadata": {
    "id": "2teyKp_e1khl",
    "slideshow": {
     "slide_type": "subslide"
    }
   },
   "source": [
    "1. Textbook CH3"
   ]
  },
  {
   "cell_type": "markdown",
   "metadata": {
    "slideshow": {
     "slide_type": "skip"
    }
   },
   "source": [
    "## Key terms"
   ]
  },
  {
   "cell_type": "markdown",
   "metadata": {
    "slideshow": {
     "slide_type": "skip"
    }
   },
   "source": [
    "- **Unordered List**: An unordered list is a collection of items where the order of the items does not matter. In computer science, it typically refers to a data structure where elements are stored without any specific sequence.\n",
    "\n",
    "- **Linked List**: A linked list is a linear data structure where each element (called a node) contains a value and a reference (or link) to the next node in the sequence. This structure allows for efficient insertion and deletion of elements.\n",
    "\n",
    "- **Node**: In the context of a linked list, a node is an individual element containing data and one or more links to other nodes. Each node typically has two parts: the data part and the link part.\n",
    "\n",
    "- **Head of Linked List**: The head of a linked list refers to the first node in the list. It is the entry point to access all other nodes by traversing the links.\n",
    "\n",
    "- **Tail of Linked List**: The tail of a linked list refers to the last node in the list. It is characterized by having its link part pointing to `null` (or equivalent), indicating the end of the list.\n",
    "\n",
    "- **Ordered List**: An ordered list is a collection of items that are arranged in a specific order, often numerical or lexicographical. This order is maintained as elements are added or removed from the collection.\n",
    "\n",
    "- **Circularly Linked List**: A circularly linked list is a variant of a linked list where the last node's link part points back to the first node, forming a circle. This allows for a circular traversal of the list.\n",
    "\n",
    "- **Doubly Linked List**: A doubly linked list is a type of linked list where each node contains two links: one pointing to the next node and another pointing to the previous node. This bidirectional linking allows for efficient traversal and modification of the list in both directions."
   ]
  }
 ],
 "metadata": {
  "celltoolbar": "Slideshow",
  "colab": {
   "collapsed_sections": [
    "cDAMEH2XJ14T"
   ],
   "provenance": []
  },
  "kernelspec": {
   "display_name": "Python 3 (ipykernel)",
   "language": "python",
   "name": "python3"
  },
  "language_info": {
   "codemirror_mode": {
    "name": "ipython",
    "version": 3
   },
   "file_extension": ".py",
   "mimetype": "text/x-python",
   "name": "python",
   "nbconvert_exporter": "python",
   "pygments_lexer": "ipython3",
   "version": "3.9.13"
  },
  "rise": {
   "chalkboard": {
    "color": [
     "rgb(250, 0, 0)",
     "rgb(250, 0, 0)"
    ]
   },
   "controls": false,
   "enable_chalkboard": true,
   "footer": "",
   "overlay": "<div class='myfooter'><h4>Linear Linked Structure</h4></div>",
   "slideNumber": "true",
   "theme": "night"
  },
  "vscode": {
   "interpreter": {
    "hash": "1561eddc5e0c9c74df968f74d5080d02882967127f956e6e7049c43d2ef42321"
   }
  }
 },
 "nbformat": 4,
 "nbformat_minor": 1
}
