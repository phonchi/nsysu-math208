{
 "cells": [
  {
   "cell_type": "markdown",
   "metadata": {
    "id": "11n5gndbRzoY",
    "slideshow": {
     "slide_type": "slide"
    }
   },
   "source": [
    "# Algorithm Analysis\n"
   ]
  },
  {
   "cell_type": "markdown",
   "metadata": {
    "slideshow": {
     "slide_type": "subslide"
    }
   },
   "source": [
    "1. What Is Algorithm Analysis?\n",
    "\n",
    "2. Big O Notation\n",
    "\n",
    "3. An Anagram Detection Example\n",
    "\n",
    "4. Performance of `Python` Data Structures: `Lists/Dictionaries`"
   ]
  },
  {
   "cell_type": "markdown",
   "metadata": {
    "id": "7UomBxHtJ14C",
    "slideshow": {
     "slide_type": "slide"
    }
   },
   "source": [
    "## 2.1~2.2 What Is Algorithm Analysis?"
   ]
  },
  {
   "cell_type": "markdown",
   "metadata": {
    "id": "wJjIP5Vne7cM",
    "slideshow": {
     "slide_type": "subslide"
    }
   },
   "source": [
    "An interesting question often arises. When two programs solve the same problem but look different, is one program better than the other?"
   ]
  },
  {
   "cell_type": "markdown",
   "metadata": {
    "slideshow": {
     "slide_type": "fragment"
    }
   },
   "source": [
    "In order to answer this question, we need to remember that there is an important difference between a program and the underlying algorithm that the program is representing!"
   ]
  },
  {
   "cell_type": "markdown",
   "metadata": {
    "slideshow": {
     "slide_type": "fragment"
    }
   },
   "source": [
    "There may be many programs for the same algorithm, depending on the programmer and the programming language being used!"
   ]
  },
  {
   "cell_type": "markdown",
   "metadata": {
    "slideshow": {
     "slide_type": "subslide"
    }
   },
   "source": [
    "To explore this difference further, consider the function that computes the sum of the first $n$ integers. The algorithm uses the idea of an accumulator variable that is initialized to 0. The solution then iterates through the $n$ integers, adding each to the accumulator."
   ]
  },
  {
   "cell_type": "code",
   "execution_count": 1,
   "metadata": {
    "colab": {
     "base_uri": "https://localhost:8080/"
    },
    "executionInfo": {
     "elapsed": 293,
     "status": "ok",
     "timestamp": 1684207813039,
     "user": {
      "displayName": "phonchi chung",
      "userId": "13517391734500420886"
     },
     "user_tz": -480
    },
    "id": "pRMstCTrJ14F",
    "outputId": "a6c380d4-5763-46b0-dd26-e4fc7c208586",
    "slideshow": {
     "slide_type": "fragment"
    }
   },
   "outputs": [
    {
     "name": "stdout",
     "output_type": "stream",
     "text": [
      "55\n"
     ]
    }
   ],
   "source": [
    "def sum_of_n(n):\n",
    "    the_sum = 0\n",
    "    for i in range(1, n + 1):\n",
    "        the_sum = the_sum + i\n",
    "    return the_sum\n",
    "\n",
    "print(sum_of_n(10))"
   ]
  },
  {
   "cell_type": "markdown",
   "metadata": {
    "id": "xtOzCNTJcj3N",
    "slideshow": {
     "slide_type": "subslide"
    }
   },
   "source": [
    "Now look at the function below:"
   ]
  },
  {
   "cell_type": "code",
   "execution_count": 2,
   "metadata": {
    "slideshow": {
     "slide_type": "fragment"
    }
   },
   "outputs": [
    {
     "name": "stdout",
     "output_type": "stream",
     "text": [
      "55\n"
     ]
    }
   ],
   "source": [
    "def foo(tom):\n",
    "    fred = 0\n",
    "    for bill in range(1, tom + 1):\n",
    "        barney = bill\n",
    "        fred = fred + barney\n",
    "    return fred\n",
    "\n",
    "print(foo(10))"
   ]
  },
  {
   "cell_type": "markdown",
   "metadata": {
    "slideshow": {
     "slide_type": "fragment"
    }
   },
   "source": [
    "At first glance it may look strange, but this function is essentially doing the same thing as the previous one. Here, we did not use good identifiers for <u>readability</u>, and we used an extra assignment statement that was not really necessary!"
   ]
  },
  {
   "cell_type": "markdown",
   "metadata": {
    "slideshow": {
     "slide_type": "subslide"
    }
   },
   "source": [
    "The function `sum_of_n()` is certainly better than the function `foo()` if you are concerned with readability. Easy to read and easy to understand is important for beginner. In this course, however, we are also interested in characterizing the algorithm itself. "
   ]
  },
  {
   "cell_type": "markdown",
   "metadata": {
    "slideshow": {
     "slide_type": "fragment"
    }
   },
   "source": [
    "<u>Algorithm analysis</u> is concerned with comparing algorithms based upon the **amount of computing resources that each algorithm uses**. "
   ]
  },
  {
   "cell_type": "markdown",
   "metadata": {
    "slideshow": {
     "slide_type": "fragment"
    }
   },
   "source": [
    "We want to be able to consider two algorithms and say that one is better than the other because it is more efficient in its use of those resources or perhaps because it simply uses fewer."
   ]
  },
  {
   "cell_type": "markdown",
   "metadata": {
    "slideshow": {
     "slide_type": "subslide"
    }
   },
   "source": [
    "There are two different ways to look at this. One way is to consider the **amount of space or memory** an algorithm requires to solve the problem. "
   ]
  },
  {
   "cell_type": "markdown",
   "metadata": {
    "id": "Ss9hRGHDRzob",
    "slideshow": {
     "slide_type": "fragment"
    }
   },
   "source": [
    "As an alternative to space requirements, we can analyze and compare algorithms based on the **amount of time** they require to execute. "
   ]
  },
  {
   "cell_type": "markdown",
   "metadata": {
    "slideshow": {
     "slide_type": "fragment"
    }
   },
   "source": [
    "One way is that we can measure the execution time for the function `sum_of_n()` to do a <u>benchmark analysis</u>. In `Python`, we can benchmark a function by noting the starting time and ending time within the system we are using."
   ]
  },
  {
   "cell_type": "code",
   "execution_count": 3,
   "metadata": {
    "id": "M08lekdQJ14I",
    "slideshow": {
     "slide_type": "subslide"
    }
   },
   "outputs": [],
   "source": [
    "import time\n",
    "\n",
    "def sum_of_n_2(n):\n",
    "    start = time.time()\n",
    "    the_sum = 0\n",
    "    for i in range(1, n + 1):\n",
    "        the_sum = the_sum + i\n",
    "    end = time.time()\n",
    "    return the_sum, end - start"
   ]
  },
  {
   "cell_type": "code",
   "execution_count": 4,
   "metadata": {
    "id": "kmbPdXCmJ14I",
    "slideshow": {
     "slide_type": "fragment"
    }
   },
   "outputs": [
    {
     "name": "stdout",
     "output_type": "stream",
     "text": [
      "Sum is 5000050000 required  0.0040002 seconds\n",
      "Sum is 5000050000 required  0.0030003 seconds\n",
      "Sum is 5000050000 required  0.0040002 seconds\n",
      "Sum is 5000050000 required  0.0029995 seconds\n",
      "Sum is 5000050000 required  0.0039990 seconds\n"
     ]
    }
   ],
   "source": [
    "for i in range(5):\n",
    "    print(\"Sum is %d required %10.7f seconds\" % sum_of_n_2(100_000))"
   ]
  },
  {
   "cell_type": "markdown",
   "metadata": {
    "id": "knUz0VD7z2NY",
    "slideshow": {
     "slide_type": "subslide"
    }
   },
   "source": [
    "We discover that the time is fairly consistent. What if we run the function adding the first 1,000,000 integers?"
   ]
  },
  {
   "cell_type": "code",
   "execution_count": 5,
   "metadata": {
    "slideshow": {
     "slide_type": "fragment"
    }
   },
   "outputs": [
    {
     "name": "stdout",
     "output_type": "stream",
     "text": [
      "Sum is 500000500000 required  0.0390027 seconds\n",
      "Sum is 500000500000 required  0.0360374 seconds\n",
      "Sum is 500000500000 required  0.0359602 seconds\n",
      "Sum is 500000500000 required  0.0359993 seconds\n",
      "Sum is 500000500000 required  0.0360005 seconds\n"
     ]
    }
   ],
   "source": [
    "for i in range(5):\n",
    "    print(\"Sum is %d required %10.7f seconds\" % sum_of_n_2(1_000_000))"
   ]
  },
  {
   "cell_type": "markdown",
   "metadata": {
    "id": "Ygh-sqpdJ14J",
    "slideshow": {
     "slide_type": "subslide"
    }
   },
   "source": [
    "Now consider the following function, which shows a different means of solving the summation problem. This function takes advantage of a closed equation $\\sum_{i=1}^{n} i = \\frac {(n)(n+1)}{2}$ to compute the sum of the first $n$ integers without iterating."
   ]
  },
  {
   "cell_type": "code",
   "execution_count": 6,
   "metadata": {
    "slideshow": {
     "slide_type": "fragment"
    }
   },
   "outputs": [
    {
     "name": "stdout",
     "output_type": "stream",
     "text": [
      "55.0\n"
     ]
    }
   ],
   "source": [
    "def sum_of_n_3(n):\n",
    "    start = time.time()\n",
    "    the_sum = (n * (n + 1)) / 2\n",
    "    end = time.time()\n",
    "    return the_sum, end - start\n",
    "print(sum_of_n_3(10)[0])"
   ]
  },
  {
   "cell_type": "markdown",
   "metadata": {
    "id": "uvUrUd2vJ14J",
    "slideshow": {
     "slide_type": "subslide"
    }
   },
   "source": [
    "If we do the same benchmark measurement for `sum_of_n_3()`, using four different values for $n$ (100,000, 1,000,000, 10,000,000, and 100,000,000), we get the following results:"
   ]
  },
  {
   "cell_type": "code",
   "execution_count": 7,
   "metadata": {
    "id": "qH8HRNZ6J14J",
    "slideshow": {
     "slide_type": "fragment"
    }
   },
   "outputs": [
    {
     "name": "stdout",
     "output_type": "stream",
     "text": [
      "Sum is 5000050000 required  0.0000000 seconds\n",
      "Sum is 500000500000 required  0.0000000 seconds\n",
      "Sum is 50000005000000 required  0.0000000 seconds\n",
      "Sum is 5000000050000000 required  0.0000000 seconds\n"
     ]
    }
   ],
   "source": [
    "print(\"Sum is %d required %10.7f seconds\" % sum_of_n_3(100_000))\n",
    "print(\"Sum is %d required %10.7f seconds\" % sum_of_n_3(1_000_000))\n",
    "print(\"Sum is %d required %10.7f seconds\" % sum_of_n_3(10_000_000))\n",
    "print(\"Sum is %d required %10.7f seconds\" % sum_of_n_3(100_000_000))"
   ]
  },
  {
   "cell_type": "markdown",
   "metadata": {
    "id": "rBIJ7ipkJ14K",
    "slideshow": {
     "slide_type": "fragment"
    }
   },
   "source": [
    "First, the times recorded above are shorter than any of the previous examples. Second, they are very consistent no matter what the value of $n$. It appears that `sum_of_n_3()` is hardly impacted by the number of integers being added."
   ]
  },
  {
   "cell_type": "markdown",
   "metadata": {
    "slideshow": {
     "slide_type": "subslide"
    }
   },
   "source": [
    "Intuitively, we can see that the iterative solutions seem to be doing more work since some program steps are being repeated. Also, the time required for the iterative solution seems to increase as we increase the value of $n$. "
   ]
  },
  {
   "cell_type": "markdown",
   "metadata": {
    "slideshow": {
     "slide_type": "fragment"
    }
   },
   "source": [
    "However, if we ran the same function on a different computer or used a different programming language, we would likely get different results. It could take even longer to perform `sum_of_n_3()` if the computer were older."
   ]
  },
  {
   "cell_type": "markdown",
   "metadata": {
    "slideshow": {
     "slide_type": "subslide"
    }
   },
   "source": [
    "We need a better way to characterize these algorithms with respect to execution time. The benchmark does not really provide us with a useful measurement because it is dependent on a **particular machine, program, time of day, compiler, and programming language.**"
   ]
  },
  {
   "cell_type": "markdown",
   "metadata": {
    "slideshow": {
     "slide_type": "fragment"
    }
   },
   "source": [
    "we would like to have a characterization that is independent of the program or computer being used. This measure would then be useful for judging the algorithm alone and could be used to compare algorithms **across implementations**!"
   ]
  },
  {
   "cell_type": "markdown",
   "metadata": {
    "slideshow": {
     "slide_type": "slide"
    }
   },
   "source": [
    "## 2.3 Big O Notation"
   ]
  },
  {
   "cell_type": "markdown",
   "metadata": {
    "slideshow": {
     "slide_type": "subslide"
    }
   },
   "source": [
    "If each of these steps is considered to be a **basic unit** of computation, then the execution time for an algorithm can be expressed as the number of steps required to solve the problem!"
   ]
  },
  {
   "cell_type": "markdown",
   "metadata": {
    "id": "n9ehxkHHJ14K",
    "slideshow": {
     "slide_type": "fragment"
    }
   },
   "source": [
    "Deciding on an appropriate basic unit of computation can be a complicated problem and will depend on how the algorithm is implemented."
   ]
  },
  {
   "cell_type": "markdown",
   "metadata": {
    "slideshow": {
     "slide_type": "fragment"
    }
   },
   "source": [
    "A good basic unit of computation for comparing the summation algorithms might be the number of assignment statements performed to compute the sum."
   ]
  },
  {
   "cell_type": "markdown",
   "metadata": {
    "id": "5j-SudSSJ14K",
    "slideshow": {
     "slide_type": "subslide"
    }
   },
   "source": [
    "In the function `sum_of_n()`, the number of assignment statements is 1 (`the_sum = 0`) plus the value of $n$ (the number of times we perform `the_sum = the_sum + 1`). We can denote this by a function, call it $T$, where $T(n)= n+1$. "
   ]
  },
  {
   "cell_type": "markdown",
   "metadata": {
    "slideshow": {
     "slide_type": "fragment"
    }
   },
   "source": [
    "The parameter $n$ is often referred to as the **size of the problem,** and we can read this as **$T(n)$ is the time it takes to solve a problem of size $n$, namely $n+1$ steps.**"
   ]
  },
  {
   "cell_type": "markdown",
   "metadata": {
    "id": "YkG4H_wmJ14L",
    "slideshow": {
     "slide_type": "fragment"
    }
   },
   "source": [
    "We can then say that the sum of the first 100,000 integers is a bigger instance of the summation problem than the sum of the first 1,000. Because of this, it might seem reasonable that the time required to solve the larger case would be greater than for the smaller case."
   ]
  },
  {
   "cell_type": "markdown",
   "metadata": {
    "slideshow": {
     "slide_type": "subslide"
    }
   },
   "source": [
    "Our goal then is to show how the algorithm’s execution time changes with respect to the size of the problem."
   ]
  },
  {
   "cell_type": "markdown",
   "metadata": {
    "id": "In-sod4hJ14L",
    "slideshow": {
     "slide_type": "fragment"
    }
   },
   "source": [
    "It turns out that the exact number of operations is not as important as determining the most dominant part of the function. In other words, as the problem gets larger, some portion of the function tends to overpower the rest."
   ]
  },
  {
   "cell_type": "markdown",
   "metadata": {
    "id": "V1hbNXWKJ14M",
    "slideshow": {
     "slide_type": "fragment"
    }
   },
   "source": [
    "The **order of th emagnitude of the function** describes the part of $T(n)$ that increases the fastest as the value of $n$ increases. Order of magnitude is often called <u>Big O notation</u> (for order) and written as $O(f(n))$."
   ]
  },
  {
   "cell_type": "markdown",
   "metadata": {
    "slideshow": {
     "slide_type": "subslide"
    }
   },
   "source": [
    "It provides a useful approximation of the actual number of steps in the computation. The function $f(n)$ provides a simple representation of the dominant part of the original $T(n)$."
   ]
  },
  {
   "cell_type": "markdown",
   "metadata": {
    "slideshow": {
     "slide_type": "fragment"
    }
   },
   "source": [
    "In the above example, $T(n)=n+1$. As $n$ gets larger, the constant 1 will become less and less significant to the final result. If we are looking for an approximation for $T(n)$, then we can drop the 1 and simply say that the running time is $O(n)$. "
   ]
  },
  {
   "cell_type": "markdown",
   "metadata": {
    "slideshow": {
     "slide_type": "fragment"
    }
   },
   "source": [
    "It is important to note that the 1 is certainly significant for $T(n)$. However, as $n$ gets large, our approximation will be just as accurate without it."
   ]
  },
  {
   "cell_type": "markdown",
   "metadata": {
    "slideshow": {
     "slide_type": "subslide"
    }
   },
   "source": [
    "As another example, suppose that for some algorithm, the exact number of steps is $T(n)=5n^2+27n+1005$. When $n$ is small, say 1 or 2, the constant 1005 seems to be the dominant part of the function. However, as $n$ gets larger, the $n^2$ term becomes the most important!\n",
    "."
   ]
  },
  {
   "cell_type": "markdown",
   "metadata": {
    "slideshow": {
     "slide_type": "fragment"
    }
   },
   "source": [
    "In fact, when $n$ is really large, the other two terms become insignificant for the final result. Again, to approximate $T(n)$ as $n$ gets large, we can ignore the other terms and focus on $5n^2$."
   ]
  },
  {
   "cell_type": "markdown",
   "metadata": {
    "slideshow": {
     "slide_type": "fragment"
    }
   },
   "source": [
    "In addition, the coefficient $5$ becomes insignificant as $n$ gets large. We would say then that the function $T(n)$ has an order of magnitude $f(n)=n^2$, or simply that it is $O(n^2)$. "
   ]
  },
  {
   "cell_type": "markdown",
   "metadata": {
    "id": "CzEFrClyJ14N",
    "slideshow": {
     "slide_type": "subslide"
    }
   },
   "source": [
    "Sometimes the performance of an algorithm depends on the **exact values of the data rather than simply the size of the problem.** For these kinds of algorithms we need to characterize their performance in terms of <u>best-case</u>, <u>worst-case</u>, or <u>average-case</u> performance. "
   ]
  },
  {
   "cell_type": "markdown",
   "metadata": {
    "slideshow": {
     "slide_type": "fragment"
    }
   },
   "source": [
    "The worst-case performance refers to a particular data set where the algorithm performs especially poorly, whereas a different data set for the exact same algorithm might have extraordinarily good (best-case) performance."
   ]
  },
  {
   "cell_type": "markdown",
   "metadata": {
    "id": "CEYjPqnWJ14N",
    "slideshow": {
     "slide_type": "fragment"
    }
   },
   "source": [
    "However, in most cases the algorithm performs somewhere in between these two extremes (average-case performance)."
   ]
  },
  {
   "cell_type": "markdown",
   "metadata": {
    "slideshow": {
     "slide_type": "subslide"
    }
   },
   "source": [
    "A number of very common order of magnitude functions will come up over and over as you study algorithms:"
   ]
  },
  {
   "cell_type": "markdown",
   "metadata": {
    "id": "0V5fNcKnJ14N",
    "slideshow": {
     "slide_type": "fragment"
    }
   },
   "source": [
    "<table>\n",
    "    <tr>\n",
    "        <th>f(n)</th>\n",
    "        <th>Name</th>\n",
    "    </tr>\n",
    "    <tr>\n",
    "        <td>1</td>\n",
    "        <td>Constant</td>\n",
    "    </tr>\n",
    "    <tr>\n",
    "        <td>log(n)</td>\n",
    "        <td>Logarithmic</td>\n",
    "    </tr>\n",
    "    <tr>\n",
    "        <td>n</td>\n",
    "        <td>Linear</td>\n",
    "    </tr>\n",
    "    <tr>\n",
    "        <td>n log(n)</td>\n",
    "        <td>Log linear</td>\n",
    "    </tr>\n",
    "    <tr>\n",
    "        <td>n<sup>2</sup></td>\n",
    "        <td>Quadratic</td>\n",
    "    </tr>\n",
    "    <tr>\n",
    "        <td>n<sup>3</sup></td>\n",
    "        <td>Cubic</td>\n",
    "    </tr>\n",
    "    <tr>\n",
    "        <td>2<sup>n</sup></td>\n",
    "        <td>Exponential</td>\n",
    "    </tr>\n",
    "</table>\n"
   ]
  },
  {
   "cell_type": "markdown",
   "metadata": {
    "id": "2NGVqR7wJ14N",
    "slideshow": {
     "slide_type": "subslide"
    }
   },
   "source": [
    "<center><img src=\"imgs/bigO.png\" width=\"50%\" /></center>"
   ]
  },
  {
   "cell_type": "markdown",
   "metadata": {
    "id": "AngpG0KfJ14O",
    "slideshow": {
     "slide_type": "fragment"
    }
   },
   "source": [
    "Notice that when $n$ is small, the functions are not very well defined with respect to one another. It is hard to tell which is dominant."
   ]
  },
  {
   "cell_type": "markdown",
   "metadata": {
    "slideshow": {
     "slide_type": "subslide"
    }
   },
   "source": [
    "As a final example, suppose that we have the fragment of `Python` code:"
   ]
  },
  {
   "cell_type": "code",
   "execution_count": 8,
   "metadata": {
    "colab": {
     "base_uri": "https://localhost:8080/"
    },
    "executionInfo": {
     "elapsed": 41111,
     "status": "ok",
     "timestamp": 1683099050191,
     "user": {
      "displayName": "phonchi chung",
      "userId": "13517391734500420886"
     },
     "user_tz": -480
    },
    "id": "-AWxXf7xJ14O",
    "outputId": "450025f8-e56f-4ebf-be22-d67c655e5bb0",
    "slideshow": {
     "slide_type": "fragment"
    }
   },
   "outputs": [],
   "source": [
    "n = 100\n",
    "# Start of the code\n",
    "a = 5\n",
    "b = 6\n",
    "c = 10\n",
    "for i in range(n):\n",
    "    for j in range(n):\n",
    "        x = i * i\n",
    "        y = j * j\n",
    "        z = i * j\n",
    "for k in range(n):\n",
    "    w = a * k + 45\n",
    "    v = b * b\n",
    "d = 33"
   ]
  },
  {
   "cell_type": "markdown",
   "metadata": {
    "id": "UcAcIkGtJ14O",
    "slideshow": {
     "slide_type": "fragment"
    }
   },
   "source": [
    "- The first part is the constant 3, representing the three assignment statements at the start of the fragment.\n",
    "- The second part is $3n^2$ due to the nested iteration. \n",
    "- The third part is $2n$ and the fourth part is the constant 1, representing the final assignment statement."
   ]
  },
  {
   "cell_type": "markdown",
   "metadata": {
    "id": "DZd-K-Z-J14O",
    "slideshow": {
     "slide_type": "subslide"
    }
   },
   "source": [
    "This gives us $T(n)=3+3n^2+2n+1=3n^2+2n+4$. We can see that the $n^2$ term will be dominant and therefore this code is $O(n^2)$. All of the other terms as well as the coefficient on the dominant term can be ignored as $n$ grows larger!"
   ]
  },
  {
   "cell_type": "markdown",
   "metadata": {
    "slideshow": {
     "slide_type": "fragment"
    }
   },
   "source": [
    "<center><img src=\"imgs/bigO2.png\" width=\"40%\" /></center>"
   ]
  },
  {
   "cell_type": "markdown",
   "metadata": {
    "slideshow": {
     "slide_type": "skip"
    }
   },
   "source": [
    "Note that $T(n)$ is initially larger than the cubic function. However, as $n$ grows, the cubic function quickly overtakes $T(n)$. It is easy to see that $T(n)$ then follows the quadratic function as $n$ continues to grow."
   ]
  },
  {
   "cell_type": "markdown",
   "metadata": {
    "slideshow": {
     "slide_type": "subslide"
    }
   },
   "source": [
    "#### Exercise: Write two `Python` functions to find the minimum number in a list. The first function should compare each number to every other number on the list. $O(n^2)$. The second function should be linear $O(n)$."
   ]
  },
  {
   "cell_type": "code",
   "execution_count": null,
   "metadata": {
    "slideshow": {
     "slide_type": "fragment"
    }
   },
   "outputs": [],
   "source": [
    "## Your code here"
   ]
  },
  {
   "cell_type": "markdown",
   "metadata": {
    "id": "Sb2mHWztJ14V",
    "slideshow": {
     "slide_type": "slide"
    }
   },
   "source": [
    "## 2.4 An Anagram Detection Example"
   ]
  },
  {
   "cell_type": "markdown",
   "metadata": {
    "id": "exxX2n_BJ14V",
    "slideshow": {
     "slide_type": "subslide"
    }
   },
   "source": [
    "One string is an **anagram** of another if the second is simply a rearrangement of the first. For example, \"heart\" and \"earth\" are anagrams. The strings \"python\" and \"typhon\" are anagrams as well!"
   ]
  },
  {
   "cell_type": "markdown",
   "metadata": {
    "id": "OXKHZgycJ14V",
    "slideshow": {
     "slide_type": "fragment"
    }
   },
   "source": [
    "For the sake of simplicity, we will assume that the two strings in question are of **equal length** and that they are made up of symbols from the set of 26 lowercase alphabetic characters. "
   ]
  },
  {
   "cell_type": "markdown",
   "metadata": {
    "id": "HtcIVAvjJ14V",
    "slideshow": {
     "slide_type": "fragment"
    }
   },
   "source": [
    "Our goal is to write a boolean function that will take two strings and return whether they are anagrams."
   ]
  },
  {
   "cell_type": "markdown",
   "metadata": {
    "id": "eb-FzjxHJ14W",
    "slideshow": {
     "slide_type": "subslide"
    }
   },
   "source": [
    "### 2.4.1 Solution 1: Anagram Detection Checking Off"
   ]
  },
  {
   "cell_type": "markdown",
   "metadata": {
    "id": "HUdT0USRJ14W",
    "slideshow": {
     "slide_type": "subslide"
    }
   },
   "source": [
    "Our first solution to the anagram problem will:\n",
    "\n",
    "1. Check the lengths of the strings"
   ]
  },
  {
   "cell_type": "markdown",
   "metadata": {
    "slideshow": {
     "slide_type": "fragment"
    }
   },
   "source": [
    "2. Check to see that each character in the first string actually occurs in the second. If it is possible to check off each character, then the two strings must be anagrams."
   ]
  },
  {
   "cell_type": "markdown",
   "metadata": {
    "slideshow": {
     "slide_type": "fragment"
    }
   },
   "source": [
    "Checking off a character will be accomplished by replacing it with the special value `None`. However, since strings in `Python` are immutable, the first step will be to convert the second string to a `list`. Each character from the first string can be checked against the characters in the list and if found, checked off by `None`."
   ]
  },
  {
   "cell_type": "code",
   "execution_count": 9,
   "metadata": {
    "colab": {
     "base_uri": "https://localhost:8080/"
    },
    "executionInfo": {
     "elapsed": 298,
     "status": "ok",
     "timestamp": 1683101092815,
     "user": {
      "displayName": "phonchi chung",
      "userId": "13517391734500420886"
     },
     "user_tz": -480
    },
    "id": "zFaZR6kPJ14a",
    "outputId": "4eee32f7-dc06-4c6e-d913-0204e4edce82",
    "slideshow": {
     "slide_type": "subslide"
    }
   },
   "outputs": [],
   "source": [
    "def anagram_solution_1(s1, s2):\n",
    "    still_ok = True\n",
    "    if len(s1) != len(s2): # Step1\n",
    "        still_ok = False\n",
    "\n",
    "    a_list = list(s2)\n",
    "    pos_1 = 0\n",
    "\n",
    "    while pos_1 < len(s1) and still_ok: # Step2\n",
    "        pos_2 = 0\n",
    "        found = False\n",
    "        while pos_2 < len(a_list) and not found:\n",
    "            if s1[pos_1] == a_list[pos_2]:\n",
    "                found = True\n",
    "            else:\n",
    "                pos_2 = pos_2 + 1\n",
    "        if found:\n",
    "            a_list[pos_2] = None\n",
    "        else:\n",
    "            still_ok = False\n",
    "        pos_1 = pos_1 + 1\n",
    "\n",
    "    return still_ok"
   ]
  },
  {
   "cell_type": "code",
   "execution_count": null,
   "metadata": {
    "id": "XKJ5pQ1IJ14b",
    "slideshow": {
     "slide_type": "subslide"
    }
   },
   "outputs": [],
   "source": [
    "print(anagram_solution_1(\"apple\", \"pleap\"))  # expected: True\n",
    "print(anagram_solution_1(\"abcd\", \"dcba\"))  # expected: True\n",
    "print(anagram_solution_1(\"abcd\", \"dcda\"))  # expected: False"
   ]
  },
  {
   "cell_type": "markdown",
   "metadata": {
    "colab": {
     "base_uri": "https://localhost:8080/"
    },
    "executionInfo": {
     "elapsed": 295,
     "status": "ok",
     "timestamp": 1683101448651,
     "user": {
      "displayName": "phonchi chung",
      "userId": "13517391734500420886"
     },
     "user_tz": -480
    },
    "id": "j22nb9uwJ14b",
    "outputId": "837a3c03-57f0-4a62-a037-b9464c17b064",
    "slideshow": {
     "slide_type": "fragment"
    }
   },
   "source": [
    "Each of the $n$ characters in `s1` will cause an iteration through up to $n$ characters in the list from `s2`. Each of the $n$ positions in the list will be visited once to match a character from s1. The number of visits then becomes the sum of the integers from 1 to $n$. Therfore, $\\sum_{i=1}^{n} i = \\frac {n(n+1)}{2}$!"
   ]
  },
  {
   "cell_type": "markdown",
   "metadata": {
    "id": "mLP54ctYJ14b",
    "slideshow": {
     "slide_type": "fragment"
    }
   },
   "source": [
    "As $n$ gets large, the $n^2$ term will dominate. Therefore, this solution is $O(n^2)$."
   ]
  },
  {
   "cell_type": "markdown",
   "metadata": {
    "id": "5evnCAylJ14b",
    "slideshow": {
     "slide_type": "subslide"
    }
   },
   "source": [
    "### 2.4.2  Solution 2: Sort and Compare"
   ]
  },
  {
   "cell_type": "markdown",
   "metadata": {
    "id": "rDvyWSaCJ14b",
    "slideshow": {
     "slide_type": "subslide"
    }
   },
   "source": [
    "Another solution to the anagram problem will make use of the fact that even though `s1` and `s2` are different, they are anagrams only if they consist of exactly the same characters."
   ]
  },
  {
   "cell_type": "markdown",
   "metadata": {
    "slideshow": {
     "slide_type": "fragment"
    }
   },
   "source": [
    "So if we begin by sorting each string alphabetically from a to z, we will end up with the same string if the original two strings are anagrams!"
   ]
  },
  {
   "cell_type": "code",
   "execution_count": 10,
   "metadata": {
    "id": "rn4dQ-7RJ14c",
    "slideshow": {
     "slide_type": "subslide"
    }
   },
   "outputs": [],
   "source": [
    "def anagram_solution_2(s1, s2):\n",
    "    a_list_1 = list(s1)\n",
    "    a_list_2 = list(s2)\n",
    "\n",
    "    a_list_1.sort()\n",
    "    a_list_2.sort()\n",
    "\n",
    "    pos = 0\n",
    "    matches = True\n",
    "\n",
    "    while pos < len(s1) and matches:\n",
    "        if a_list_1[pos] == a_list_2[pos]:\n",
    "            pos = pos + 1\n",
    "        else:\n",
    "            matches = False\n",
    "\n",
    "    return matches"
   ]
  },
  {
   "cell_type": "code",
   "execution_count": 11,
   "metadata": {
    "slideshow": {
     "slide_type": "fragment"
    }
   },
   "outputs": [
    {
     "name": "stdout",
     "output_type": "stream",
     "text": [
      "True\n",
      "True\n",
      "False\n"
     ]
    }
   ],
   "source": [
    "print(anagram_solution_2(\"apple\", \"pleap\"))  # expected: True\n",
    "print(anagram_solution_2(\"abcd\", \"dcba\"))  # expected: True\n",
    "print(anagram_solution_2(\"abcd\", \"dcda\"))  # expected: False"
   ]
  },
  {
   "cell_type": "markdown",
   "metadata": {
    "colab": {
     "base_uri": "https://localhost:8080/"
    },
    "executionInfo": {
     "elapsed": 279,
     "status": "ok",
     "timestamp": 1683101588324,
     "user": {
      "displayName": "phonchi chung",
      "userId": "13517391734500420886"
     },
     "user_tz": -480
    },
    "id": "qsx-08WCJ14c",
    "outputId": "e17f0651-5f3e-45f8-cdc4-2ad534a2aacf",
    "slideshow": {
     "slide_type": "subslide"
    }
   },
   "source": [
    "At first glance you may be tempted to think that this algorithm is $O(n)$, since there is one simple iteration to compare the $n$ characters after the sorting process. However, the two calls to the `Python` `sort()` method are not without their own cost. As we will see in Chapter 5, sorting is typically either $O(n^2)$ or $O(n\\log n)$, so the sorting operations dominate the iteration."
   ]
  },
  {
   "cell_type": "markdown",
   "metadata": {
    "slideshow": {
     "slide_type": "subslide"
    }
   },
   "source": [
    "### 2.4.3  Solution 3: Brute Force"
   ]
  },
  {
   "cell_type": "markdown",
   "metadata": {
    "slideshow": {
     "slide_type": "subslide"
    }
   },
   "source": [
    "A <u>brute force</u> technique for solving a problem tries to exhaust all possibilities. For the anagram detection problem, we can simply generate a list of all possible strings using the characters from `s1` and then see if `s2` occurs. "
   ]
  },
  {
   "cell_type": "markdown",
   "metadata": {
    "slideshow": {
     "slide_type": "fragment"
    }
   },
   "source": [
    "However, when generating all possible strings from `s1`, there are $n$ possible first characters, $n-1$ possible characters for the second position, and so on. The total number of candidate strings is $n!$. Although some of the strings may be duplicates, the program cannot know this ahead of time!"
   ]
  },
  {
   "cell_type": "markdown",
   "metadata": {
    "slideshow": {
     "slide_type": "subslide"
    }
   },
   "source": [
    "It turns out that $n!$ grows even faster than $2^n$ as $n$ gets large. In fact, if `s1` were 20 characters long, there would be $20! = 2,432,902,008,176,640,000$ possible candidate strings. If we processed one possibility every second, it would still take us $77,146,816,596$ years to go through the entire list!"
   ]
  },
  {
   "cell_type": "markdown",
   "metadata": {
    "id": "T6H4VdkAJ14c",
    "slideshow": {
     "slide_type": "subslide"
    }
   },
   "source": [
    "### 2.4.4  Solution 4: Count and Compare"
   ]
  },
  {
   "cell_type": "markdown",
   "metadata": {
    "id": "sAszrEnnJ14d",
    "slideshow": {
     "slide_type": "subslide"
    }
   },
   "source": [
    "Our final solution to the anagram problem takes advantage of the fact that any two anagrams will have the same number of a’s, the same number of b’s, the same number of c’s, and so on. "
   ]
  },
  {
   "cell_type": "markdown",
   "metadata": {
    "slideshow": {
     "slide_type": "fragment"
    }
   },
   "source": [
    "In order to decide whether two strings are anagrams\n",
    "\n",
    "1. First count the number of times each character occurs. Since there are 26 possible characters, we can use a list of 26 counters, one for each possible character. Each time we see a particular character, we will increment the counter at that position. "
   ]
  },
  {
   "cell_type": "markdown",
   "metadata": {
    "slideshow": {
     "slide_type": "fragment"
    }
   },
   "source": [
    "2. In the end, if the two lists of counters are identical, the strings must be anagrams!"
   ]
  },
  {
   "cell_type": "code",
   "execution_count": 12,
   "metadata": {
    "colab": {
     "base_uri": "https://localhost:8080/"
    },
    "executionInfo": {
     "elapsed": 343,
     "status": "ok",
     "timestamp": 1683101709851,
     "user": {
      "displayName": "phonchi chung",
      "userId": "13517391734500420886"
     },
     "user_tz": -480
    },
    "id": "aybBqNHdJ14d",
    "outputId": "cc2890de-0f67-4c7b-c70d-d966140669ce",
    "slideshow": {
     "slide_type": "subslide"
    }
   },
   "outputs": [],
   "source": [
    "def anagram_solution_4(s1, s2):\n",
    "    c1 = [0] * 26 # Step 1, use ASCII code\n",
    "    c2 = [0] * 26\n",
    "\n",
    "    for i in range(len(s1)):\n",
    "        pos = ord(s1[i]) - ord(\"a\")\n",
    "        c1[pos] = c1[pos] + 1\n",
    "\n",
    "    for i in range(len(s2)):\n",
    "        pos = ord(s2[i]) - ord(\"a\")\n",
    "        c2[pos] = c2[pos] + 1\n",
    "\n",
    "    j = 0\n",
    "    still_ok = True # Step 2\n",
    "    while j < 26 and still_ok:\n",
    "        if c1[j] == c2[j]:\n",
    "            j = j + 1\n",
    "        else:\n",
    "            still_ok = False\n",
    "\n",
    "    return still_ok"
   ]
  },
  {
   "cell_type": "code",
   "execution_count": 13,
   "metadata": {
    "id": "c5cVK04hJ14d",
    "slideshow": {
     "slide_type": "fragment"
    }
   },
   "outputs": [
    {
     "name": "stdout",
     "output_type": "stream",
     "text": [
      "True\n",
      "True\n",
      "False\n"
     ]
    }
   ],
   "source": [
    "print(anagram_solution_4(\"apple\", \"pleap\"))  # expected: True\n",
    "print(anagram_solution_4(\"abcd\", \"dcba\"))  # expected: True\n",
    "print(anagram_solution_4(\"abcd\", \"dcda\"))  # expected: False"
   ]
  },
  {
   "cell_type": "markdown",
   "metadata": {
    "id": "ZzmywYm1J14e",
    "slideshow": {
     "slide_type": "subslide"
    }
   },
   "source": [
    "Unlike the first solution, none of the loops are nested. The first two iterations used to count the characters are both based on $n$. The third iteration, comparing the two lists of counts, always takes 26 steps since there are 26 possible characters in the strings. Adding it all up gives us $T(n)=2n+26$ steps. That is $O(n)$. We have found a linear order of magnitude algorithm for solving this problem!"
   ]
  },
  {
   "cell_type": "markdown",
   "metadata": {
    "colab": {
     "base_uri": "https://localhost:8080/"
    },
    "executionInfo": {
     "elapsed": 2,
     "status": "ok",
     "timestamp": 1683102465996,
     "user": {
      "displayName": "phonchi chung",
      "userId": "13517391734500420886"
     },
     "user_tz": -480
    },
    "id": "1FJPykoruLi6",
    "outputId": "0129b8fa-a822-4b51-bfc3-7a4441616252",
    "slideshow": {
     "slide_type": "fragment"
    }
   },
   "source": [
    "Before leaving this example, we need to say something about **space requirements**. Although the last solution was able to run in linear time, it could only do so by using additional storage to keep the two lists of character counts. **In other words, this algorithm sacrificed space in order to gain time.**"
   ]
  },
  {
   "cell_type": "markdown",
   "metadata": {
    "id": "KhJfQMXwuZUA",
    "slideshow": {
     "slide_type": "fragment"
    }
   },
   "source": [
    "On many occasions you will need to make decisions between <u>time and space trade-offs</u>. In this case, the amount of extra space is not significant. However, if the underlying alphabet had millions of characters, there would be more concern."
   ]
  },
  {
   "cell_type": "markdown",
   "metadata": {
    "id": "K1b3Kbbs1iqO",
    "slideshow": {
     "slide_type": "slide"
    }
   },
   "source": [
    "## 2.6 Performance of `Python` Data Structures: Lists"
   ]
  },
  {
   "cell_type": "markdown",
   "metadata": {
    "slideshow": {
     "slide_type": "subslide"
    }
   },
   "source": [
    "`Python` had many choices to make when they implemented the `list` data structure. To help them make the right choices they looked at the ways that people would most commonly use the `list`, and they optimized their implementation of a `list` so that the most common operations were very fast!"
   ]
  },
  {
   "cell_type": "markdown",
   "metadata": {
    "slideshow": {
     "slide_type": "fragment"
    }
   },
   "source": [
    "Of course they also tried to make the less common operations fast, but when a trade-off had to be made the performance of a less common operation was often sacrificed in favor of the more common operation."
   ]
  },
  {
   "cell_type": "markdown",
   "metadata": {
    "slideshow": {
     "slide_type": "fragment"
    }
   },
   "source": [
    "Two common operations are <u>indexing</u> and <u>assigning to an index position</u>. Both of these operations take the same amount of time no matter how large the list becomes. When an operation like this is independent of the size of the list, it is $O(1)$."
   ]
  },
  {
   "cell_type": "markdown",
   "metadata": {
    "slideshow": {
     "slide_type": "subslide"
    }
   },
   "source": [
    "Another very common programming task is to grow a list. You can use the `append()` method or the concatenation operator. The `append()` method is $O(1)$. However, the concatenation operator is $O(k)$, where $k$ is the size of the list that is being concatenated. This is important because it can help you make your own programs more efficient by choosing the right tool for the job."
   ]
  },
  {
   "cell_type": "markdown",
   "metadata": {
    "slideshow": {
     "slide_type": "fragment"
    }
   },
   "source": [
    "Let’s look at four different ways we might generate a list of $n$ numbers starting with 0.  \n",
    "\n",
    "1. First we’ll try a `for` loop and create the `list` by concatenation\n",
    "2. We’ll use `append()` rather than concatenation. "
   ]
  },
  {
   "cell_type": "markdown",
   "metadata": {
    "slideshow": {
     "slide_type": "fragment"
    }
   },
   "source": [
    "3. Next, we’ll try creating the `list` using <u>list comprehension</u>\n",
    "4. using the `range()` function wrapped by a call to the `list` constructor."
   ]
  },
  {
   "cell_type": "code",
   "execution_count": 14,
   "metadata": {
    "slideshow": {
     "slide_type": "subslide"
    }
   },
   "outputs": [],
   "source": [
    "def test1():\n",
    "    l = []\n",
    "    for i in range(1000):\n",
    "        l = l + [i]\n",
    "\n",
    "def test2():\n",
    "    l = []\n",
    "    for i in range(1000):\n",
    "        l.append(i)\n",
    "\n",
    "def test3():\n",
    "    l = [i for i in range(1000)]\n",
    "\n",
    "def test4():\n",
    "    l = list(range(1000))"
   ]
  },
  {
   "cell_type": "markdown",
   "metadata": {
    "slideshow": {
     "slide_type": "fragment"
    }
   },
   "source": [
    "We will use `Python`’s `timeit` module. The module is designed to allow developers to make cross-platform timing measurements by running functions in a consistent environment and using timing mechanisms that are as similar as possible across operating systems!"
   ]
  },
  {
   "cell_type": "markdown",
   "metadata": {
    "slideshow": {
     "slide_type": "subslide"
    }
   },
   "source": [
    "To use `timeit` you create a `Timer` object whose parameters are two `Python` statements. \n",
    "\n",
    "1. The first parameter is a `Python` statement that you want to time\n",
    "2. The second parameter is a statement that will run once to set up the test. "
   ]
  },
  {
   "cell_type": "markdown",
   "metadata": {
    "slideshow": {
     "slide_type": "fragment"
    }
   },
   "source": [
    "By default, `timeit` will try to run the statement one million times. When it’s done it returns the time as a floating-point value representing the total number of seconds."
   ]
  },
  {
   "cell_type": "markdown",
   "metadata": {
    "slideshow": {
     "slide_type": "fragment"
    }
   },
   "source": [
    "You can also pass `timeit` a named parameter called `number` that allows you to specify how many times the test statement is executed. "
   ]
  },
  {
   "cell_type": "code",
   "execution_count": 15,
   "metadata": {
    "slideshow": {
     "slide_type": "subslide"
    }
   },
   "outputs": [
    {
     "name": "stdout",
     "output_type": "stream",
     "text": [
      "concatenation:            1.09 milliseconds\n",
      "appending:                0.04 milliseconds\n",
      "list comprehension:       0.02 milliseconds\n",
      "list range:               0.01 milliseconds\n"
     ]
    }
   ],
   "source": [
    "from timeit import Timer\n",
    "\n",
    "t1 = Timer(\"test1()\", \"from __main__ import test1\")\n",
    "print(f\"concatenation: {t1.timeit(number=1000):15.2f} milliseconds\")\n",
    "t2 = Timer(\"test2()\", \"from __main__ import test2\")\n",
    "print(f\"appending: {t2.timeit(number=1000):19.2f} milliseconds\")\n",
    "t3 = Timer(\"test3()\", \"from __main__ import test3\")\n",
    "print(f\"list comprehension: {t3.timeit(number=1000):10.2f} milliseconds\")\n",
    "t4 = Timer(\"test4()\", \"from __main__ import test4\")\n",
    "print(f\"list range: {t4.timeit(number=1000):18.2f} milliseconds\")"
   ]
  },
  {
   "cell_type": "markdown",
   "metadata": {
    "slideshow": {
     "slide_type": "fragment"
    }
   },
   "source": [
    "In the experiment above the statement that we are timing is the function call to `test1()`, `test2()`, and so on. You are probably very familiar with the `from... import` statement, but this is usually used at the beginning of a `Python` program file. "
   ]
  },
  {
   "cell_type": "markdown",
   "metadata": {
    "slideshow": {
     "slide_type": "subslide"
    }
   },
   "source": [
    "In this case the statement `from __main__ import test1` imports the function `test1` from the `__main__` namespace into the namespace that `timeit` sets up experiment. The `timeit` module wants to run the timing tests in an environment that is uncluttered by any variables you may have created that may interfere with your function’s performance in some way!"
   ]
  },
  {
   "cell_type": "markdown",
   "metadata": {
    "slideshow": {
     "slide_type": "fragment"
    }
   },
   "source": [
    "From the experiment above it is clear that the `append()` operation is much faster than concatenation. It is interesting to note that the list comprehension is twice as fast as a `for` loop with an `append()` operation."
   ]
  },
  {
   "cell_type": "markdown",
   "metadata": {
    "slideshow": {
     "slide_type": "fragment"
    }
   },
   "source": [
    "One final observation is that all of the times that you see above include some overhead for actually calling the test function, but we can assume that the function call overhead is identical in all four cases so we still get a meaningful comparison of the operations. As an exercise you could test the time it takes to call an empty function and subtract that from the numbers above!"
   ]
  },
  {
   "cell_type": "markdown",
   "metadata": {
    "slideshow": {
     "slide_type": "subslide"
    }
   },
   "source": [
    "You can look at Table below to see the Big O efficiency of all the basic list operations."
   ]
  },
  {
   "cell_type": "markdown",
   "metadata": {
    "slideshow": {
     "slide_type": "fragment"
    }
   },
   "source": [
    "| Operation        | Big O Efficiency |\n",
    "|------------------|------------------|\n",
    "| index `[]`         | O(1)             |\n",
    "| index assignment | O(1)             |\n",
    "| `append()`           | O(1)             |\n",
    "| `pop()`            | O(1)             |\n",
    "| `pop(i)`           | O(n)             |\n",
    "| `insert(i, item)`  | O(n)             |\n",
    "| `del` operator     | O(n)             |\n",
    "| iteration        | O(n)             |\n",
    "| contains (`in`)    | O(n)             |\n",
    "| get slice `[x:y]`  | O(k)             |\n",
    "| del slice        | O(n)             |\n",
    "| set slice        | O(n+k)           |\n",
    "| `reverse()`          | O(n)             |\n",
    "| concatenate      | O(k)             |\n",
    "| `sort()`             | O(n log n)       |\n",
    "| multiply         | O(nk)            |\n"
   ]
  },
  {
   "cell_type": "markdown",
   "metadata": {
    "slideshow": {
     "slide_type": "subslide"
    }
   },
   "source": [
    "You may be wondering about the two different times for `pop()`. When pop is called on the end of the `list` it takes $O(1)$, but when pop is called on the first element in the `list` — or anywhere in the middle — it is $O(n)$. "
   ]
  },
  {
   "cell_type": "markdown",
   "metadata": {
    "slideshow": {
     "slide_type": "fragment"
    }
   },
   "source": [
    "When an item is taken from the front of the `list`, all the other elements in the `list` are shifted one position closer to the beginning. This may seem silly to you now, but if you look at Table you will see that this implementation also allows the index operation to be $O(1)$. This is a tradeoff that the Python designers thought was a good one!"
   ]
  },
  {
   "cell_type": "markdown",
   "metadata": {
    "slideshow": {
     "slide_type": "subslide"
    }
   },
   "source": [
    "Let’s do another experiment using the `timeit` module. Our goal is to be able to verify the performance of the `pop()` operation on a `list` of a known size when the program pops from the end of the list, and again when the program pops from the beginning of the list."
   ]
  },
  {
   "cell_type": "code",
   "execution_count": 16,
   "metadata": {
    "slideshow": {
     "slide_type": "fragment"
    }
   },
   "outputs": [
    {
     "name": "stdout",
     "output_type": "stream",
     "text": [
      "pop(0):    0.72283 milliseconds\n",
      "pop():     0.00004 milliseconds\n"
     ]
    }
   ],
   "source": [
    "# we do want to be able to use the list object x in our test\n",
    "# This approach allows us to time just the single pop statement \n",
    "# and get the most accurate measure of the time for that single operation\n",
    "pop_zero = Timer(\"x.pop(0)\", \"from __main__ import x\")\n",
    "pop_end = Timer(\"x.pop()\", \"from __main__ import x\")\n",
    "\n",
    "x = list(range(2000000))\n",
    "print(f\"pop(0): {pop_zero.timeit(number=1000):10.5f} milliseconds\")\n",
    "\n",
    "x = list(range(2000000))\n",
    "print(f\"pop(): {pop_end.timeit(number=1000):11.5f} milliseconds\")"
   ]
  },
  {
   "cell_type": "markdown",
   "metadata": {
    "slideshow": {
     "slide_type": "subslide"
    }
   },
   "source": [
    "The above shows one attempt to measure the difference between the two uses of `pop()`. Popping from the end is much faster than popping from the beginning. However, this does not validate the claim that `pop(0)` is $O(n)$ while `pop()` is $O(1)$. To validate that claim we need to look at the performance of both calls over a range of `list` sizes:"
   ]
  },
  {
   "cell_type": "code",
   "execution_count": 17,
   "metadata": {
    "slideshow": {
     "slide_type": "fragment"
    }
   },
   "outputs": [
    {
     "name": "stdout",
     "output_type": "stream",
     "text": [
      "n                  pop(0)          pop()\n",
      "1000000           0.20570        0.00004\n",
      "2000000           0.77414        0.00004\n",
      "3000000           1.56184        0.00004\n",
      "4000000           1.85473        0.00004\n",
      "5000000           2.43492        0.00004\n",
      "6000000           2.95523        0.00004\n",
      "7000000           3.55318        0.00004\n",
      "8000000           4.09937        0.00004\n",
      "9000000           4.67260        0.00004\n",
      "10000000          5.17886        0.00004\n"
     ]
    }
   ],
   "source": [
    "pop_zero = Timer(\"x.pop(0)\", \"from __main__ import x\")\n",
    "pop_end = Timer(\"x.pop()\", \"from __main__ import x\")\n",
    "print(f\"{'n':10s}{'pop(0)':>15s}{'pop()':>15s}\")\n",
    "for i in range(1_000_000, 10_000_001, 1_000_000):\n",
    "    x = list(range(i))\n",
    "    pop_zero_t = pop_zero.timeit(number=1000)\n",
    "    x = list(range(i))\n",
    "    pop_end_t = pop_end.timeit(number=1000)\n",
    "    print(f\"{i:<10d}{pop_zero_t:>15.5f}{pop_end_t:>15.5f}\")"
   ]
  },
  {
   "cell_type": "markdown",
   "metadata": {
    "slideshow": {
     "slide_type": "subslide"
    }
   },
   "source": [
    "<center><img src=\"imgs/pop_benchmark.png\" width=\"40%\" /></center>"
   ]
  },
  {
   "cell_type": "markdown",
   "metadata": {
    "slideshow": {
     "slide_type": "fragment"
    }
   },
   "source": [
    "You can see that as the list gets longer and longer the time it takes to `pop(0)` also increases while the time for `pop()` stays very flat. This is exactly what we would expect to see for an $O(n)$ and $O(1)$ algorithm!"
   ]
  },
  {
   "cell_type": "markdown",
   "metadata": {
    "slideshow": {
     "slide_type": "skip"
    }
   },
   "source": [
    "There is also a handy module called `big-o` that you can use:"
   ]
  },
  {
   "cell_type": "code",
   "execution_count": null,
   "metadata": {
    "slideshow": {
     "slide_type": "skip"
    }
   },
   "outputs": [],
   "source": [
    "%pip install big-o -qq"
   ]
  },
  {
   "cell_type": "code",
   "execution_count": null,
   "metadata": {
    "slideshow": {
     "slide_type": "skip"
    }
   },
   "outputs": [],
   "source": [
    "import big_o\n",
    "c_class = [big_o.complexities.Constant, big_o.complexities.Logarithmic, big_o.complexities.Linear, big_o.complexities.Linearithmic,\n",
    "               big_o.complexities.Quadratic, big_o.complexities.Polynomial,  big_o.complexities.Exponential]"
   ]
  },
  {
   "cell_type": "code",
   "execution_count": null,
   "metadata": {
    "slideshow": {
     "slide_type": "skip"
    }
   },
   "outputs": [],
   "source": [
    "def pop_0(lst):\n",
    "    lst.pop(0)\n",
    "\n",
    "best, others = big_o.big_o(pop_0, big_o.datagen.range_n, classes=c_class, n_measures=10, min_n=1000, max_n=10_000_000, verbose=True)"
   ]
  },
  {
   "cell_type": "code",
   "execution_count": null,
   "metadata": {
    "slideshow": {
     "slide_type": "skip"
    }
   },
   "outputs": [],
   "source": [
    "best"
   ]
  },
  {
   "cell_type": "code",
   "execution_count": null,
   "metadata": {
    "slideshow": {
     "slide_type": "skip"
    }
   },
   "outputs": [],
   "source": [
    "def pop_0(lst):\n",
    "    lst.pop()\n",
    "\n",
    "best, others = big_o.big_o(pop_0, big_o.datagen.range_n, classes=c_class, n_measures=10, min_n=1000, max_n=10_000_000, verbose=True)"
   ]
  },
  {
   "cell_type": "code",
   "execution_count": null,
   "metadata": {
    "slideshow": {
     "slide_type": "skip"
    }
   },
   "outputs": [],
   "source": [
    "best"
   ]
  },
  {
   "cell_type": "code",
   "execution_count": null,
   "metadata": {
    "slideshow": {
     "slide_type": "skip"
    }
   },
   "outputs": [],
   "source": [
    "big_o.datagen.range_n(10)"
   ]
  },
  {
   "cell_type": "markdown",
   "metadata": {
    "slideshow": {
     "slide_type": "skip"
    }
   },
   "source": [
    "See https://github.com/pberkes/big_O/issues/31 for why cube is not passed."
   ]
  },
  {
   "cell_type": "markdown",
   "metadata": {
    "slideshow": {
     "slide_type": "subslide"
    }
   },
   "source": [
    "#### Exercise: Devise an experiment to verify that the list index operator is $O(1)$."
   ]
  },
  {
   "cell_type": "code",
   "execution_count": null,
   "metadata": {
    "slideshow": {
     "slide_type": "fragment"
    }
   },
   "outputs": [],
   "source": [
    "## Your code here"
   ]
  },
  {
   "cell_type": "markdown",
   "metadata": {
    "slideshow": {
     "slide_type": "slide"
    }
   },
   "source": [
    "## 2.7 Dictionaries"
   ]
  },
  {
   "cell_type": "markdown",
   "metadata": {
    "slideshow": {
     "slide_type": "subslide"
    }
   },
   "source": [
    "The second major `Python` data structure is the `dictionary`. As you probably recall, `dictionaries` differ from `lists` in that you can access items in a `dictionary` by a **key** rather than a position. Later in this book you will see that there are many ways to implement a dictionary!"
   ]
  },
  {
   "cell_type": "markdown",
   "metadata": {
    "slideshow": {
     "slide_type": "fragment"
    }
   },
   "source": [
    "The thing that is most important to notice right now is that the get item and set item operations on a dictionary are $O(1)$. Another important dictionary operation is the `contains` operation. Checking to see whether a key is in the dictionary or not is also $O(1)$. The efficiency of all dictionary operations is summarized in Table below:"
   ]
  },
  {
   "cell_type": "markdown",
   "metadata": {
    "slideshow": {
     "slide_type": "subslide"
    }
   },
   "source": [
    "| Operation     | Big O Efficiency |\n",
    "|---------------|------------------|\n",
    "| copy          | O(n)             |\n",
    "| get item      | O(1)             |\n",
    "| set item      | O(1)             |\n",
    "| delete item   | O(1)             |\n",
    "| contains (in) | O(1)             |\n",
    "| iteration     | O(n)             |"
   ]
  },
  {
   "cell_type": "markdown",
   "metadata": {
    "slideshow": {
     "slide_type": "fragment"
    }
   },
   "source": [
    "One important side note on dictionary performance is that the efficiencies we provide in the table are for **average performance**. In some rare cases the contains, get item, and set item operations can degenerate into [$O(n)$\n",
    " performance](https://github.com/AbdulMalikDev/PythonCheatSheet?tab=readme-ov-file), you can refer to Chapter 8 for more information."
   ]
  },
  {
   "cell_type": "markdown",
   "metadata": {
    "slideshow": {
     "slide_type": "subslide"
    }
   },
   "source": [
    "For our last performance experiment we will compare the performance of the `contains` operation between lists and dictionaries. In the process we will confirm that the contains operator for lists is $O(n)$ and the contains operator for dictionaries is $O(1)$."
   ]
  },
  {
   "cell_type": "code",
   "execution_count": 18,
   "metadata": {
    "slideshow": {
     "slide_type": "fragment"
    }
   },
   "outputs": [
    {
     "name": "stdout",
     "output_type": "stream",
     "text": [
      "n               list      dict\n",
      "10,000         0.040     0.000\n",
      "110,000        0.438     0.001\n",
      "210,000        0.833     0.001\n",
      "310,000        1.242     0.001\n",
      "410,000        1.729     0.001\n",
      "510,000        2.091     0.001\n",
      "610,000        2.596     0.001\n",
      "710,000        2.988     0.001\n",
      "810,000        3.377     0.001\n",
      "910,000        3.856     0.001\n"
     ]
    }
   ],
   "source": [
    "import timeit\n",
    "import random\n",
    "\n",
    "print(f\"{'n':10s}{'list':>10s}{'dict':>10s}\")\n",
    "for i in range(10_000, 1_000_001, 100_000):\n",
    "    t = timeit.Timer(f\"random.randrange({i}) in x\",\n",
    "    \"from __main__ import random, x\")\n",
    "    x = list(range(i))\n",
    "    lst_time = t.timeit(number=1000)\n",
    "    x = {j: None for j in range(i)}\n",
    "    dict_time = t.timeit(number=1000)\n",
    "    print(f\"{i:<10,}{lst_time:>10.3f}{dict_time:>10.3f}\")"
   ]
  },
  {
   "attachments": {},
   "cell_type": "markdown",
   "metadata": {
    "slideshow": {
     "slide_type": "subslide"
    }
   },
   "source": [
    "<center><img src=\"imgs/dict_benchmark.png\" width=\"40%\" /></center>"
   ]
  },
  {
   "cell_type": "markdown",
   "metadata": {
    "slideshow": {
     "slide_type": "fragment"
    }
   },
   "source": [
    "You can see that the `dictionary` is consistently faster. You can also see that the time it takes for the `contains` operator on the `list` grows linearly with the size of the `list`. This verifies the assertion that the `contains` operator on a `list` is $O(n)$. It can also be seen that the time for the `contains` operator on a dictionary is constant even as the dictionary size grows."
   ]
  },
  {
   "cell_type": "markdown",
   "metadata": {
    "slideshow": {
     "slide_type": "skip"
    }
   },
   "source": [
    "You can check more in [here](https://wiki.python.org/moin/TimeComplexity)."
   ]
  },
  {
   "cell_type": "markdown",
   "metadata": {
    "slideshow": {
     "slide_type": "skip"
    }
   },
   "source": [
    "#### Exercise: Given a list of numbers in random order, write an algorithm that works in  $O(n\\log n)$ to find the kth smallest number in the list."
   ]
  },
  {
   "cell_type": "code",
   "execution_count": null,
   "metadata": {
    "slideshow": {
     "slide_type": "skip"
    }
   },
   "outputs": [],
   "source": [
    "## Your code here"
   ]
  },
  {
   "cell_type": "markdown",
   "metadata": {
    "slideshow": {
     "slide_type": "slide"
    }
   },
   "source": [
    "## References"
   ]
  },
  {
   "cell_type": "markdown",
   "metadata": {
    "id": "2teyKp_e1khl",
    "slideshow": {
     "slide_type": "subslide"
    }
   },
   "source": [
    "1. Textbook CH2"
   ]
  },
  {
   "cell_type": "markdown",
   "metadata": {
    "slideshow": {
     "slide_type": "skip"
    }
   },
   "source": [
    "## Key terms"
   ]
  },
  {
   "cell_type": "markdown",
   "metadata": {
    "slideshow": {
     "slide_type": "skip"
    }
   },
   "source": [
    "- **Readability**: The ease with which a human reader can comprehend the purpose, control flow, and operation of source code. It's a measure of how simple it is to understand and maintain code.\n",
    "\n",
    "- **Algorithm Analysis**: The process of determining the computational complexity of algorithms, measuring the amount of computing resources (time and space) an algorithm uses.\n",
    "\n",
    "- **Benchmark Analysis**: Evaluating the performance of program by running a series of standard tests and trials to compare the relative performance of the objects being measured.\n",
    "\n",
    "- **Space Complexity**: The amount of memory space required by an algorithm to execute, as a function of the length of the input.\n",
    "\n",
    "- **Time Complexity**: The computational complexity that describes the amount of time it takes to run an algorithm, typically expressed as a function of the size of the input.\n",
    "\n",
    "- **Big-O**: A notation used to express the upper bound of the time complexity or space complexity of an algorithm, helping to describe how the algorithm scales as the input size grows.\n",
    "\n",
    "- **Average-Case Performance**: The expected time or space complexity of an algorithm when all possible inputs are considered, providing a measure of the algorithm's efficiency under typical conditions.\n",
    "\n",
    "- **Worst-Case Performance**: The maximum time or space complexity of an algorithm across all possible inputs, indicating the algorithm's efficiency in the most unfavorable conditions.\n",
    "\n",
    "- **Brute-Force**: An algorithmic approach that tries all possible solutions to find the answer, typically considered inefficient but simple to implement.\n",
    "\n",
    "- **Time and Space Trade-offs**: The concept that sometimes an algorithm can be made faster by using more memory space, or use less memory at the cost of slower performance, depending on the algorithm's design choices.\n",
    "\n",
    "- **Indexing**: The process of creating an index to improve data retrieval speed by efficiently locating and accessing the data in a data structure.\n",
    "\n",
    "- **Contains Operator**: An operator used in programming to check if a particular element is present within a data structure."
   ]
  }
 ],
 "metadata": {
  "celltoolbar": "Slideshow",
  "colab": {
   "collapsed_sections": [
    "cDAMEH2XJ14T"
   ],
   "provenance": []
  },
  "kernelspec": {
   "display_name": "Python 3 (ipykernel)",
   "language": "python",
   "name": "python3"
  },
  "language_info": {
   "codemirror_mode": {
    "name": "ipython",
    "version": 3
   },
   "file_extension": ".py",
   "mimetype": "text/x-python",
   "name": "python",
   "nbconvert_exporter": "python",
   "pygments_lexer": "ipython3",
   "version": "3.9.13"
  },
  "rise": {
   "chalkboard": {
    "color": [
     "rgb(250, 0, 0)",
     "rgb(250, 0, 0)"
    ]
   },
   "controls": false,
   "enable_chalkboard": true,
   "footer": "",
   "overlay": "<div class='myfooter'><h4>Algorithm Analysis</h4></div>",
   "slideNumber": "true",
   "theme": "night"
  },
  "vscode": {
   "interpreter": {
    "hash": "1561eddc5e0c9c74df968f74d5080d02882967127f956e6e7049c43d2ef42321"
   }
  }
 },
 "nbformat": 4,
 "nbformat_minor": 1
}
