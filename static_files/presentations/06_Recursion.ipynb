{
 "cells": [
  {
   "cell_type": "markdown",
   "metadata": {
    "id": "11n5gndbRzoY",
    "slideshow": {
     "slide_type": "slide"
    }
   },
   "source": [
    "# Recursion\n"
   ]
  },
  {
   "cell_type": "markdown",
   "metadata": {
    "slideshow": {
     "slide_type": "subslide"
    }
   },
   "source": [
    "1. What Is Recursion?\n",
    "\n",
    "2. The Three Laws of Recursion\n",
    "\n",
    "3. Tower of Hanoi\n",
    "\n",
    "4. Exploring the maze\n",
    "\n",
    "5. Dynamic Programming"
   ]
  },
  {
   "cell_type": "markdown",
   "metadata": {
    "slideshow": {
     "slide_type": "slide"
    }
   },
   "source": [
    "## 4.2 What Is Recursion?"
   ]
  },
  {
   "cell_type": "markdown",
   "metadata": {
    "slideshow": {
     "slide_type": "subslide"
    }
   },
   "source": [
    "<u>Recursion</u> is a method of solving problems that involves **breaking a problem down into smaller and smaller subproblems** until you get to a small enough problem that it can be solved trivially."
   ]
  },
  {
   "cell_type": "markdown",
   "metadata": {
    "id": "n9ehxkHHJ14K",
    "slideshow": {
     "slide_type": "fragment"
    }
   },
   "source": [
    "Usually recursion involves a function calling itself. It allows us to write elegant solutions to problems that may otherwise be very difficult to program!"
   ]
  },
  {
   "cell_type": "markdown",
   "metadata": {
    "slideshow": {
     "slide_type": "slide"
    }
   },
   "source": [
    "## 4.3 Calculating the Sum of a List of Numbers"
   ]
  },
  {
   "cell_type": "markdown",
   "metadata": {
    "slideshow": {
     "slide_type": "subslide"
    }
   },
   "source": [
    "Suppose that you want to calculate the sum of a list of numbers such as: `[1,3,5,7,9]`. An iterative function that computes the sum is shownbelow: "
   ]
  },
  {
   "cell_type": "code",
   "execution_count": null,
   "metadata": {
    "slideshow": {
     "slide_type": "fragment"
    }
   },
   "outputs": [],
   "source": [
    "def list_sum(num_list):\n",
    "    the_sum = 0\n",
    "    for i in num_list:\n",
    "        the_sum = the_sum + i\n",
    "    return the_sum\n",
    "\n",
    "print(list_sum([1, 3, 5, 7, 9]))"
   ]
  },
  {
   "cell_type": "markdown",
   "metadata": {
    "slideshow": {
     "slide_type": "fragment"
    }
   },
   "source": [
    "The function uses an accumulator variable (`the_sum`) to compute a running total of all the numbers in the list by starting with 0."
   ]
  },
  {
   "cell_type": "markdown",
   "metadata": {
    "slideshow": {
     "slide_type": "subslide"
    }
   },
   "source": [
    "If we do not have loops. How would you compute the sum of a list of numbers?"
   ]
  },
  {
   "cell_type": "markdown",
   "metadata": {
    "id": "CzEFrClyJ14N",
    "slideshow": {
     "slide_type": "fragment"
    }
   },
   "source": [
    "You might start by recalling that addition is a function that is defined for two parameters, a pair of numbers. To redefine the problem from adding a list to adding pairs of numbers, we could rewrite the list as a **fully parenthesized expression**. Such an expression looks like this:"
   ]
  },
  {
   "cell_type": "markdown",
   "metadata": {
    "slideshow": {
     "slide_type": "fragment"
    }
   },
   "source": [
    "<center><img src=\"imgs/recursion_eq1.png\" width=\"30%\" /></center>"
   ]
  },
  {
   "cell_type": "markdown",
   "metadata": {
    "slideshow": {
     "slide_type": "subslide"
    }
   },
   "source": [
    "Notice that the innermost set of parentheses, $(7+9)$, is a problem that we can solve without a loop or any special constructs!  In fact, we can use the following sequence of simplifications to compute a final sum:"
   ]
  },
  {
   "cell_type": "markdown",
   "metadata": {
    "slideshow": {
     "slide_type": "fragment"
    }
   },
   "source": [
    "<center><img src=\"imgs/recursion_eq2.png\" width=\"35%\" /></center>"
   ]
  },
  {
   "cell_type": "markdown",
   "metadata": {
    "id": "0V5fNcKnJ14N",
    "slideshow": {
     "slide_type": "subslide"
    }
   },
   "source": [
    "First, let’s restate the sum problem in terms of `Python` `lists`. We might say the sum of the list `num_list` is the sum of the first element of the list (`num_list[0]`) and the sum of the numbers in the rest of the list (`num_list[1:]`). To state it in a functional form:"
   ]
  },
  {
   "cell_type": "markdown",
   "metadata": {
    "id": "dd7m-qCDJ14N",
    "slideshow": {
     "slide_type": "fragment"
    }
   },
   "source": [
    "<center><img src=\"imgs/recursion_eq3.png\" width=\"70%\" /></center>"
   ]
  },
  {
   "cell_type": "code",
   "execution_count": null,
   "metadata": {
    "id": "2NGVqR7wJ14N",
    "slideshow": {
     "slide_type": "fragment"
    }
   },
   "outputs": [],
   "source": [
    "def list_sum(num_list):\n",
    "    if len(num_list) == 1:\n",
    "        return num_list[0]\n",
    "    else:\n",
    "        return num_list[0] + list_sum(num_list[1:])\n",
    "\n",
    "print(list_sum([1, 3, 5, 7, 9]))"
   ]
  },
  {
   "cell_type": "markdown",
   "metadata": {
    "id": "AngpG0KfJ14O",
    "slideshow": {
     "slide_type": "skip"
    }
   },
   "source": [
    "1. On line 2 we are checking to see if the list is one element long. This check is crucial and is our escape clause from the function. The sum of a list of length 1 is trivial; it is just the number in the list. \n",
    "\n",
    "2. On line 5 our function calls itself! This is the reason that we call the `list_sum()` algorithm recursive. A recursive function is a function that calls itself."
   ]
  },
  {
   "cell_type": "markdown",
   "metadata": {
    "id": "UcAcIkGtJ14O",
    "slideshow": {
     "slide_type": "subslide"
    }
   },
   "source": [
    "Figure below shows the series of recursive calls that are needed to sum the list. You should think of this series of calls as a series of simplifications."
   ]
  },
  {
   "cell_type": "markdown",
   "metadata": {
    "id": "DZd-K-Z-J14O",
    "slideshow": {
     "slide_type": "fragment"
    }
   },
   "source": [
    "<center><img src=\"imgs/recursion_sum.png\" width=\"35%\" /></center>"
   ]
  },
  {
   "cell_type": "markdown",
   "metadata": {
    "slideshow": {
     "slide_type": "subslide"
    }
   },
   "source": [
    "When we reach the point where the problem is as simple as it can get, we begin to piece together the solutions of each of the small problems until the initial problem is solved!"
   ]
  },
  {
   "cell_type": "markdown",
   "metadata": {
    "slideshow": {
     "slide_type": "fragment"
    }
   },
   "source": [
    "<center><img src=\"imgs/recursion_sum2.png\" width=\"35%\" /></center>"
   ]
  },
  {
   "cell_type": "markdown",
   "metadata": {
    "id": "Sb2mHWztJ14V",
    "slideshow": {
     "slide_type": "slide"
    }
   },
   "source": [
    "## 4.4 The Three Laws of Recursion"
   ]
  },
  {
   "cell_type": "markdown",
   "metadata": {
    "id": "exxX2n_BJ14V",
    "slideshow": {
     "slide_type": "subslide"
    }
   },
   "source": [
    "Like robots in Asimov’s stories, all recursive algorithms must obey three important laws:\n",
    "\n",
    "1. A recursive algorithm must have a <u>base case</u>."
   ]
  },
  {
   "cell_type": "markdown",
   "metadata": {
    "slideshow": {
     "slide_type": "fragment"
    }
   },
   "source": [
    "2. A recursive algorithm must change its state and move toward the base case."
   ]
  },
  {
   "cell_type": "markdown",
   "metadata": {
    "id": "OXKHZgycJ14V",
    "slideshow": {
     "slide_type": "fragment"
    }
   },
   "source": [
    "3. A recursive algorithm must call itself recursively."
   ]
  },
  {
   "cell_type": "markdown",
   "metadata": {
    "id": "HtcIVAvjJ14V",
    "slideshow": {
     "slide_type": "subslide"
    }
   },
   "source": [
    "First, a base case is the condition that allows the algorithm to stop recursing. A base case is typically a problem that is small enough to solve directly. In the `list_sum()` algorithm the base case is a list of length 1."
   ]
  },
  {
   "cell_type": "markdown",
   "metadata": {
    "id": "eb-FzjxHJ14W",
    "slideshow": {
     "slide_type": "fragment"
    }
   },
   "source": [
    "A change of state means that some data that the algorithm is using is modified. Usually the data that represents our problem gets smaller in some way. In the `list_sum()` algorithm our primary data structure is a list. Since the base case is a list of length 1, a natural progression toward the base case is to shorten the list. "
   ]
  },
  {
   "cell_type": "markdown",
   "metadata": {
    "id": "HUdT0USRJ14W",
    "slideshow": {
     "slide_type": "fragment"
    }
   },
   "source": [
    "The final law is that the algorithm must call itself. This is the very definition of recursion."
   ]
  },
  {
   "cell_type": "markdown",
   "metadata": {
    "slideshow": {
     "slide_type": "subslide"
    }
   },
   "source": [
    "As a novice programmer, you have learned that functions are good because you can take a large problem and break it up into smaller problems. The smaller problems can be solved by writing a function to solve each problem. "
   ]
  },
  {
   "cell_type": "markdown",
   "metadata": {
    "colab": {
     "base_uri": "https://localhost:8080/"
    },
    "executionInfo": {
     "elapsed": 298,
     "status": "ok",
     "timestamp": 1683101092815,
     "user": {
      "displayName": "phonchi chung",
      "userId": "13517391734500420886"
     },
     "user_tz": -480
    },
    "id": "zFaZR6kPJ14a",
    "outputId": "4eee32f7-dc06-4c6e-d913-0204e4edce82",
    "slideshow": {
     "slide_type": "fragment"
    }
   },
   "source": [
    "When we talk about recursion it may seem that we are talking ourselves in circles. We have a problem to solve with a function, but that function solves the problem by calling itself! We are solving a problem by breaking it down into a smaller and easier problems."
   ]
  },
  {
   "cell_type": "markdown",
   "metadata": {
    "id": "5evnCAylJ14b",
    "slideshow": {
     "slide_type": "subslide"
    }
   },
   "source": [
    "## 4.5 Converting an Integer to a String in Any Base"
   ]
  },
  {
   "cell_type": "markdown",
   "metadata": {
    "id": "rDvyWSaCJ14b",
    "slideshow": {
     "slide_type": "subslide"
    }
   },
   "source": [
    "Suppose you want to convert an integer to a string in some base between binary and hexadecimal. For example, convert the integer 10 to its string representation in decimal as \"10\", or to its string representation in binary as \"1010\". "
   ]
  },
  {
   "cell_type": "markdown",
   "metadata": {
    "colab": {
     "base_uri": "https://localhost:8080/"
    },
    "executionInfo": {
     "elapsed": 279,
     "status": "ok",
     "timestamp": 1683101588324,
     "user": {
      "displayName": "phonchi chung",
      "userId": "13517391734500420886"
     },
     "user_tz": -480
    },
    "id": "qsx-08WCJ14c",
    "outputId": "e17f0651-5f3e-45f8-cdc4-2ad534a2aacf",
    "slideshow": {
     "slide_type": "fragment"
    }
   },
   "source": [
    "While there are many algorithms to solve this problem, including the algorithm discussed in the stack section, the recursive formulation of the problem is very elegant."
   ]
  },
  {
   "cell_type": "markdown",
   "metadata": {
    "slideshow": {
     "slide_type": "fragment"
    }
   },
   "source": [
    "Let’s look at a concrete example using base `10` and the number `769`. Suppose we have a sequence of characters corresponding to the first 10 digits, like `convert_string = \"0123456789\"`. It is easy to convert a number less than 10 to its string equivalent by looking it up in the sequence."
   ]
  },
  {
   "cell_type": "markdown",
   "metadata": {
    "slideshow": {
     "slide_type": "subslide"
    }
   },
   "source": [
    "If we can arrange to break up the number `769` into three single-digit numbers, `7`, `6`, and `9`, then converting it to a string is simple. A number less than 10 sounds like a good base case."
   ]
  },
  {
   "cell_type": "markdown",
   "metadata": {
    "slideshow": {
     "slide_type": "fragment"
    }
   },
   "source": [
    "Knowing what our base is suggests that the overall algorithm will involve three components:"
   ]
  },
  {
   "cell_type": "markdown",
   "metadata": {
    "slideshow": {
     "slide_type": "fragment"
    }
   },
   "source": [
    "1. Reduce the original number to a series of single-digit numbers.\n",
    "\n",
    "2. Convert the single digit-number to a string using a lookup.\n",
    "\n",
    "3. Concatenate the single-digit strings together to form the final result."
   ]
  },
  {
   "cell_type": "markdown",
   "metadata": {
    "slideshow": {
     "slide_type": "subslide"
    }
   },
   "source": [
    "The next step is to figure out how to change state and make progress toward the base case."
   ]
  },
  {
   "cell_type": "markdown",
   "metadata": {
    "slideshow": {
     "slide_type": "fragment"
    }
   },
   "source": [
    "Let’s consider what mathematical operations might reduce a number. The most likely candidates are division and subtraction. While subtraction might work, it is unclear what we should subtract from what. Integer division with remainders gives us a clear direction!"
   ]
  },
  {
   "cell_type": "markdown",
   "metadata": {
    "slideshow": {
     "slide_type": "fragment"
    }
   },
   "source": [
    "Using integer division to divide `769` by `10`, we get `76` with a remainder of `9`. This gives us two good results. \n",
    "\n",
    "1. The remainder is a number less than our base that can be converted to a string immediately by lookup."
   ]
  },
  {
   "cell_type": "markdown",
   "metadata": {
    "slideshow": {
     "slide_type": "fragment"
    }
   },
   "source": [
    "2. We get a number that is smaller than our original and moves us toward the base case of having a single number less than our base."
   ]
  },
  {
   "cell_type": "markdown",
   "metadata": {
    "slideshow": {
     "slide_type": "subslide"
    }
   },
   "source": [
    "Now our job is to convert `76` to its string representation. Again we will use integer division plus remainder to get results of `7` and `6` respectively. "
   ]
  },
  {
   "cell_type": "markdown",
   "metadata": {
    "slideshow": {
     "slide_type": "fragment"
    }
   },
   "source": [
    "<center><img src=\"imgs/num2str.png\" width=\"30%\" /></center>"
   ]
  },
  {
   "cell_type": "markdown",
   "metadata": {
    "slideshow": {
     "slide_type": "skip"
    }
   },
   "source": [
    "Notice that the numbers we want to remember are in the remainder boxes along the right side of the diagram!"
   ]
  },
  {
   "cell_type": "code",
   "execution_count": null,
   "metadata": {
    "slideshow": {
     "slide_type": "subslide"
    }
   },
   "outputs": [],
   "source": [
    "# The algorithm outlined above for any base between 2 and 16.\n",
    "def to_str(n, base):\n",
    "    convert_string = \"0123456789ABCDEF\"\n",
    "    if n < base:\n",
    "        return convert_string[n]\n",
    "    else:\n",
    "        return to_str(n // base, base) + convert_string[n % base]\n",
    "\n",
    "print(to_str(1453, 16))"
   ]
  },
  {
   "cell_type": "markdown",
   "metadata": {
    "slideshow": {
     "slide_type": "fragment"
    }
   },
   "source": [
    "Notice that in line 3 we check for the base case where `n` is less than the base we are converting to. When we detect the base case, we stop recursing and simply return the string from the convert_string sequence. "
   ]
  },
  {
   "cell_type": "markdown",
   "metadata": {
    "slideshow": {
     "slide_type": "fragment"
    }
   },
   "source": [
    "In line 6 we satisfy both the second and third laws–by making the recursive call and by reducing the problem size–using division."
   ]
  },
  {
   "cell_type": "markdown",
   "metadata": {
    "slideshow": {
     "slide_type": "subslide"
    }
   },
   "source": [
    "Let’s trace the algorithm; this time we will convert the number `10` to its base 2 string representation (`\"1010\"`):"
   ]
  },
  {
   "cell_type": "markdown",
   "metadata": {
    "slideshow": {
     "slide_type": "fragment"
    }
   },
   "source": [
    "<center><img src=\"imgs/num2str2.png\" width=\"30%\" /></center>"
   ]
  },
  {
   "cell_type": "markdown",
   "metadata": {
    "slideshow": {
     "slide_type": "subslide"
    }
   },
   "source": [
    "It looks like the digits are in the wrong order. The algorithm works correctly because we make the recursive call first on line 6, then we add the string representation of the remainder. "
   ]
  },
  {
   "cell_type": "markdown",
   "metadata": {
    "slideshow": {
     "slide_type": "fragment"
    }
   },
   "source": [
    "If we reversed returning the `convert_string` lookup and returning the `to_str()` call, the resulting string would be backward! But by delaying the concatenation operation until after the recursive call has returned, we get the result in the proper order! This should remind you of our discussion of stacks back in the previous chapter."
   ]
  },
  {
   "cell_type": "markdown",
   "metadata": {
    "slideshow": {
     "slide_type": "subslide"
    }
   },
   "source": [
    "#### Exercsie: Write a function using recursion that takes a string as a parameter and returns a new string that is the reverse of the old string."
   ]
  },
  {
   "cell_type": "code",
   "execution_count": null,
   "metadata": {
    "slideshow": {
     "slide_type": "subslide"
    }
   },
   "outputs": [],
   "source": [
    "\n",
    "def reverse(s):\n",
    "    return s\n",
    "\n",
    "assert reverse(\"hello\") == \"olleh\""
   ]
  },
  {
   "cell_type": "markdown",
   "metadata": {
    "id": "T6H4VdkAJ14c",
    "slideshow": {
     "slide_type": "slide"
    }
   },
   "source": [
    "## 4.6 Stack Frames: Implementing Recursion"
   ]
  },
  {
   "cell_type": "markdown",
   "metadata": {
    "id": "sAszrEnnJ14d",
    "slideshow": {
     "slide_type": "subslide"
    }
   },
   "source": [
    "Suppose that instead of concatenating the result of the recursive call to `to_str()` with the string from `convert_string`, we modified our algorithm to push the strings onto a stack instead of making the recursive call:"
   ]
  },
  {
   "cell_type": "code",
   "execution_count": null,
   "metadata": {
    "slideshow": {
     "slide_type": "subslide"
    }
   },
   "outputs": [],
   "source": [
    "import sys\n",
    "sys.path.append(\"./pythonds3/\")"
   ]
  },
  {
   "cell_type": "code",
   "execution_count": null,
   "metadata": {
    "colab": {
     "base_uri": "https://localhost:8080/"
    },
    "executionInfo": {
     "elapsed": 343,
     "status": "ok",
     "timestamp": 1683101709851,
     "user": {
      "displayName": "phonchi chung",
      "userId": "13517391734500420886"
     },
     "user_tz": -480
    },
    "id": "aybBqNHdJ14d",
    "outputId": "cc2890de-0f67-4c7b-c70d-d966140669ce",
    "slideshow": {
     "slide_type": "fragment"
    }
   },
   "outputs": [],
   "source": [
    "from pythonds3.basic import Stack\n",
    "\n",
    "def to_str(n, base):\n",
    "    r_stack = Stack()\n",
    "    convert_string = \"0123456789ABCDEF\"\n",
    "    while n > 0:\n",
    "        if n < base:\n",
    "            r_stack.push(convert_string[n])\n",
    "        else:\n",
    "            r_stack.push(convert_string[n % base])\n",
    "        n = n // base\n",
    "    res = \"\"\n",
    "    while not r_stack.is_empty():\n",
    "        res = res + str(r_stack.pop())\n",
    "    return res\n",
    "\n",
    "print(to_str(1453, 16))"
   ]
  },
  {
   "cell_type": "markdown",
   "metadata": {
    "id": "c5cVK04hJ14d",
    "slideshow": {
     "slide_type": "subslide"
    }
   },
   "source": [
    "Each time we make a call to `to_str()`, we push a character on the stack. Returning to the previous example we can see that after the fourth call to `to_str()` the stack would look like Figure below:"
   ]
  },
  {
   "cell_type": "markdown",
   "metadata": {
    "id": "ZzmywYm1J14e",
    "slideshow": {
     "slide_type": "fragment"
    }
   },
   "source": [
    "<center><img src=\"imgs/recursion_stack.png\" width=\"20%\" /></center>"
   ]
  },
  {
   "cell_type": "markdown",
   "metadata": {
    "colab": {
     "base_uri": "https://localhost:8080/"
    },
    "executionInfo": {
     "elapsed": 2,
     "status": "ok",
     "timestamp": 1683102465996,
     "user": {
      "displayName": "phonchi chung",
      "userId": "13517391734500420886"
     },
     "user_tz": -480
    },
    "id": "1FJPykoruLi6",
    "outputId": "0129b8fa-a822-4b51-bfc3-7a4441616252",
    "slideshow": {
     "slide_type": "fragment"
    }
   },
   "source": [
    "Notice that now we can simply pop the characters off the stack and concatenate them into the final result, `\"1010\"`."
   ]
  },
  {
   "cell_type": "markdown",
   "metadata": {
    "id": "KhJfQMXwuZUA",
    "slideshow": {
     "slide_type": "subslide"
    }
   },
   "source": [
    "The previous example gives us some insight into how `Python` implements a recursive function call. When a function is called in `Python`, a <u>stack frame</u> is allocated to handle the local variables of the function. "
   ]
  },
  {
   "cell_type": "markdown",
   "metadata": {
    "slideshow": {
     "slide_type": "fragment"
    }
   },
   "source": [
    "When the function returns, the return value is left on top of the stack for the calling function to access. "
   ]
  },
  {
   "cell_type": "markdown",
   "metadata": {
    "slideshow": {
     "slide_type": "subslide"
    }
   },
   "source": [
    "Figure below illustrates the call stack after the return statement:"
   ]
  },
  {
   "cell_type": "markdown",
   "metadata": {
    "slideshow": {
     "slide_type": "fragment"
    }
   },
   "source": [
    "<center><img src=\"imgs/recursion_stack2.png\" width=\"28%\" /></center>"
   ]
  },
  {
   "cell_type": "markdown",
   "metadata": {
    "slideshow": {
     "slide_type": "fragment"
    }
   },
   "source": [
    "Notice that the call to `to_str(2 // 2, 2)` leaves a return value of `\"1\"` on the stack. This return value is then used in place of the function call (`to_str(1, 2)`) in the expression `\"1\" + convert_string[2 % 2]`, which will leave the string `\"10\"` on the top of the stack. "
   ]
  },
  {
   "cell_type": "markdown",
   "metadata": {
    "slideshow": {
     "slide_type": "subslide"
    }
   },
   "source": [
    "In this way, the `Python` call stack takes the place of the stack we used explicitly. In our list summing example, you can think of the return value on the stack taking the place of an accumulator variable."
   ]
  },
  {
   "cell_type": "markdown",
   "metadata": {
    "slideshow": {
     "slide_type": "fragment"
    }
   },
   "source": [
    "The stack frames also provide a scope for the variables used by the function. Even though we are calling the same function over and over, each call creates a new scope for the variables that are local to the function."
   ]
  },
  {
   "cell_type": "markdown",
   "metadata": {
    "slideshow": {
     "slide_type": "skip"
    }
   },
   "source": [
    "## 4.7. Visualizing Recursion"
   ]
  },
  {
   "cell_type": "markdown",
   "metadata": {
    "slideshow": {
     "slide_type": "skip"
    }
   },
   "source": [
    "It can still be difficult to find a mental model or a way of visualizing what is happening in a recursive function. This can make recursion difficult for people to grasp."
   ]
  },
  {
   "cell_type": "markdown",
   "metadata": {
    "slideshow": {
     "slide_type": "skip"
    }
   },
   "source": [
    "In this section we will look at a couple of examples of using recursion to draw some interesting pictures. As you watch these pictures take shape you will get some new insight into the recursive process."
   ]
  },
  {
   "cell_type": "markdown",
   "metadata": {
    "slideshow": {
     "slide_type": "skip"
    }
   },
   "source": [
    "The tool we will use for our illustrations is `Python`’s `turtle` graphics module called `turtle`.  When the turtle is created it also creates a window for itself to draw in."
   ]
  },
  {
   "cell_type": "markdown",
   "metadata": {
    "slideshow": {
     "slide_type": "skip"
    }
   },
   "source": [
    "Here is a simple example to illustrate some turtle graphics basics. We will use the turtle module to draw a spiral recursively. The base case for this simple function is when the length of the line we want to draw is reduced to zero or less. If the length of the line is longer than zero, we instruct the turtle to go forward by len units and then turn right 90 degrees."
   ]
  },
  {
   "cell_type": "code",
   "execution_count": null,
   "metadata": {
    "slideshow": {
     "slide_type": "skip"
    }
   },
   "outputs": [],
   "source": [
    "%%file turtle_example.py\n",
    "import turtle\n",
    "\n",
    "def draw_spiral(my_turtle, line_len):\n",
    "    if line_len > 0:\n",
    "        my_turtle.forward(line_len)\n",
    "        # we instruct the turtle to go forward by len units and \n",
    "        # then turn right 90 degrees.\n",
    "        my_turtle.right(90)\n",
    "        draw_spiral(my_turtle, line_len - 5)\n",
    "\n",
    "my_turtle = turtle.Turtle()\n",
    "my_win = turtle.Screen()\n",
    "draw_spiral(my_turtle, 100)\n",
    "my_win.exitonclick()"
   ]
  },
  {
   "cell_type": "code",
   "execution_count": null,
   "metadata": {
    "slideshow": {
     "slide_type": "skip"
    }
   },
   "outputs": [],
   "source": [
    "!python turtle_example.py"
   ]
  },
  {
   "cell_type": "markdown",
   "metadata": {
    "slideshow": {
     "slide_type": "skip"
    }
   },
   "source": [
    "The recursive step is when we call `draw_spiral()` again with a reduced length. The function `my_win.exitonclick()` will put the turtle into a wait mode until you click inside the window, after which the program cleans up and exits."
   ]
  },
  {
   "cell_type": "markdown",
   "metadata": {
    "slideshow": {
     "slide_type": "skip"
    }
   },
   "source": [
    "For our next program we will turn to <u>fractals</u>. Fractals come from a branch of mathematics, and have much in common with recursion."
   ]
  },
  {
   "cell_type": "markdown",
   "metadata": {
    "slideshow": {
     "slide_type": "skip"
    }
   },
   "source": [
    "By definition, a fractal has the same basic shape no matter how much you magnify it. Some examples from nature are the coastlines of continents, snowflakes, mountains, and even trees or shrubs. The fractal nature of many of these natural phenomena makes it possible for programmers to generate very realistic looking scenery for computer-generated movies!"
   ]
  },
  {
   "cell_type": "markdown",
   "metadata": {
    "slideshow": {
     "slide_type": "skip"
    }
   },
   "source": [
    "Remember that we said above that a fractal is something that **looks the same at all different levels of magnification.** If we translate this to trees and shrubs, we might say that even a small twig has the same shape and characteristics as a whole tree."
   ]
  },
  {
   "cell_type": "markdown",
   "metadata": {
    "slideshow": {
     "slide_type": "skip"
    }
   },
   "source": [
    "Using this idea we could say that a tree is a trunk, with a smaller tree going off to the right and another smaller tree going off to the left. If you think of this definition recursively, it means that we will apply the recursive definition of a tree to both of the smaller left and right trees!"
   ]
  },
  {
   "cell_type": "code",
   "execution_count": null,
   "metadata": {
    "slideshow": {
     "slide_type": "skip"
    }
   },
   "outputs": [],
   "source": [
    "%%file turtle_example2.py\n",
    "import turtle\n",
    "\n",
    "def tree(branch_len, t):\n",
    "    if branch_len > 5:\n",
    "        t.forward(branch_len)\n",
    "        t.right(20)\n",
    "        tree(branch_len - 15, t)\n",
    "        t.left(40)\n",
    "        tree(branch_len - 15, t)\n",
    "        t.right(20)\n",
    "        t.backward(branch_len)\n",
    "\n",
    "\n",
    "t = turtle.Turtle()\n",
    "my_win = turtle.Screen()\n",
    "t.left(90)\n",
    "#t.up()\n",
    "#t.backward(100)\n",
    "#t.down()\n",
    "t.color(\"green\")\n",
    "tree(75, t)\n",
    "my_win.exitonclick()"
   ]
  },
  {
   "cell_type": "code",
   "execution_count": null,
   "metadata": {
    "slideshow": {
     "slide_type": "skip"
    }
   },
   "outputs": [],
   "source": [
    "!python turtle_example2.py"
   ]
  },
  {
   "cell_type": "markdown",
   "metadata": {
    "slideshow": {
     "slide_type": "skip"
    }
   },
   "source": [
    "You will see that on lines 7 and 9 we are making a recursive call. On line 7 we make the recursive call right after the turtle turns to the right by 20 degrees; this is the right tree mentioned above. \n",
    "\n",
    "Then in line 9 the turtle makes another recursive call, but this time after turning left by 40 degrees. The reason the turtle must turn left by 40 degrees is that it needs to **undo the original 20-degree** turn to the right and then do an additional 20-degree turn to the left in order to draw the left tree. \n",
    "\n",
    "Also notice that each time we make a recursive call to tree we subtract some amount from the `branch_len` parameter; this is to make sure that the recursive trees get smaller and smaller. You should also recognize the initial `if` statement on line 4 as a check for the base case of `branch_len` getting too small."
   ]
  },
  {
   "cell_type": "markdown",
   "metadata": {
    "slideshow": {
     "slide_type": "skip"
    }
   },
   "source": [
    "Notice how each branch point on the tree corresponds to a recursive call, and notice how the tree is drawn to the right all the way down to its shortest twig. "
   ]
  },
  {
   "cell_type": "markdown",
   "metadata": {
    "slideshow": {
     "slide_type": "skip"
    }
   },
   "source": [
    "<center><img src=\"imgs/recursion_viz1.png\" width=\"30%\" /></center>"
   ]
  },
  {
   "cell_type": "markdown",
   "metadata": {
    "slideshow": {
     "slide_type": "skip"
    }
   },
   "source": [
    "Now, notice how the program works its way back up the trunk until the entire right side of the tree is drawn. You can see the right half of the tree below: "
   ]
  },
  {
   "cell_type": "markdown",
   "metadata": {
    "slideshow": {
     "slide_type": "skip"
    }
   },
   "source": [
    "<center><img src=\"imgs/recursion_viz2.png\" width=\"30%\" /></center>"
   ]
  },
  {
   "cell_type": "markdown",
   "metadata": {
    "slideshow": {
     "slide_type": "skip"
    }
   },
   "source": [
    "Then the left side of the tree is drawn, but not by going as far out to the left as possible. Rather, once again the entire right side of the left tree is drawn until we finally make our way out to the smallest twig on the left."
   ]
  },
  {
   "cell_type": "markdown",
   "metadata": {
    "slideshow": {
     "slide_type": "skip"
    }
   },
   "source": [
    "This simple tree program is just a starting point for you, and you will notice that the tree does not look particularly realistic because nature is just not as symmetrical as a computer program!"
   ]
  },
  {
   "cell_type": "markdown",
   "metadata": {
    "slideshow": {
     "slide_type": "skip"
    }
   },
   "source": [
    "## 4.8 Sierpinski Triangle"
   ]
  },
  {
   "cell_type": "markdown",
   "metadata": {
    "slideshow": {
     "slide_type": "skip"
    }
   },
   "source": [
    "The Sierpinski triangle illustrates a three-way recursive algorithm. The procedure for drawing a Sierpinski triangle by hand is simple. \n",
    "\n",
    "1. Start with a single large triangle. "
   ]
  },
  {
   "cell_type": "markdown",
   "metadata": {
    "slideshow": {
     "slide_type": "skip"
    }
   },
   "source": [
    "2. Divide this large triangle into four new triangles by connecting the midpoint of each side. "
   ]
  },
  {
   "cell_type": "markdown",
   "metadata": {
    "slideshow": {
     "slide_type": "skip"
    }
   },
   "source": [
    "3. Ignoring the middle triangle that you just created, apply the same procedure to each of the three corner triangles. "
   ]
  },
  {
   "cell_type": "markdown",
   "metadata": {
    "slideshow": {
     "slide_type": "skip"
    }
   },
   "source": [
    "<center><img src=\"imgs/recursion_triangle.png\" width=\"30%\" /></center>"
   ]
  },
  {
   "cell_type": "markdown",
   "metadata": {
    "slideshow": {
     "slide_type": "skip"
    }
   },
   "source": [
    "What is the base case? We will see that the base case is set arbitrarily as the number of times we want to divide the triangle into pieces. Sometimes we call this number the **degree of the fractal**. Each time we make a recursive call, we subtract 1 from the degree until we reach 0. When we reach a degree of 0, we stop making recursive calls. "
   ]
  },
  {
   "cell_type": "code",
   "execution_count": null,
   "metadata": {
    "slideshow": {
     "slide_type": "skip"
    }
   },
   "outputs": [],
   "source": [
    "%%writefile Sierpinski.py\n",
    "\n",
    "import turtle\n",
    "\n",
    "def draw_triangle(points, color, my_turtle):\n",
    "    my_turtle.fillcolor(color)\n",
    "    my_turtle.up()\n",
    "    my_turtle.goto(points[0][0], points[0][1])\n",
    "    my_turtle.down()\n",
    "    my_turtle.begin_fill()\n",
    "    my_turtle.goto(points[1][0], points[1][1])\n",
    "    my_turtle.goto(points[2][0], points[2][1])\n",
    "    my_turtle.goto(points[0][0], points[0][1])\n",
    "    my_turtle.end_fill()"
   ]
  },
  {
   "cell_type": "code",
   "execution_count": null,
   "metadata": {
    "slideshow": {
     "slide_type": "skip"
    }
   },
   "outputs": [],
   "source": [
    "%%writefile -a Sierpinski.py\n",
    "\n",
    "def get_mid(p1, p2):\n",
    "    return ((p1[0] + p2[0]) / 2, (p1[1] + p2[1]) / 2)\n",
    "\n",
    "\n",
    "def sierpinski(points, degree, my_turtle):\n",
    "    colormap = [\"blue\", \"red\", \"green\", \"white\", \"yellow\", \"violet\", \"orange\"]\n",
    "    draw_triangle(points, colormap[degree], my_turtle)\n",
    "    if degree > 0:\n",
    "        sierpinski(\n",
    "            [points[0], get_mid(points[0], points[1]), get_mid(points[0], points[2])],\n",
    "            degree - 1,\n",
    "            my_turtle,\n",
    "        )\n",
    "        sierpinski(\n",
    "            [points[1], get_mid(points[0], points[1]), get_mid(points[1], points[2])],\n",
    "            degree - 1,\n",
    "            my_turtle,\n",
    "        )\n",
    "        sierpinski(\n",
    "            [points[2], get_mid(points[2], points[1]), get_mid(points[0], points[2])],\n",
    "            degree - 1,\n",
    "            my_turtle,\n",
    "        )"
   ]
  },
  {
   "cell_type": "markdown",
   "metadata": {
    "slideshow": {
     "slide_type": "skip"
    }
   },
   "source": [
    "There are three recursive calls, one for each of the new corner triangles we get when we connect the midpoints."
   ]
  },
  {
   "cell_type": "code",
   "execution_count": null,
   "metadata": {
    "slideshow": {
     "slide_type": "skip"
    }
   },
   "outputs": [],
   "source": [
    "%%writefile -a Sierpinski.py\n",
    "\n",
    "my_turtle = turtle.Turtle()\n",
    "my_win = turtle.Screen()\n",
    "my_points = [[-180, -150], [0, 150], [180, -150]]\n",
    "sierpinski(my_points, 5, my_turtle)\n",
    "my_win.exitonclick()"
   ]
  },
  {
   "cell_type": "code",
   "execution_count": null,
   "metadata": {
    "slideshow": {
     "slide_type": "skip"
    }
   },
   "outputs": [],
   "source": [
    "!python Sierpinski.py"
   ]
  },
  {
   "cell_type": "markdown",
   "metadata": {
    "slideshow": {
     "slide_type": "skip"
    }
   },
   "source": [
    "Look at the code and think about the order in which the triangles will be drawn. Let's assume that the corners are ordered lower left, top, lower right. Because of the way the sierpinski function calls itself, `sierpinski` works its way to the smallest allowed triangle in the lower-left corner and then begins to fill out the rest of the triangles working back. "
   ]
  },
  {
   "cell_type": "markdown",
   "metadata": {
    "slideshow": {
     "slide_type": "skip"
    }
   },
   "source": [
    "Then it fills in the triangles in the top corner by working toward the smallest, topmost triangle. Finally, it fills in the lower-right corner, working its way toward the smallest triangle in the lower right. Sometimes it is helpful to think of a recursive algorithm in terms of a diagram of function calls."
   ]
  },
  {
   "cell_type": "markdown",
   "metadata": {
    "slideshow": {
     "slide_type": "skip"
    }
   },
   "source": [
    "<center><img src=\"imgs/recursion_triangle2.png\" width=\"30%\" /></center>"
   ]
  },
  {
   "cell_type": "markdown",
   "metadata": {
    "slideshow": {
     "slide_type": "skip"
    }
   },
   "source": [
    "The active functions are outlined in black, and the inactive function calls are in gray. The farther you go toward the bottom, the smaller the triangles. The function finishes drawing one level at a time; once it is finished with the bottom left it moves to the bottom middle, and so on."
   ]
  },
  {
   "cell_type": "markdown",
   "metadata": {
    "slideshow": {
     "slide_type": "slide"
    }
   },
   "source": [
    "## 4.10 Tower of Hanoi"
   ]
  },
  {
   "cell_type": "markdown",
   "metadata": {
    "slideshow": {
     "slide_type": "subslide"
    }
   },
   "source": [
    "The Tower of Hanoi puzzle was invented by the French mathematician Edouard Lucas in 1883. He was inspired by a legend that tells of a Hindu temple where the puzzle was presented to young priests."
   ]
  },
  {
   "cell_type": "markdown",
   "metadata": {
    "slideshow": {
     "slide_type": "fragment"
    }
   },
   "source": [
    "At the beginning of time, the priests were given three poles and a stack of 64 gold disks, each disk a little smaller than the one beneath it. Their assignment was to transfer all 64 disks from one of the three poles to another, with two important constraints. "
   ]
  },
  {
   "cell_type": "markdown",
   "metadata": {
    "slideshow": {
     "slide_type": "fragment"
    }
   },
   "source": [
    "1. They could only move one disk at a time.\n",
    "2. They could never place a larger disk on top of a smaller one."
   ]
  },
  {
   "cell_type": "markdown",
   "metadata": {
    "slideshow": {
     "slide_type": "subslide"
    }
   },
   "source": [
    "The priests worked very efficiently, day and night, moving one disk every second. When they finished their work, the legend said, the temple would crumble into dust and the world would vanish."
   ]
  },
  {
   "cell_type": "markdown",
   "metadata": {
    "slideshow": {
     "slide_type": "fragment"
    }
   },
   "source": [
    "Although the legend is interesting, you need not worry about the world ending any time soon. The number of moves required to correctly move a tower of 64 disks is $2^{64}-1 = 18,446,744,073,709,551,615$. At a rate of one move per second, that is $584,942,417,355$ years!"
   ]
  },
  {
   "cell_type": "markdown",
   "metadata": {
    "slideshow": {
     "slide_type": "subslide"
    }
   },
   "source": [
    "Figure below shows an example of a configuration of disks in the middle of a move from the first peg to the third. Notice that, as the rules specify, the disks on each peg are stacked so that smaller disks are always on top of the larger disks:"
   ]
  },
  {
   "cell_type": "markdown",
   "metadata": {
    "slideshow": {
     "slide_type": "fragment"
    }
   },
   "source": [
    "<center><img src=\"imgs/Hanoi.png\" width=\"40%\" /></center>"
   ]
  },
  {
   "cell_type": "markdown",
   "metadata": {
    "slideshow": {
     "slide_type": "subslide"
    }
   },
   "source": [
    "Let’s think about this problem from the bottom up. Suppose you have a tower of five disks, originally on peg one. If you already knew how to move a tower of four disks to peg two, you could then easily move the bottom disk to peg three, and then move the tower of four from peg two to peg three. "
   ]
  },
  {
   "cell_type": "markdown",
   "metadata": {
    "slideshow": {
     "slide_type": "fragment"
    }
   },
   "source": [
    "But what if you do not know how to move a tower of height four? Suppose that you knew how to move a tower of height three to peg three; then it would be easy to move the fourth disk to peg two and move the three from peg three on top of it. "
   ]
  },
  {
   "cell_type": "markdown",
   "metadata": {
    "slideshow": {
     "slide_type": "fragment"
    }
   },
   "source": [
    "But what if you still do not know how to do this? Surely you would agree that moving a single disk to peg three is easy enough, trivial you might even say. This sounds like a base case in the making."
   ]
  },
  {
   "cell_type": "markdown",
   "metadata": {
    "slideshow": {
     "slide_type": "subslide"
    }
   },
   "source": [
    "Here is a high-level outline of how to move a tower of height $h$ from the starting pole to the goal pole, using an intermediate pole:"
   ]
  },
  {
   "cell_type": "markdown",
   "metadata": {
    "slideshow": {
     "slide_type": "fragment"
    }
   },
   "source": [
    "1. Move a tower of height $h-1$  from the starting pole to an intermediate pole via the goal pole."
   ]
  },
  {
   "cell_type": "markdown",
   "metadata": {
    "slideshow": {
     "slide_type": "fragment"
    }
   },
   "source": [
    "2. Move the remaining disk from the starting pole to the final pole."
   ]
  },
  {
   "cell_type": "markdown",
   "metadata": {
    "slideshow": {
     "slide_type": "fragment"
    }
   },
   "source": [
    "3. Move the tower of height $h-1$ from the intermediate pole to the goal pole via the starting pole."
   ]
  },
  {
   "cell_type": "markdown",
   "metadata": {
    "slideshow": {
     "slide_type": "fragment"
    }
   },
   "source": [
    "The simplest Tower of Hanoi problem is a tower of one disk. In this case, we need move only a single disk to its final destination. A tower of one disk will be our base case. In addition, the steps outlined above move us toward the base case by reducing the height of the tower in steps 1 and 3."
   ]
  },
  {
   "cell_type": "code",
   "execution_count": null,
   "metadata": {
    "slideshow": {
     "slide_type": "subslide"
    }
   },
   "outputs": [],
   "source": [
    "def move_tower(height, from_pole, to_pole, with_pole):\n",
    "    if height >= 1:\n",
    "        move_tower(height - 1, from_pole, with_pole, to_pole)\n",
    "        move_disk(from_pole, to_pole)\n",
    "        move_tower(height - 1, with_pole, to_pole, from_pole)\n",
    "\n",
    "def move_disk(from_p, to_p):\n",
    "    print(\"moving disk from\", from_p, \"to\", to_p)\n",
    "\n",
    "move_tower(3, \"A\", \"B\", \"C\")"
   ]
  },
  {
   "cell_type": "markdown",
   "metadata": {
    "slideshow": {
     "slide_type": "fragment"
    }
   },
   "source": [
    "The base case is the tower of height 0; in this case there is nothing to do, so the `move_tower()` function returns. The important thing to remember about handling the base case this way is that simply returning from `move_tower()` is what finally allows the move_disk function to be called."
   ]
  },
  {
   "cell_type": "markdown",
   "metadata": {
    "slideshow": {
     "slide_type": "subslide"
    }
   },
   "source": [
    "Now that you have seen the code for both move_tower and move_disk, you may be wondering why we do not have a data structure that explicitly keeps track of what disks are on what poles. "
   ]
  },
  {
   "cell_type": "markdown",
   "metadata": {
    "slideshow": {
     "slide_type": "fragment"
    }
   },
   "source": [
    "Here is a hint: if you were going to explicitly keep track of the disks, you would probably use three `Stack` objects, one for each pole. The answer is that `Python` provides the stacks that we need implicitly through the call stack!"
   ]
  },
  {
   "cell_type": "markdown",
   "metadata": {
    "slideshow": {
     "slide_type": "slide"
    }
   },
   "source": [
    "## 4.11 Exploring a Maze"
   ]
  },
  {
   "cell_type": "markdown",
   "metadata": {
    "slideshow": {
     "slide_type": "subslide"
    }
   },
   "source": [
    "In this section we will look at a problem that has relevance to the expanding world of robotics: how do you find your way out of a maze?"
   ]
  },
  {
   "cell_type": "markdown",
   "metadata": {
    "slideshow": {
     "slide_type": "fragment"
    }
   },
   "source": [
    "The problem we want to solve is to help our turtle find its way out of a virtual maze. The maze problem has roots as deep as the Greek myth about Theseus, who was sent into a maze to kill the Minotaur."
   ]
  },
  {
   "cell_type": "markdown",
   "metadata": {
    "slideshow": {
     "slide_type": "fragment"
    }
   },
   "source": [
    "Theseus used a ball of thread to help him find his way back out again once he had finished off the beast. In our problem we will assume that our turtle is dropped down somewhere into the middle of the maze and must find its way out."
   ]
  },
  {
   "cell_type": "markdown",
   "metadata": {
    "slideshow": {
     "slide_type": "subslide"
    }
   },
   "source": [
    "<center><img src=\"imgs/maze.png\" width=\"40%\" /></center>"
   ]
  },
  {
   "cell_type": "markdown",
   "metadata": {
    "slideshow": {
     "slide_type": "subslide"
    }
   },
   "source": [
    "To make it easier for us we will assume that our maze is divided up into squares. Each square of the maze is either open or occupied by a section of wall. The turtle can only pass through the open squares of the maze. If the turtle bumps into a wall, it must try a different direction. Here is the procedure:"
   ]
  },
  {
   "cell_type": "markdown",
   "metadata": {
    "slideshow": {
     "slide_type": "fragment"
    }
   },
   "source": [
    "1. From our starting position we will first try going north one square and then **recursively try our procedure from there**."
   ]
  },
  {
   "cell_type": "markdown",
   "metadata": {
    "slideshow": {
     "slide_type": "fragment"
    }
   },
   "source": [
    "2. If we are not successful by trying a northern path as the first step then we will take a step to the south and recursively repeat our procedure."
   ]
  },
  {
   "cell_type": "markdown",
   "metadata": {
    "slideshow": {
     "slide_type": "subslide"
    }
   },
   "source": [
    "3. If south does not work then we will try a step to the West as our first step and recursively apply our procedure."
   ]
  },
  {
   "cell_type": "markdown",
   "metadata": {
    "slideshow": {
     "slide_type": "fragment"
    }
   },
   "source": [
    "4. If north, south, and west have not been successful then we will apply the procedure recursively from a position one step to our east."
   ]
  },
  {
   "cell_type": "markdown",
   "metadata": {
    "slideshow": {
     "slide_type": "fragment"
    }
   },
   "source": [
    "5. If none of these directions works then there is no way to get out of the maze and we fail."
   ]
  },
  {
   "cell_type": "markdown",
   "metadata": {
    "slideshow": {
     "slide_type": "subslide"
    }
   },
   "source": [
    "Now that sounds easy, but there are a couple of details to talk about! Suppose we take our first recursive step by going north. By following our procedure, our next step would also be to the north. But if the north is blocked by a wall, we must look at the next step of the procedure and try going to the south."
   ]
  },
  {
   "cell_type": "markdown",
   "metadata": {
    "slideshow": {
     "slide_type": "fragment"
    }
   },
   "source": [
    "Unfortunately, that step to the south brings us right back to our original starting place. If we apply the recursive procedure from there, we will just go back one step to the North and be in an infinite loop! So we must have a strategy to remember where we have been!"
   ]
  },
  {
   "cell_type": "markdown",
   "metadata": {
    "slideshow": {
     "slide_type": "fragment"
    }
   },
   "source": [
    "In this case we will assume that we have a **bag of bread crumbs we can drop along our way.** If we take a step in a certain direction and find that there is a bread crumb already on that square, we know that we should immediately back up and try the next direction in our procedure. As we will see when we look at the code for this algorithm, **backing up is as simple as returning from a recursive function call.**"
   ]
  },
  {
   "cell_type": "markdown",
   "metadata": {
    "slideshow": {
     "slide_type": "subslide"
    }
   },
   "source": [
    "As we do for all recursive algorithms, let us review the base cases. Some of them you may already have guessed based on the description in the previous paragraph. In this algorithm, there are four base cases to consider:"
   ]
  },
  {
   "cell_type": "markdown",
   "metadata": {
    "slideshow": {
     "slide_type": "fragment"
    }
   },
   "source": [
    "1. The turtle has run into a wall. Since the square is occupied by a wall, no further exploration can take place.\n",
    "\n",
    "2. The turtle has found a square that has already been explored. We do not want to continue exploring from this position so we don’t get into a loop."
   ]
  },
  {
   "cell_type": "markdown",
   "metadata": {
    "slideshow": {
     "slide_type": "fragment"
    }
   },
   "source": [
    "3. We have found an outside edge, not occupied by a wall. In other words, we have found an exit from the maze.\n",
    "\n",
    "4. We have explored a square unsuccessfully in all four directions."
   ]
  },
  {
   "cell_type": "markdown",
   "metadata": {
    "slideshow": {
     "slide_type": "subslide"
    }
   },
   "source": [
    "Now we will considering the following maze:\n",
    "\n",
    "```\n",
    "++++++++++++++++++++++\n",
    "+   +   ++ ++     +\n",
    "+ +   +       +++ + ++\n",
    "+ + +  ++  ++++   + ++\n",
    "+++ ++++++    +++ +  +\n",
    "+          ++  ++    +\n",
    "+++++ ++++++   +++++ +\n",
    "+     +   +++++++  + +\n",
    "+ +++++++      S +   +\n",
    "+                + +++\n",
    "++++++++++++++++++ +++\n",
    "```"
   ]
  },
  {
   "cell_type": "markdown",
   "metadata": {
    "slideshow": {
     "slide_type": "subslide"
    }
   },
   "source": [
    "The `Maze` object will provide the following methods for us to use in writing our search algorithm:\n",
    "\n",
    "1. `__init__` Reads in a data file representing a maze, initializes the internal representation of the maze, and finds the starting position for the turtle.\n",
    "\n",
    "2. `draw_maze()` Draws the maze in a window on the screen."
   ]
  },
  {
   "cell_type": "markdown",
   "metadata": {
    "slideshow": {
     "slide_type": "fragment"
    }
   },
   "source": [
    "3. `update_position()` Updates the internal representation of the maze and changes the position of the turtle in the window.\n",
    "\n",
    "4. `is_exit()` Checks to see if the current position is an exit from the maze."
   ]
  },
  {
   "cell_type": "markdown",
   "metadata": {
    "slideshow": {
     "slide_type": "fragment"
    }
   },
   "source": [
    "The `Maze` class also overloads the index operator `[]` so that our algorithm can easily access the status of any particular square."
   ]
  },
  {
   "cell_type": "code",
   "execution_count": null,
   "metadata": {
    "slideshow": {
     "slide_type": "subslide"
    }
   },
   "outputs": [],
   "source": [
    "%%writefile maze.py\n",
    "\n",
    "import turtle\n",
    "\n",
    "START = \"S\"\n",
    "OBSTACLE = \"+\"\n",
    "TRIED = \".\"\n",
    "DEAD_END = \"-\"\n",
    "PART_OF_PATH = \"O\""
   ]
  },
  {
   "cell_type": "markdown",
   "metadata": {
    "slideshow": {
     "slide_type": "fragment"
    }
   },
   "source": [
    "The `__init__` method takes the name of a file as its only parameter. This file is a text file that represents a maze by using \"+\" characters for walls, spaces for open squares, and the letter \"S\" to indicate the starting position."
   ]
  },
  {
   "cell_type": "code",
   "execution_count": null,
   "metadata": {
    "slideshow": {
     "slide_type": "subslide"
    }
   },
   "outputs": [],
   "source": [
    "%%writefile -a maze.py\n",
    "class Maze:\n",
    "    def __init__(self, maze_filename):\n",
    "        with open(maze_filename, \"r\") as maze_file:\n",
    "            self.maze_list = [\n",
    "                [ch for ch in line.rstrip(\"\\n\")]\n",
    "                for line in maze_file.readlines()\n",
    "            ]\n",
    "        self.rows_in_maze = len(self.maze_list)\n",
    "        self.columns_in_maze = len(self.maze_list[0])\n",
    "        for row_idx, row in enumerate(self.maze_list):\n",
    "            if START in row:\n",
    "                self.start_row = row_idx\n",
    "                self.start_col = row.index(START)\n",
    "                break\n",
    "        # This is for turtle module, do not worry about it\n",
    "        self.x_translate = -self.columns_in_maze / 2\n",
    "        self.y_translate = self.rows_in_maze / 2\n",
    "        self.t = turtle.Turtle()\n",
    "        self.t.shape(\"turtle\")\n",
    "        self.wn = turtle.Screen()\n",
    "        self.wn.setworldcoordinates(\n",
    "            -(self.columns_in_maze - 1) / 2 - 0.5,\n",
    "            -(self.rows_in_maze - 1) / 2 - 0.5,\n",
    "            (self.columns_in_maze - 1) / 2 + 0.5,\n",
    "            (self.rows_in_maze - 1) / 2 + 0.5)\n",
    "        self.current_speed = 6  # Default speed"
   ]
  },
  {
   "cell_type": "markdown",
   "metadata": {
    "slideshow": {
     "slide_type": "skip"
    }
   },
   "source": [
    "The internal representation of the maze is a list of lists. Each row of the `maze_list` instance variable is also a list. "
   ]
  },
  {
   "cell_type": "code",
   "execution_count": null,
   "metadata": {
    "slideshow": {
     "slide_type": "subslide"
    }
   },
   "outputs": [],
   "source": [
    "%%writefile -a maze.py\n",
    "    # This is for turtle module, do not worry about it\n",
    "    def draw_maze(self):\n",
    "        self.t.speed(10)\n",
    "        self.wn.tracer(0)\n",
    "        for y in range(self.rows_in_maze):\n",
    "            for x in range(self.columns_in_maze):\n",
    "                if self.maze_list[y][x] == OBSTACLE:\n",
    "                    self.draw_centered_box(\n",
    "                        x + self.x_translate, -y + self.y_translate, \"orange\"\n",
    "                    )\n",
    "        self.t.color(\"black\")\n",
    "        self.t.fillcolor(\"blue\")\n",
    "        self.wn.update()\n",
    "        self.wn.tracer(1)\n",
    "    def draw_centered_box(self, x, y, color):\n",
    "        self.t.up()\n",
    "        self.t.goto(x - 0.5, y - 0.5)\n",
    "        self.t.color(color)\n",
    "        self.t.fillcolor(color)\n",
    "        self.t.setheading(90)\n",
    "        self.t.down()\n",
    "        self.t.begin_fill()\n",
    "        for i in range(4):\n",
    "            self.t.forward(1)\n",
    "            self.t.right(90)\n",
    "        self.t.end_fill()"
   ]
  },
  {
   "cell_type": "code",
   "execution_count": null,
   "metadata": {
    "slideshow": {
     "slide_type": "subslide"
    }
   },
   "outputs": [],
   "source": [
    "%%writefile -a maze.py\n",
    "    def update_position(self, row, col, val=None):\n",
    "        if val:\n",
    "            self.maze_list[row][col] = val\n",
    "        self.move_turtle(col, row)\n",
    "        if val == PART_OF_PATH:\n",
    "            color = \"green\"\n",
    "        elif val == OBSTACLE:\n",
    "            color = \"red\"\n",
    "        elif val == TRIED:\n",
    "            color = \"black\"\n",
    "        elif val == DEAD_END:\n",
    "            color = \"red\"\n",
    "        else:\n",
    "            color = None\n",
    "        if color:\n",
    "            self.drop_bread_crumb(color)\n",
    "    # This is for turtle module, do not worry about it\n",
    "    def move_turtle(self, x, y):\n",
    "        self.t.up()\n",
    "        self.t.setheading(self.t.towards(x + self.x_translate, -y + self.y_translate))\n",
    "        self.t.goto(x + self.x_translate, -y + self.y_translate)\n",
    "\n",
    "    def drop_bread_crumb(self, color):\n",
    "        self.t.dot(10, color)"
   ]
  },
  {
   "cell_type": "markdown",
   "metadata": {
    "slideshow": {
     "slide_type": "skip"
    }
   },
   "source": [
    "The `is_exit()` method uses the current position of the turtle to test for an exit condition. An exit condition occurs whenever the turtle has navigated to the edge of the maze, either row zero or column zero, or the far-right column or the bottom row."
   ]
  },
  {
   "cell_type": "code",
   "execution_count": null,
   "metadata": {
    "slideshow": {
     "slide_type": "subslide"
    }
   },
   "outputs": [],
   "source": [
    "%%writefile -a maze.py\n",
    "    def is_exit(self, row, col):\n",
    "        return (\n",
    "            row == 0\n",
    "            or row == self.rows_in_maze - 1\n",
    "            or col == 0\n",
    "            or col == self.columns_in_maze - 1\n",
    "        )\n",
    "\n",
    "    def __getitem__(self, idx):\n",
    "        return self.maze_list[idx]\n",
    "    # This is for turtle module, do not worry about it\n",
    "    def set_speed(self, speed):\n",
    "        self.current_speed = speed\n",
    "        self.t.speed(speed)\n",
    "\n",
    "    def start_interactive_control(self):\n",
    "        self.wn.listen()\n",
    "        self.wn.onkey(lambda: self.set_speed(10), \"f\")\n",
    "        self.wn.onkey(lambda: self.set_speed(3), \"n\")\n",
    "        self.wn.onkey(lambda: self.set_speed(1), \"s\")"
   ]
  },
  {
   "cell_type": "markdown",
   "metadata": {
    "slideshow": {
     "slide_type": "skip"
    }
   },
   "source": [
    "Let’s examine the code for the search function which we call `search_from()`. Notice that this function takes three parameters: a `Maze` object, the starting `row`, and the starting `column`. This is important because as a recursive function the search logically starts again with each recursive call."
   ]
  },
  {
   "cell_type": "code",
   "execution_count": null,
   "metadata": {
    "slideshow": {
     "slide_type": "subslide"
    }
   },
   "outputs": [],
   "source": [
    "%%writefile -a maze.py\n",
    "def search_from(maze, row, column):\n",
    "    # Try each of four directions from this point until we find a way out.\n",
    "    maze.update_position(row, column)\n",
    "    # Base Case return values:\n",
    "    #  1. We have run into an obstacle, return false\n",
    "    if maze[row][column] == OBSTACLE:\n",
    "        return False\n",
    "    #  2. We have found an already explored square\n",
    "    if maze[row][column] in [TRIED, DEAD_END]:\n",
    "        return False\n",
    "    # 3. We have found an exit\n",
    "    if maze.is_exit(row, column):\n",
    "        maze.update_position(row, column, PART_OF_PATH)\n",
    "        return True\n",
    "    maze.update_position(row, column, TRIED)\n",
    "    # Otherwise, use logical short circuiting to try each direction in turn (if needed)\n",
    "    found = (\n",
    "        search_from(maze, row - 1, column)\n",
    "        or search_from(maze, row + 1, column)\n",
    "        or search_from(maze, row, column - 1)\n",
    "        or search_from(maze, row, column + 1))\n",
    "    if found:\n",
    "        maze.update_position(row, column, PART_OF_PATH)\n",
    "    else:\n",
    "        maze.update_position(row, column, DEAD_END)\n",
    "    return found"
   ]
  },
  {
   "cell_type": "markdown",
   "metadata": {
    "slideshow": {
     "slide_type": "subslide"
    }
   },
   "source": [
    "You will notice that in the recursive step there are four recursive calls to `search_from()`. It is hard to predict how many of these recursive calls will be used since they are all connected by or statements. "
   ]
  },
  {
   "cell_type": "markdown",
   "metadata": {
    "slideshow": {
     "slide_type": "fragment"
    }
   },
   "source": [
    "If the first call to `search_from()` returns `True` then none of the last three calls would be needed. You can interpret this as meaning that a step to `(row - 1, column)` (or north if you want to think geographically) is on the path leading out of the maze. "
   ]
  },
  {
   "cell_type": "markdown",
   "metadata": {
    "slideshow": {
     "slide_type": "fragment"
    }
   },
   "source": [
    "If there is not a good path leading out of the maze to the north then the next recursive call is tried, this one to the south. If south fails then try west, and finally east. If all four recursive calls return `False` then we have found a dead end."
   ]
  },
  {
   "cell_type": "code",
   "execution_count": null,
   "metadata": {
    "slideshow": {
     "slide_type": "subslide"
    }
   },
   "outputs": [],
   "source": [
    "%%writefile -a maze.py\n",
    "\n",
    "my_maze = Maze(\"maze2.txt\")\n",
    "my_maze.draw_maze()\n",
    "my_maze.update_position(my_maze.start_row, my_maze.start_col)\n",
    "\n",
    "my_maze.start_interactive_control()\n",
    "search_from(my_maze, my_maze.start_row, my_maze.start_col)"
   ]
  },
  {
   "cell_type": "code",
   "execution_count": null,
   "metadata": {
    "slideshow": {
     "slide_type": "fragment"
    }
   },
   "outputs": [],
   "source": [
    "%%writefile maze2.txt\n",
    "++++++++++++++++++++++\n",
    "+   +   ++ ++        +\n",
    "      +     ++++++++++\n",
    "+ +    ++  ++++ +++ ++\n",
    "+ +   + + ++    +++  +\n",
    "+          ++  ++  + +\n",
    "+++++ + +      ++  + +\n",
    "+++++ +++  + +  ++   +\n",
    "+          + + S+ +  +\n",
    "+++++ +  + + +     + +\n",
    "++++++++++++++++++++++"
   ]
  },
  {
   "cell_type": "code",
   "execution_count": null,
   "metadata": {
    "slideshow": {
     "slide_type": "subslide"
    }
   },
   "outputs": [],
   "source": [
    "!python maze.py"
   ]
  },
  {
   "cell_type": "markdown",
   "metadata": {
    "slideshow": {
     "slide_type": "skip"
    }
   },
   "source": [
    "## 4.12. Dynamic Programming (Optional)"
   ]
  },
  {
   "cell_type": "markdown",
   "metadata": {
    "slideshow": {
     "slide_type": "skip"
    }
   },
   "source": [
    "Many programs in computer science are written to optimize some value; for example, find the shortest path between two points, find the line that best fits a set of points, or find the smallest set of objects that satisfies some criteria. "
   ]
  },
  {
   "cell_type": "markdown",
   "metadata": {
    "slideshow": {
     "slide_type": "skip"
    }
   },
   "source": [
    "There are many strategies that computer scientists use to solve these problems. <u>Dynamic programming</u> is one strategy for these types of optimization problems."
   ]
  },
  {
   "cell_type": "markdown",
   "metadata": {
    "slideshow": {
     "slide_type": "skip"
    }
   },
   "source": [
    "A classic example of an optimization problem involves making change using the fewest coins. Suppose you are a programmer for a vending machine manufacturer. Your company wants to streamline effort by giving out the fewest possible coins in change for each transaction. Suppose a customer puts in a dollar bill and purchases an item for 37 cents. What is the smallest number of coins you can use to make change? "
   ]
  },
  {
   "cell_type": "markdown",
   "metadata": {
    "slideshow": {
     "slide_type": "skip"
    }
   },
   "source": [
    "The answer is six coins: two quarters, one dime, and three pennies. How did we arrive at the answer of six coins? We start with the largest coin in our arsenal (a quarter) and use as many of those as possible, then we go to the next lowest coin value and use as many of those as possible. This first approach is called a <u>greedy method</u> because we try to solve as big a piece of the problem as possible right away."
   ]
  },
  {
   "cell_type": "markdown",
   "metadata": {
    "slideshow": {
     "slide_type": "skip"
    }
   },
   "source": [
    "The greedy method works fine when we are using U.S. coins, but suppose that your company decides to deploy its vending machines in other countries where, in addition to the usual 1, 5, 10, and 25 cent coins they also have a 21 cent coin. In this instance our greedy method fails to find the optimal solution for 63 cents in change. With the addition of the 21 cent coin the greedy method would still find the solution to be six coins. However, the optimal answer is three 21 cent pieces!"
   ]
  },
  {
   "cell_type": "markdown",
   "metadata": {
    "slideshow": {
     "slide_type": "skip"
    }
   },
   "source": [
    "Let's start with identifying the base case and use recursion instead. If we are trying to make change for the same amount as the value of one of our coins, the answer is easy, one coin."
   ]
  },
  {
   "cell_type": "markdown",
   "metadata": {
    "slideshow": {
     "slide_type": "skip"
    }
   },
   "source": [
    "If the amount does not match we have several options. What we want is the minimum of a penny plus the number of coins needed to make change for the original amount minus a penny, or a nickel plus the number of coins needed to make change for the original amount minus five cents, and so on. So the number of coins needed to make change for the original amount is:"
   ]
  },
  {
   "cell_type": "markdown",
   "metadata": {
    "slideshow": {
     "slide_type": "skip"
    }
   },
   "source": [
    "$$\\begin{split}   num\\_coins =\n",
    "min\n",
    "\\begin{cases}\n",
    "1 + num\\_coins(original\\ amount - 1) \\\\\n",
    "1 + num\\_coins(original\\ amount - 5) \\\\\n",
    "1 + num\\_coins(original\\ amount - 10) \\\\\n",
    "1 + num\\_coins(original\\ amount - 25)\n",
    "\\end{cases}\n",
    "\\label{eqn_change}\\end{split}$$"
   ]
  },
  {
   "cell_type": "code",
   "execution_count": null,
   "metadata": {
    "slideshow": {
     "slide_type": "skip"
    }
   },
   "outputs": [],
   "source": [
    "def make_change_1(coin_denoms, change):\n",
    "    if change in coin_denoms:\n",
    "        return 1\n",
    "    min_coins = float(\"inf\")\n",
    "    for i in [c for c in coin_denoms if c <= change]:\n",
    "        num_coins = 1 + make_change_1(\n",
    "            coin_denoms, change - i\n",
    "        )\n",
    "        min_coins = min(num_coins, min_coins)\n",
    "    return min_coins\n",
    "\n",
    "print(make_change_1([1, 5, 10, 25], 63))"
   ]
  },
  {
   "cell_type": "markdown",
   "metadata": {
    "slideshow": {
     "slide_type": "skip"
    }
   },
   "source": [
    "In line 3 we are checking our base case; that is, we are trying to make change in the exact amount of one of our coins. If we do not have a coin equal to the amount of change, we make recursive calls for each different coin value less than the amount of change we are trying to make."
   ]
  },
  {
   "cell_type": "markdown",
   "metadata": {
    "slideshow": {
     "slide_type": "skip"
    }
   },
   "source": [
    "The trouble with the algorithm is that it is extremely inefficient. In fact, it takes $67,716,925$ recursive calls to find the optimal solution to the 4 coins, 63 cents problem! The following figure illustrates a small fraction of the 377 function calls needed to find the optimal set of coins to make change for 26 cents."
   ]
  },
  {
   "cell_type": "markdown",
   "metadata": {
    "slideshow": {
     "slide_type": "skip"
    }
   },
   "source": [
    "<center><img src=\"imgs/dp1.png\" width=\"55%\" /></center>"
   ]
  },
  {
   "cell_type": "markdown",
   "metadata": {
    "slideshow": {
     "slide_type": "skip"
    }
   },
   "source": [
    "Each node in the graph corresponds to a call to `make_change_1()`. The label on the node indicates the amount of change for which we are computing the number of coins. The label on the arrow indicates the coin that we just used."
   ]
  },
  {
   "cell_type": "markdown",
   "metadata": {
    "slideshow": {
     "slide_type": "skip"
    }
   },
   "source": [
    "The main problem is that we are **redoing too many calculations**. For example, the graph shows that the algorithm would recalculate the optimal number of coins to make change for 15 cents at least three times. Each of these computations to find the optimal number of coins for 15 cents itself takes 52 function calls. Clearly we are wasting a lot of time and effort recalculating old results."
   ]
  },
  {
   "cell_type": "markdown",
   "metadata": {
    "slideshow": {
     "slide_type": "skip"
    }
   },
   "source": [
    "The key to cutting down on the amount of work we do is to remember some of the past results so we can avoid recomputing results we already know. \n",
    "\n",
    "A simple solution is to store the results for the minimum number of coins in a table when we find them. Then before we compute a new minimum, we first check the table to see if a result is already known. If there is already a result in the table, we use the value from the table rather than recomputing!"
   ]
  },
  {
   "cell_type": "code",
   "execution_count": null,
   "metadata": {
    "slideshow": {
     "slide_type": "skip"
    }
   },
   "outputs": [],
   "source": [
    "def make_change_2(coin_value_list, change, known_results):\n",
    "    min_coins = change\n",
    "    if change in coin_value_list:\n",
    "        known_results[change] = 1\n",
    "        return 1\n",
    "    elif known_results[change] > 0:\n",
    "        return known_results[change]\n",
    "    else:\n",
    "        for i in [c for c in coin_value_list if c <= change]:\n",
    "            num_coins = 1 + make_change_2(coin_value_list, change - i, known_results)\n",
    "            if num_coins < min_coins:\n",
    "                min_coins = num_coins\n",
    "            known_results[change] = min_coins\n",
    "    return min_coins\n",
    "\n",
    "print(make_change_2([1, 5, 10, 25], 63, [0] * 64))"
   ]
  },
  {
   "cell_type": "markdown",
   "metadata": {
    "slideshow": {
     "slide_type": "skip"
    }
   },
   "source": [
    "Notice that in line 6 we have added a test to see if our table contains the minimum number of coins for a certain amount of change. If it does not, we compute the minimum recursively and store the computed minimum in the table. Using this modified algorithm reduces the number of recursive calls we need to make for the four coin, 63 cent problem to 221 calls!"
   ]
  },
  {
   "cell_type": "markdown",
   "metadata": {
    "slideshow": {
     "slide_type": "skip"
    }
   },
   "source": [
    "It looks and feels like a bit of a hack. Also, if we look at the `known_results` lists we can see that there are some holes in the table. In fact the term for what we have done is not dynamic programming but rather we have improved the performance of our program by using a technique known as <u>memoization</u>, or more commonly called <u>caching</u>."
   ]
  },
  {
   "cell_type": "markdown",
   "metadata": {
    "slideshow": {
     "slide_type": "skip"
    }
   },
   "source": [
    "A truly dynamic programming algorithm will take a more systematic approach to the problem. Our dynamic programming solution is going to start with making change for one cent and systematically work its way up to the amount of change we require. \n",
    "\n",
    "This guarantees that at each step of the algorithm we already know the minimum number of coins needed to make change for any smaller amount."
   ]
  },
  {
   "cell_type": "markdown",
   "metadata": {
    "slideshow": {
     "slide_type": "skip"
    }
   },
   "source": [
    "Let’s look at how we would fill in a table of minimum coins to use in making change for 11 cents:"
   ]
  },
  {
   "cell_type": "markdown",
   "metadata": {
    "slideshow": {
     "slide_type": "skip"
    }
   },
   "source": [
    "<center><img src=\"imgs/dp2.png\" width=\"40%\" /></center>"
   ]
  },
  {
   "cell_type": "markdown",
   "metadata": {
    "slideshow": {
     "slide_type": "skip"
    }
   },
   "source": [
    "We start with one cent. The only solution possible is one coin. The next row shows the minimum for one cent and two cents. Again, the only solution is two pennies. The fifth row is where things get interesting. Now we have two options to consider, five pennies or one nickel. \n",
    "\n",
    "How do we decide which is best? We consult the table and see that the number of coins needed to make change for four cents is four, plus one more penny to make five, equals five coins. Or we can look at zero cents plus one more nickel to make five cents equals one coin. Since the minimum of one and five is one we store 1 in the table. Fast forward again to the end of the table and consider 11 cents."
   ]
  },
  {
   "cell_type": "markdown",
   "metadata": {
    "slideshow": {
     "slide_type": "skip"
    }
   },
   "source": [
    " Figure below shows the three options that we have to consider: "
   ]
  },
  {
   "cell_type": "markdown",
   "metadata": {
    "slideshow": {
     "slide_type": "skip"
    }
   },
   "source": [
    "<center><img src=\"imgs/dp3.png\" width=\"40%\" /></center>"
   ]
  },
  {
   "cell_type": "markdown",
   "metadata": {
    "slideshow": {
     "slide_type": "skip"
    }
   },
   "source": [
    "1. A penny plus the minimum number of coins to make change for 11-1=10 cents (1)\n",
    "\n",
    "2. A nickel plus the minimum number of coins to make change for 11-5=6 cents (2)\n",
    "\n",
    "3. A dime plus the minimum number of coins to make change for 11-10=1 cent (1)"
   ]
  },
  {
   "cell_type": "markdown",
   "metadata": {
    "slideshow": {
     "slide_type": "skip"
    }
   },
   "source": [
    "Code below is a dynamic programming algorithm to solve our change-making problem. `make_change_3()` takes three parameters: a list of valid coin values, the amount of change we want to make, and a list of the minimum number of coins needed to make each value. When the function is done, `min_coins` will contain the solution for all values from 0 to the value of change."
   ]
  },
  {
   "cell_type": "code",
   "execution_count": null,
   "metadata": {
    "slideshow": {
     "slide_type": "skip"
    }
   },
   "outputs": [],
   "source": [
    "def make_change_3(coin_value_list, change, min_coins):\n",
    "    for cents in range(change + 1):\n",
    "        coin_count = cents\n",
    "        for j in [c for c in coin_value_list if c <= cents]:\n",
    "            if min_coins[cents - j] + 1 < coin_count:\n",
    "                coin_count = min_coins[cents - j] + 1\n",
    "        min_coins[cents] = coin_count\n",
    "    return min_coins[change]\n",
    "\n",
    "print(make_change_2([1, 5, 10, 25], 63, [0] * 64))"
   ]
  },
  {
   "cell_type": "markdown",
   "metadata": {
    "slideshow": {
     "slide_type": "skip"
    }
   },
   "source": [
    "Note that make_change_3 is not a recursive function. The bulk of the work in this function is done by the loop that starts on line 4. In this loop we consider using all possible coins to make change for the amount specified by cents. We remember the minimum value and store it in our `min_coins` list."
   ]
  },
  {
   "cell_type": "markdown",
   "metadata": {
    "slideshow": {
     "slide_type": "skip"
    }
   },
   "source": [
    "We can easily extend `make_change_3` to keep track of the coins used by simply remembering the last coin we add for each entry in the `min_coins` table. If we know the last coin added, we can simply subtract the value of the coin to find a previous entry in the table that tells us the last coin we added to make that amount. We can keep tracing back through the table until we get to the beginning!"
   ]
  },
  {
   "cell_type": "code",
   "execution_count": null,
   "metadata": {
    "slideshow": {
     "slide_type": "skip"
    }
   },
   "outputs": [],
   "source": [
    "def make_change_4(coin_value_list, change, min_coins, coins_used):\n",
    "    for cents in range(change + 1):\n",
    "        coin_count = cents\n",
    "        new_coin = 1\n",
    "        for j in [c for c in coin_value_list if c <= cents]:\n",
    "            if min_coins[cents - j] + 1 < coin_count:\n",
    "                coin_count = min_coins[cents - j] + 1\n",
    "                new_coin = j\n",
    "        min_coins[cents] = coin_count\n",
    "        coins_used[cents] = new_coin\n",
    "    return min_coins[change]\n",
    "\n",
    "def print_coins(coins_used, change):\n",
    "    coin = change\n",
    "    while coin > 0:\n",
    "        this_coin = coins_used[coin]\n",
    "        print(this_coin, end=\" \")\n",
    "        coin = coin - this_coin\n",
    "    print()"
   ]
  },
  {
   "cell_type": "code",
   "execution_count": null,
   "metadata": {
    "slideshow": {
     "slide_type": "skip"
    }
   },
   "outputs": [],
   "source": [
    "amnt = 63\n",
    "clist = [1, 5, 10, 21, 25]\n",
    "coins_used = [0] * (amnt + 1)\n",
    "coin_count = [0] * (amnt + 1)\n",
    "\n",
    "print(\n",
    "   \"Making change for {} requires the following {} coins: \".format(\n",
    "         amnt, make_change_4(clist, amnt, coin_count, coins_used)\n",
    "   ),\n",
    "   end=\"\",\n",
    ")\n",
    "print_coins(coins_used, amnt)\n",
    "print(\"The used list is as follows:\")\n",
    "print(coins_used)"
   ]
  },
  {
   "cell_type": "markdown",
   "metadata": {
    "slideshow": {
     "slide_type": "skip"
    }
   },
   "source": [
    "`coins_used` is a list of the coins used to make change, and `coin_count` is the minimum number of coins used to make change for the amount corresponding to the position in the list."
   ]
  },
  {
   "cell_type": "markdown",
   "metadata": {
    "slideshow": {
     "slide_type": "skip"
    }
   },
   "source": [
    "Notice that the coins we print out come directly from the `coins_used` array. For the first call we start at array position 63 and print 21. Then we take and look at the 42nd element of the list. Once again we find a 21 stored there. Finally, element 21 of the array also contains 21, giving us the three 21 cent pieces."
   ]
  },
  {
   "cell_type": "markdown",
   "metadata": {
    "slideshow": {
     "slide_type": "slide"
    }
   },
   "source": [
    "## References"
   ]
  },
  {
   "cell_type": "markdown",
   "metadata": {
    "id": "2teyKp_e1khl",
    "slideshow": {
     "slide_type": "subslide"
    }
   },
   "source": [
    "1. Textbook CH4"
   ]
  },
  {
   "cell_type": "markdown",
   "metadata": {
    "slideshow": {
     "slide_type": "skip"
    }
   },
   "source": [
    "## Key terms"
   ]
  },
  {
   "cell_type": "markdown",
   "metadata": {
    "slideshow": {
     "slide_type": "skip"
    }
   },
   "source": [
    "1. **Recursion**: A programming technique where a function calls itself directly or indirectly to solve a problem. It breaks down a problem into smaller, more manageable parts until reaching a base case that can be solved directly.\n",
    "\n",
    "2. **Base Case**: In recursion, the base case is a condition that stops the recursion by not allowing the function to call itself. It typically represents the simplest instance of the problem, which can be solved without further recursion.\n",
    "\n",
    "3. **Stack Frame**: A stack frame, or activation record, is a portion of the stack memory that contains all the information necessary to execute a function call, including parameter values, return address, and local variables. Each recursive call creates a new stack frame on the call stack.\n",
    "\n",
    "4. **Fractals**: Geometric figures that are self-similar across different scales. Fractals are infinitely complex patterns that are created by repeating a simple process over and over in an ongoing feedback loop. They are often used in computer graphics to generate natural-looking scenarios.\n",
    "\n",
    "5. **Dynamic Programming**: A method for solving complex problems by breaking them down into simpler subproblems, solving each subproblem just once, and storing their solutions. It is used when the subproblems overlap, as in memorization or bottom-up approach, to optimize the overall problem-solving process by avoiding redundant calculations.\n",
    "\n",
    "6. **Greedy Method**: A problem-solving strategy that makes the best choice at each step as it attempts to find the overall optimal way to solve the entire problem. This method hopes to find the global optimum by making locally optimal choices at each step, but it does not guarantee an optimal solution for all problems.\n",
    "\n",
    "7. **Memoization**: A technique used in dynamic programming to speed up computer programs by storing the results of expensive function calls and returning the cached result when the same inputs occur again. It is a specific form of caching that is used to reduce the computational cost of re-calculating results."
   ]
  }
 ],
 "metadata": {
  "celltoolbar": "Slideshow",
  "colab": {
   "collapsed_sections": [
    "cDAMEH2XJ14T"
   ],
   "provenance": []
  },
  "kernelspec": {
   "display_name": "Python 3 (ipykernel)",
   "language": "python",
   "name": "python3"
  },
  "language_info": {
   "codemirror_mode": {
    "name": "ipython",
    "version": 3
   },
   "file_extension": ".py",
   "mimetype": "text/x-python",
   "name": "python",
   "nbconvert_exporter": "python",
   "pygments_lexer": "ipython3",
   "version": "3.9.13"
  },
  "rise": {
   "chalkboard": {
    "color": [
     "rgb(250, 0, 0)",
     "rgb(250, 0, 0)"
    ]
   },
   "controls": false,
   "enable_chalkboard": true,
   "footer": "",
   "overlay": "<div class='myfooter'><h4>Recursion</h4></div>",
   "slideNumber": "true",
   "theme": "night"
  },
  "vscode": {
   "interpreter": {
    "hash": "1561eddc5e0c9c74df968f74d5080d02882967127f956e6e7049c43d2ef42321"
   }
  }
 },
 "nbformat": 4,
 "nbformat_minor": 1
}
