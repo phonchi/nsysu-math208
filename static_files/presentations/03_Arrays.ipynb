{
 "cells": [
  {
   "cell_type": "markdown",
   "metadata": {
    "id": "11n5gndbRzoY",
    "slideshow": {
     "slide_type": "slide"
    }
   },
   "source": [
    "# Arrays\n"
   ]
  },
  {
   "cell_type": "markdown",
   "metadata": {
    "slideshow": {
     "slide_type": "subslide"
    }
   },
   "source": [
    "1. Low-Level Arrays\n",
    "\n",
    "2. Compact array\n",
    "\n",
    "3. Multidimensional Arrays (Matrix)\n",
    "\n",
    "4. Sparse Martrix"
   ]
  },
  {
   "cell_type": "markdown",
   "metadata": {
    "id": "7UomBxHtJ14C",
    "slideshow": {
     "slide_type": "slide"
    }
   },
   "source": [
    "## A.1 Low-Level Arrays"
   ]
  },
  {
   "cell_type": "markdown",
   "metadata": {
    "id": "wJjIP5Vne7cM",
    "slideshow": {
     "slide_type": "subslide"
    }
   },
   "source": [
    "In this section we will look at the principles behind the `Python` `list` implementation. It is important to recognize that this implementation is not going to be exactly the same as `Python`’s since the real `list` is implemented in the C programming language. The idea in this section is to use `Python` to demonstrate the key ideas, not to replace the C implementation!"
   ]
  },
  {
   "cell_type": "markdown",
   "metadata": {
    "slideshow": {
     "slide_type": "fragment"
    }
   },
   "source": [
    "The key to `Python`’s implementation of a `list` is to use a data type called an <u>array</u> common to C, C++, Java, and many other programming languages. "
   ]
  },
  {
   "cell_type": "markdown",
   "metadata": {
    "slideshow": {
     "slide_type": "fragment"
    }
   },
   "source": [
    "The array is very simple and is only capable of **storing one kind of data**. For example, you could have an array of integers or an array of floating point numbers, but you cannot mix the two in a single array."
   ]
  },
  {
   "cell_type": "markdown",
   "metadata": {
    "slideshow": {
     "slide_type": "subslide"
    }
   },
   "source": [
    "The array only supports two operations: **indexing and assignment to an array index.**"
   ]
  },
  {
   "cell_type": "markdown",
   "metadata": {
    "slideshow": {
     "slide_type": "fragment"
    }
   },
   "source": [
    "The best way to think about an array is that it is one **continuous block of bytes** in the computer's memory. This block is divided up into $n$-byte chunks where $n$ is based on the data type that is stored in the array. Figure below illustrates the idea of an array that is sized to hold six floating point values."
   ]
  },
  {
   "cell_type": "markdown",
   "metadata": {
    "slideshow": {
     "slide_type": "fragment"
    }
   },
   "source": [
    "<center><img src=\"imgs/array.png\" width=\"50%\" /></center>"
   ]
  },
  {
   "cell_type": "markdown",
   "metadata": {
    "id": "n9ehxkHHJ14K",
    "slideshow": {
     "slide_type": "subslide"
    }
   },
   "source": [
    "In `Python`, each floating point number uses 8 bytes of memory. So the array in above uses a total of 48 bytes. The base address is the location in memory where the array starts. "
   ]
  },
  {
   "cell_type": "code",
   "execution_count": null,
   "metadata": {
    "slideshow": {
     "slide_type": "skip"
    }
   },
   "outputs": [],
   "source": [
    "import sys, math\n",
    "# https://stackoverflow.com/questions/8216088/how-to-check-the-size-of-a-float-in-python\n",
    "print(sys.float_info.mant_dig + math.ceil(math.log2(sys.float_info.max_10_exp - sys.float_info.min_10_exp)) + 1)"
   ]
  },
  {
   "cell_type": "markdown",
   "metadata": {
    "slideshow": {
     "slide_type": "fragment"
    }
   },
   "source": [
    "You have seen addresses before in `Python` for different objects that you have defined. For example: `<__main__.Foo object at 0x5eca30>` shows that the object `Foo` is stored at memory address `0x5eca30`. The address is very important because an array implements the index operator using a very simple calculation:"
   ]
  },
  {
   "cell_type": "markdown",
   "metadata": {
    "slideshow": {
     "slide_type": "fragment"
    }
   },
   "source": [
    "```\n",
    "item_address = base_address + index * size_of_object\n",
    "```"
   ]
  },
  {
   "cell_type": "markdown",
   "metadata": {
    "id": "YkG4H_wmJ14L",
    "slideshow": {
     "slide_type": "subslide"
    }
   },
   "source": [
    "For example, suppose that our array starts at location `0x000040`, which is 64 in decimal. To calculate the location of the object at position 4 in the array we simply do the arithmetic: \n",
    "\n",
    "$$64 + 4 \\times 8$$\n",
    "\n",
    "Clearly this kind of calculation is $O(1)$. "
   ]
  },
  {
   "cell_type": "markdown",
   "metadata": {
    "slideshow": {
     "slide_type": "fragment"
    }
   },
   "source": [
    "Of course this comes with some risks:\n",
    "- First, since the size of an array is fixed, one cannot just add things on to the end of the array indefinitely without some serious consequences."
   ]
  },
  {
   "cell_type": "markdown",
   "metadata": {
    "slideshow": {
     "slide_type": "fragment"
    }
   },
   "source": [
    "- Second, in some languages, like C, the bounds of the array are not even checked, so even though your array has only six elements in it, assigning a value to index 7 will not result in a runtime error!"
   ]
  },
  {
   "cell_type": "markdown",
   "metadata": {
    "id": "In-sod4hJ14L",
    "slideshow": {
     "slide_type": "subslide"
    }
   },
   "source": [
    "As you might imagine this can cause big problems that are hard to track down. In the Linux operating system, accessing a value that is beyond the boundaries of an array will often produce the rather uninformative error message \"segmentation fault.\""
   ]
  },
  {
   "cell_type": "markdown",
   "metadata": {
    "slideshow": {
     "slide_type": "fragment"
    }
   },
   "source": [
    "<center><img src=\"imgs/segfault.png\" width=\"50%\" /></center>\n",
    "<center>source:https://www.deviantart.com/froaproa/art/Programming-meme-983116183</center>"
   ]
  },
  {
   "cell_type": "markdown",
   "metadata": {
    "id": "V1hbNXWKJ14M",
    "slideshow": {
     "slide_type": "subslide"
    }
   },
   "source": [
    "The general strategy that `Python` uses to implement an `array` is as follows:\n",
    "- Python uses an array that holds references (called pointers in C) to other objects (<u>Referential Arrays</u>)."
   ]
  },
  {
   "cell_type": "markdown",
   "metadata": {
    "slideshow": {
     "slide_type": "fragment"
    }
   },
   "source": [
    "- Python uses a strategy called over-allocation to allocate an array with space for more objects than is needed initially."
   ]
  },
  {
   "cell_type": "markdown",
   "metadata": {
    "slideshow": {
     "slide_type": "fragment"
    }
   },
   "source": [
    "<center><img src=\"imgs/refarray.png\" width=\"50%\" /></center>"
   ]
  },
  {
   "cell_type": "markdown",
   "metadata": {
    "slideshow": {
     "slide_type": "skip"
    }
   },
   "source": [
    "When the initial array is finally filled up, a new, bigger array is over-allocated and the contents of the old array are copied to the new array!"
   ]
  },
  {
   "cell_type": "markdown",
   "metadata": {
    "slideshow": {
     "slide_type": "subslide"
    }
   },
   "source": [
    "Let's look at how the strategy outlined above works for a very simple implementation. To begin, we will only implement the constructor and the `append()`, `size()` and `is_empty()` method. We will call this class `ArrayList`. "
   ]
  },
  {
   "cell_type": "markdown",
   "metadata": {
    "slideshow": {
     "slide_type": "skip"
    }
   },
   "source": [
    "In the constructor, we will need to initialize two instance variables. The first will keep track of the size of the current array; we will call this `max_size`. The second instance variable will keep track of the current end of the list; we will call this one `last_index`."
   ]
  },
  {
   "cell_type": "markdown",
   "metadata": {
    "slideshow": {
     "slide_type": "fragment"
    }
   },
   "source": [
    "We will use a `list` to simulate an array:"
   ]
  },
  {
   "cell_type": "code",
   "execution_count": null,
   "metadata": {
    "slideshow": {
     "slide_type": "fragment"
    }
   },
   "outputs": [],
   "source": [
    "class ArrayList:\n",
    "    def __init__(self, initial_capacity=8):\n",
    "        self._max_size = initial_capacity\n",
    "        self._last_index = 0\n",
    "        self._my_array = [None] * self._max_size\n",
    "\n",
    "    def append(self, val):\n",
    "        self._my_array[self._last_index] = val\n",
    "        self._last_index += 1\n",
    "        \n",
    "    def size(self):\n",
    "        return self._last_index\n",
    "\n",
    "    def is_empty(self):\n",
    "        return self._last_index == 0"
   ]
  },
  {
   "cell_type": "markdown",
   "metadata": {
    "slideshow": {
     "slide_type": "skip"
    }
   },
   "source": [
    "Notice that the constructor method initializes the instance variables described above and then creates a zero element array called `my_array`."
   ]
  },
  {
   "cell_type": "markdown",
   "metadata": {
    "slideshow": {
     "slide_type": "subslide"
    }
   },
   "source": [
    "Next, let us turn to the index operators. Code below shows our `Python` implementation for index and assignment to an array location. Recall that the calculation required to find the memory location of the item in an array is a simple arithmetic expression. "
   ]
  },
  {
   "cell_type": "markdown",
   "metadata": {
    "slideshow": {
     "slide_type": "fragment"
    }
   },
   "source": [
    "Even languages like C hide that calculation behind a nice array index operator, so in this case the C and the `Python` look very much the same:"
   ]
  },
  {
   "cell_type": "code",
   "execution_count": null,
   "metadata": {
    "slideshow": {
     "slide_type": "fragment"
    }
   },
   "outputs": [],
   "source": [
    "def __getitem__(self, idx):\n",
    "    if 0 <= idx < self._last_index:\n",
    "        return self._my_array[idx]\n",
    "    raise LookupError(\"index out of bounds\")\n",
    "\n",
    "def __setitem__(self, idx, val):\n",
    "    if 0 <= idx < self._last_index:\n",
    "        self._my_array[idx] = val\n",
    "    else:\n",
    "        raise LookupError(\"index out of bounds\")"
   ]
  },
  {
   "cell_type": "markdown",
   "metadata": {
    "slideshow": {
     "slide_type": "subslide"
    }
   },
   "source": [
    "Finally, let's take a look at one of the more expensive list operations, `insertion()`. When we insert an item into an `ArrayList` we will need to first shift everything in the list at the insertion point and beyond ahead by one index position in order to make room for the item we are inserting. The process is illustrated in Figure below:"
   ]
  },
  {
   "cell_type": "markdown",
   "metadata": {
    "slideshow": {
     "slide_type": "fragment"
    }
   },
   "source": [
    "<center><img src=\"imgs/insert_list.png\" width=\"50%\" /></center>"
   ]
  },
  {
   "cell_type": "markdown",
   "metadata": {
    "slideshow": {
     "slide_type": "subslide"
    }
   },
   "source": [
    "The key to implementing insert correctly is to realize that as you are shifting values in the array you do not want to overwrite any important data. **The way to do this is to work from the end of the list back toward the insertion point, copying data forward.**"
   ]
  },
  {
   "cell_type": "markdown",
   "metadata": {
    "slideshow": {
     "slide_type": "fragment"
    }
   },
   "source": [
    "<center><img src=\"imgs/insert_list2.png\" width=\"50%\" /></center>"
   ]
  },
  {
   "cell_type": "markdown",
   "metadata": {
    "id": "AngpG0KfJ14O",
    "slideshow": {
     "slide_type": "subslide"
    }
   },
   "source": [
    "Our implementation of insert is shown below. Note how the range is set up on line to ensure that we are copying existing data into the unused part of the array first, and then subsequent values are copied over old values that have already been shifted. "
   ]
  },
  {
   "cell_type": "code",
   "execution_count": null,
   "metadata": {
    "slideshow": {
     "slide_type": "fragment"
    }
   },
   "outputs": [],
   "source": [
    "def insert(self, idx, val):\n",
    "    for i in range(self._last_index, idx, -1):\n",
    "        self._my_array[i] = self._my_array[i - 1]\n",
    "    self._my_array[idx] = val\n",
    "    self._last_index += 1"
   ]
  },
  {
   "cell_type": "markdown",
   "metadata": {
    "slideshow": {
     "slide_type": "fragment"
    }
   },
   "source": [
    "If the loop had started at the insertion point and copied that value to the next larger index position in the array, the old value would have been lost forever!"
   ]
  },
  {
   "cell_type": "markdown",
   "metadata": {
    "id": "UcAcIkGtJ14O",
    "slideshow": {
     "slide_type": "subslide"
    }
   },
   "source": [
    "The performance of the insert is $O(n)$ since in the worst case we want to insert something at index 0 and we have to shift the entire array forward by one. On average we will only need to shift half of the array, but this is still $O(n)$. "
   ]
  },
  {
   "cell_type": "markdown",
   "metadata": {
    "slideshow": {
     "slide_type": "fragment"
    }
   },
   "source": [
    "The class offers another method, named `remove()`, that allows the caller to specify the value that should be removed (not the index at which it resides). Formally, it removes only the first occurrence of such a value from an array, or raises an error if no such value is found."
   ]
  },
  {
   "cell_type": "markdown",
   "metadata": {
    "slideshow": {
     "slide_type": "fragment"
    }
   },
   "source": [
    "<center><img src=\"imgs/remove_list.png\" width=\"50%\" /></center>"
   ]
  },
  {
   "cell_type": "code",
   "execution_count": null,
   "metadata": {
    "id": "DZd-K-Z-J14O",
    "slideshow": {
     "slide_type": "subslide"
    }
   },
   "outputs": [],
   "source": [
    "def remove(self, val):\n",
    "    for i in range(self._last_index):\n",
    "        if self._my_array[i] == val:\n",
    "            for j in range(i, self._last_index - 1):\n",
    "                self._my_array[j] = self._my_array[j + 1]\n",
    "            self._my_array[self._last_index - 1] = None\n",
    "            self._last_index -= 1\n",
    "            return None\n",
    "    raise LookupError(\"value not found\")"
   ]
  },
  {
   "cell_type": "markdown",
   "metadata": {
    "slideshow": {
     "slide_type": "fragment"
    }
   },
   "source": [
    "One part of the process searches from the beginning until finding the value at index k, while the rest iterates from k to the end in order to shift elements leftward. The complexity is again $O(n)$."
   ]
  },
  {
   "cell_type": "markdown",
   "metadata": {
    "colab": {
     "base_uri": "https://localhost:8080/"
    },
    "executionInfo": {
     "elapsed": 343,
     "status": "ok",
     "timestamp": 1683101709851,
     "user": {
      "displayName": "phonchi chung",
      "userId": "13517391734500420886"
     },
     "user_tz": -480
    },
    "id": "aybBqNHdJ14d",
    "outputId": "cc2890de-0f67-4c7b-c70d-d966140669ce",
    "slideshow": {
     "slide_type": "skip"
    }
   },
   "source": [
    "You can also implements other method like `erase(idx)`."
   ]
  },
  {
   "cell_type": "code",
   "execution_count": null,
   "metadata": {
    "id": "c5cVK04hJ14d",
    "slideshow": {
     "slide_type": "subslide"
    }
   },
   "outputs": [],
   "source": [
    "import sys\n",
    "sys.path.append(\"../pythonds3/\") # Change this to your actual path"
   ]
  },
  {
   "cell_type": "code",
   "execution_count": null,
   "metadata": {
    "id": "ZzmywYm1J14e",
    "slideshow": {
     "slide_type": "subslide"
    }
   },
   "outputs": [],
   "source": [
    "from pythonds3.basic import ArrayList\n",
    "\n",
    "my_array = ArrayList()\n",
    "\n",
    "my_array.append(31)\n",
    "my_array.append(77)\n",
    "my_array.append(17)\n",
    "my_array.append(93)\n",
    "\n",
    "print(my_array, my_array[3])\n",
    "print(my_array.size())\n",
    "my_array.insert(3, 20)\n",
    "print(my_array)\n",
    "my_array.remove(31)\n",
    "print(my_array)\n",
    "my_array.erase(2)\n",
    "my_array[0] = 50\n",
    "print(my_array)\n",
    "print(my_array.is_empty())"
   ]
  },
  {
   "cell_type": "markdown",
   "metadata": {
    "slideshow": {
     "slide_type": "slide"
    }
   },
   "source": [
    "## A.2 Compact Array"
   ]
  },
  {
   "cell_type": "markdown",
   "metadata": {
    "slideshow": {
     "slide_type": "subslide"
    }
   },
   "source": [
    "Assume that we have a list in `Python`, such as: `['Rene' , 'Joseph' , 'Janet' , 'Jonas' , 'Helen' , 'Virginia', ... ]`."
   ]
  },
  {
   "cell_type": "markdown",
   "metadata": {
    "slideshow": {
     "slide_type": "fragment"
    }
   },
   "source": [
    "To represent such a list with an array, `Python` must adhere to the requirement that each cell of the array use the same number of bytes. Yet the elements are strings, and strings naturally have different lengths!"
   ]
  },
  {
   "cell_type": "markdown",
   "metadata": {
    "slideshow": {
     "slide_type": "fragment"
    }
   },
   "source": [
    "Instead, `Python` represents a list or tuple instance using an internal storage mechanism of an **array of object references.** Although the relative size of the individual elements may vary, the number of bits used to store the memory address of each element is fixed (e.g., 64-bits per address). In this way, `Python` can support constant-time access!"
   ]
  },
  {
   "cell_type": "markdown",
   "metadata": {
    "slideshow": {
     "slide_type": "subslide"
    }
   },
   "source": [
    "On the other hand, `strings` are represented using an array of characters (not an array of references). We will refer to this more direct representation as a <u>compact array</u> because the array is storing the bits that represent the primary data (characters, in the case of strings)!"
   ]
  },
  {
   "cell_type": "markdown",
   "metadata": {
    "slideshow": {
     "slide_type": "fragment"
    }
   },
   "source": [
    "<center><img src=\"imgs/comarray.png\" width=\"35%\" /></center>"
   ]
  },
  {
   "cell_type": "markdown",
   "metadata": {
    "slideshow": {
     "slide_type": "fragment"
    }
   },
   "source": [
    "The overall memory usage will be much lower for a compact structure because there is no overhead devoted to the explicit storage of the sequence of memory references (in addition to the primary data)!"
   ]
  },
  {
   "cell_type": "markdown",
   "metadata": {
    "slideshow": {
     "slide_type": "subslide"
    }
   },
   "source": [
    "A referential structure will typically use 64-bits for the memory address stored in the array, on top of whatever number of bits are used to represent the object! Also, each Unicode character stored in a compact array within a string typically requires 2 bytes! `Python` provides several means for creating compact arrays of various types. The most common used one is `array` from `NumPy`:"
   ]
  },
  {
   "cell_type": "code",
   "execution_count": null,
   "metadata": {
    "slideshow": {
     "slide_type": "fragment"
    }
   },
   "outputs": [],
   "source": [
    "from numpy import array, int32, arange\n",
    "primes = array([2, 3, 5, 7, 11, 13, 17, 19], dtype=int32)\n",
    "primes"
   ]
  },
  {
   "cell_type": "markdown",
   "metadata": {
    "slideshow": {
     "slide_type": "fragment"
    }
   },
   "source": [
    "<center><img src=\"imgs/comarray2.png\" width=\"35%\" /></center>"
   ]
  },
  {
   "cell_type": "markdown",
   "metadata": {
    "slideshow": {
     "slide_type": "subslide"
    }
   },
   "source": [
    "The public interface for the `array` class conforms mostly to that of a `Python` `list`. However, the constructor for the array class requires a <u>type code</u>. The type code, `int32`, designates an array of (signed) integers. The type code allows the interpreter to determine precisely how many bits are needed per element of the array!"
   ]
  },
  {
   "cell_type": "markdown",
   "metadata": {
    "slideshow": {
     "slide_type": "fragment"
    }
   },
   "source": [
    "<center><img src=\"imgs/array2.png\" width=\"55%\" /></center>"
   ]
  },
  {
   "cell_type": "markdown",
   "metadata": {
    "id": "jL3W9fhWLHvw",
    "slideshow": {
     "slide_type": "skip"
    }
   },
   "source": [
    "> #### Example 1: Try to compare the speed of increment an array of integers containing 0 to 9999 by 1 using python list and numpy array."
   ]
  },
  {
   "cell_type": "code",
   "execution_count": null,
   "metadata": {
    "id": "x6MnYd2FLQIo",
    "slideshow": {
     "slide_type": "skip"
    }
   },
   "outputs": [],
   "source": [
    "import numpy as np\n",
    "a = list(range(10000))"
   ]
  },
  {
   "cell_type": "code",
   "execution_count": null,
   "metadata": {
    "colab": {
     "base_uri": "https://localhost:8080/"
    },
    "executionInfo": {
     "elapsed": 2,
     "status": "ok",
     "timestamp": 1669169954943,
     "user": {
      "displayName": "phonchi chung",
      "userId": "13517391734500420886"
     },
     "user_tz": -480
    },
    "id": "vZQ7WnTGLS4o",
    "outputId": "90f798be-b7e7-4f30-81b8-78f24e969195",
    "slideshow": {
     "slide_type": "skip"
    }
   },
   "outputs": [],
   "source": [
    "from timeit import default_timer as timer\n",
    "start = timer()\n",
    "# Your code here\n",
    "for i in range(10000):\n",
    "    a[i] = a[i]+1\n",
    "end = timer()\n",
    "print(\"Total time : %.3f ms\" % (10**3 * (end - start)))"
   ]
  },
  {
   "cell_type": "code",
   "execution_count": null,
   "metadata": {
    "id": "Z_lCU-YYLfiZ",
    "slideshow": {
     "slide_type": "skip"
    }
   },
   "outputs": [],
   "source": [
    "b = arange(10000) # arguments: start, stop, step"
   ]
  },
  {
   "cell_type": "code",
   "execution_count": null,
   "metadata": {
    "colab": {
     "base_uri": "https://localhost:8080/"
    },
    "executionInfo": {
     "elapsed": 3,
     "status": "ok",
     "timestamp": 1669169955873,
     "user": {
      "displayName": "phonchi chung",
      "userId": "13517391734500420886"
     },
     "user_tz": -480
    },
    "id": "EDtzrei3LZI8",
    "outputId": "987c76c3-178a-4be2-eba8-b5e6db3c3174",
    "slideshow": {
     "slide_type": "skip"
    }
   },
   "outputs": [],
   "source": [
    "start = timer()\n",
    "b = b + 1\n",
    "end = timer()\n",
    "print(\"Total time : %.3f ms\" % (10**3 * (end - start)))"
   ]
  },
  {
   "cell_type": "code",
   "execution_count": null,
   "metadata": {
    "colab": {
     "base_uri": "https://localhost:8080/"
    },
    "executionInfo": {
     "elapsed": 2,
     "status": "ok",
     "timestamp": 1669169956195,
     "user": {
      "displayName": "phonchi chung",
      "userId": "13517391734500420886"
     },
     "user_tz": -480
    },
    "id": "t9amKIyoL5UQ",
    "outputId": "eaf049ab-ab74-43b2-ed15-59bd2ef1208b",
    "scrolled": true,
    "slideshow": {
     "slide_type": "skip"
    }
   },
   "outputs": [],
   "source": [
    "np.array_equal(np.array(a) , b)"
   ]
  },
  {
   "cell_type": "markdown",
   "metadata": {
    "slideshow": {
     "slide_type": "skip"
    }
   },
   "source": [
    "The type codes supported by the `array` module are formally based upon the native data types used by the C programming language. The precise number of bits for the C data types is system-dependent."
   ]
  },
  {
   "cell_type": "markdown",
   "metadata": {
    "id": "VYXMNNMBCMk1",
    "slideshow": {
     "slide_type": "slide"
    }
   },
   "source": [
    "## A.3 Multidimensional Arrays"
   ]
  },
  {
   "cell_type": "markdown",
   "metadata": {
    "id": "WzexE7kTCPDF",
    "slideshow": {
     "slide_type": "subslide"
    }
   },
   "source": [
    "The arrays discussed so far are known as <u>one-dimensional arrays</u> because the data is organized linearly in only one direction. Many applications require that data be stored in more than one dimension. One common example is a table, which is an array that consists of rows and columns. This is commonly called a two-dimensional array (Matrix):"
   ]
  },
  {
   "cell_type": "markdown",
   "metadata": {
    "slideshow": {
     "slide_type": "fragment"
    }
   },
   "source": [
    "<center><img src=\"imgs/multiarray.png\" width=\"55%\" /></center>"
   ]
  },
  {
   "cell_type": "markdown",
   "metadata": {
    "slideshow": {
     "slide_type": "subslide"
    }
   },
   "source": [
    "The array holds the scores of students in a class. There are five students in the class and each student has four different scores for four subjects. The variable `scores[2][3]` show the score of the second student in the third quiz. "
   ]
  },
  {
   "cell_type": "markdown",
   "metadata": {
    "slideshow": {
     "slide_type": "fragment"
    }
   },
   "source": [
    "Arranging the scores in a two-dimensional array can help us to find the average of scores for each student (the average over the row values) and find the average for each subject (the average over the column values) and so on. Note that <u>multidimensional arrays</u> — arrays with more than two dimensions — are also possible. "
   ]
  },
  {
   "cell_type": "markdown",
   "metadata": {
    "id": "q6YVeAxAn3hM",
    "slideshow": {
     "slide_type": "fragment"
    }
   },
   "source": [
    "<center><img src=\"imgs/arraylayout.png\" width=\"20%\" /></center>\n",
    "\n",
    "<div align=\"center\"> source: https://scipy-lectures.org/intro/numpy/operations.html </div>"
   ]
  },
  {
   "cell_type": "code",
   "execution_count": null,
   "metadata": {
    "colab": {
     "base_uri": "https://localhost:8080/"
    },
    "executionInfo": {
     "elapsed": 2,
     "status": "ok",
     "timestamp": 1669116525628,
     "user": {
      "displayName": "phonchi chung",
      "userId": "13517391734500420886"
     },
     "user_tz": -480
    },
    "id": "nxOU9wJrF_ur",
    "outputId": "0fee5c8b-e3b1-48e5-f365-61ec56b860a7",
    "slideshow": {
     "slide_type": "subslide"
    }
   },
   "outputs": [],
   "source": [
    "# a matrix: the argument to the array function is a nested Python list\n",
    "M = array([[1, 1], [2, 2]], dtype=int32) # You can use nested list to implement 2D array in Python\n",
    "M, type(M), M.dtype, M.shape"
   ]
  },
  {
   "cell_type": "markdown",
   "metadata": {
    "id": "aana_wZxGteL",
    "slideshow": {
     "slide_type": "fragment"
    }
   },
   "source": [
    "Note the slicing of array works the same way as `Python` `list`!"
   ]
  },
  {
   "cell_type": "code",
   "execution_count": null,
   "metadata": {
    "colab": {
     "base_uri": "https://localhost:8080/"
    },
    "executionInfo": {
     "elapsed": 2,
     "status": "ok",
     "timestamp": 1669116609812,
     "user": {
      "displayName": "phonchi chung",
      "userId": "13517391734500420886"
     },
     "user_tz": -480
    },
    "id": "NbbtXLtPGiVj",
    "outputId": "e5b76cc5-e52a-41bc-bf18-d9a1b6c9a6de",
    "slideshow": {
     "slide_type": "subslide"
    }
   },
   "outputs": [],
   "source": [
    "M[0,:] # row 0"
   ]
  },
  {
   "cell_type": "code",
   "execution_count": null,
   "metadata": {
    "colab": {
     "base_uri": "https://localhost:8080/"
    },
    "executionInfo": {
     "elapsed": 2,
     "status": "ok",
     "timestamp": 1669116625252,
     "user": {
      "displayName": "phonchi chung",
      "userId": "13517391734500420886"
     },
     "user_tz": -480
    },
    "id": "NDPD_3t3GmEr",
    "outputId": "13307f24-ff04-48e5-c61e-0363298a7b1f",
    "slideshow": {
     "slide_type": "fragment"
    }
   },
   "outputs": [],
   "source": [
    "M[:,0] # column 0"
   ]
  },
  {
   "cell_type": "code",
   "execution_count": null,
   "metadata": {
    "colab": {
     "base_uri": "https://localhost:8080/"
    },
    "executionInfo": {
     "elapsed": 3,
     "status": "ok",
     "timestamp": 1669116847277,
     "user": {
      "displayName": "phonchi chung",
      "userId": "13517391734500420886"
     },
     "user_tz": -480
    },
    "id": "ZqRLymxDHYf7",
    "outputId": "2e5684a0-823f-4251-b6f4-0f3d19b3ad08",
    "slideshow": {
     "slide_type": "fragment"
    }
   },
   "outputs": [],
   "source": [
    "M[1,1] #row1, column1"
   ]
  },
  {
   "cell_type": "markdown",
   "metadata": {
    "id": "GLxjoqHU_q-Q",
    "slideshow": {
     "slide_type": "subslide"
    }
   },
   "source": [
    "### A.3.1 Memory layout"
   ]
  },
  {
   "cell_type": "markdown",
   "metadata": {
    "id": "pvz16w-wnJox",
    "slideshow": {
     "slide_type": "subslide"
    }
   },
   "source": [
    "The indexes in a one-dimensional array directly define the relative positions of the element in actual memory. A two-dimensional array, however, represents rows and columns. How each element is stored in memory depends on the computer!"
   ]
  },
  {
   "cell_type": "markdown",
   "metadata": {
    "slideshow": {
     "slide_type": "fragment"
    }
   },
   "source": [
    "Most computers use **row-major** storage, in which an entire row of an array is stored in memory before the next row. However, a computer may store the array using **column-major** storage, in which the entire column is stored before the next column. The following figure shows a two-dimensional array and how it is stored in memory using row-major or column-major storage. Row-major storage is more common. "
   ]
  },
  {
   "cell_type": "markdown",
   "metadata": {
    "slideshow": {
     "slide_type": "subslide"
    }
   },
   "source": [
    "<center><img src=\"imgs/arrayorder.png\" width=\"60%\" /></center>"
   ]
  },
  {
   "cell_type": "markdown",
   "metadata": {
    "id": "TlZdFbbVJBpa",
    "slideshow": {
     "slide_type": "subslide"
    }
   },
   "source": [
    "By default, array are row-major (`C_CONTIGUOUS`)"
   ]
  },
  {
   "cell_type": "code",
   "execution_count": null,
   "metadata": {
    "colab": {
     "base_uri": "https://localhost:8080/"
    },
    "executionInfo": {
     "elapsed": 2,
     "status": "ok",
     "timestamp": 1669117250636,
     "user": {
      "displayName": "phonchi chung",
      "userId": "13517391734500420886"
     },
     "user_tz": -480
    },
    "id": "laFdjB5KI-Pq",
    "outputId": "ba01b963-e3ec-4aaa-b07b-9db87dec05ce",
    "slideshow": {
     "slide_type": "fragment"
    }
   },
   "outputs": [],
   "source": [
    "M.flags"
   ]
  },
  {
   "cell_type": "markdown",
   "metadata": {
    "id": "wPLMdmKIJjAh",
    "slideshow": {
     "slide_type": "subslide"
    }
   },
   "source": [
    "You can change to column major (`F_CONTIGUOUS`) but it will be much slower in `NumPy` due to the cache effect (functions in numpy assumes that the array are stored in column major)"
   ]
  },
  {
   "cell_type": "code",
   "execution_count": null,
   "metadata": {
    "colab": {
     "base_uri": "https://localhost:8080/"
    },
    "executionInfo": {
     "elapsed": 262,
     "status": "ok",
     "timestamp": 1669117383666,
     "user": {
      "displayName": "phonchi chung",
      "userId": "13517391734500420886"
     },
     "user_tz": -480
    },
    "id": "kN2e7OvCJAZs",
    "outputId": "6214c2a8-1e0c-4dd7-b69f-cf0414e7c241",
    "slideshow": {
     "slide_type": "fragment"
    }
   },
   "outputs": [],
   "source": [
    "M = array([[1, 1], [2, 2]], dtype=int32, order='F')\n",
    "M.flags"
   ]
  },
  {
   "cell_type": "markdown",
   "metadata": {
    "id": "Pzvq-7e3SQqy",
    "slideshow": {
     "slide_type": "subslide"
    }
   },
   "source": [
    "> Exercise 1: We have stored the two-dimensional array students in the memory. The array is 100 × 4 (100 rows and 4 columns). Show the address of the element `students[5][3]` assuming that the element `student[0][0]` is stored in the memory location with address 0 and each element occupies only one memory location. The computer uses row-major storage."
   ]
  },
  {
   "cell_type": "code",
   "execution_count": null,
   "metadata": {
    "id": "YvvjpLJ7SqvA",
    "slideshow": {
     "slide_type": "fragment"
    }
   },
   "outputs": [],
   "source": [
    "import numpy as np\n",
    "student = np.random.randint(0,100,size=(100,4)) #2D array\n",
    "s = student.flatten() #1D array"
   ]
  },
  {
   "cell_type": "code",
   "execution_count": null,
   "metadata": {
    "id": "rVQzHjkPTJCH",
    "slideshow": {
     "slide_type": "fragment"
    }
   },
   "outputs": [],
   "source": [
    "assert student[5][3] == s[?]"
   ]
  },
  {
   "cell_type": "markdown",
   "metadata": {
    "id": "90BtPgGTTVuP",
    "slideshow": {
     "slide_type": "subslide"
    }
   },
   "source": [
    "We  can  use  the  following  formula  to  find  the  location  of  an  element,  assuming  each  element occupies one memory location: \n",
    "\n",
    "$y = x + Cols \\times i + j$\n",
    "\n",
    "where `x` defines the start address, Cols defines the number of columns in the array, `i` defines the row number of the element, `j` defines the column number of the element, and `y` is the address we are looking for!\n",
    "\n",
    "> Your answer here"
   ]
  },
  {
   "cell_type": "markdown",
   "metadata": {
    "slideshow": {
     "slide_type": "slide"
    }
   },
   "source": [
    "## A.4 Sparse Martrix"
   ]
  },
  {
   "cell_type": "markdown",
   "metadata": {
    "slideshow": {
     "slide_type": "subslide"
    }
   },
   "source": [
    "A <u>sparse matrix</u> is a matrix that has a value of 0 for most elements. If the ratio of Number of Non-Zero (NNZ) elements to the size is less than 0.5, the matrix is sparse! "
   ]
  },
  {
   "cell_type": "markdown",
   "metadata": {
    "slideshow": {
     "slide_type": "fragment"
    }
   },
   "source": [
    "<center><img src=\"imgs/sparse_matrix.png\" width=\"50%\" /></center>\n",
    "\n",
    "<div align=\"center\"> source: https://matteding.github.io/2019/04/25/sparse-matrices/ </div>"
   ]
  },
  {
   "cell_type": "markdown",
   "metadata": {
    "slideshow": {
     "slide_type": "subslide"
    }
   },
   "source": [
    "Storing information about all the 0 elements is inefficient, so we will assume unspecified elements to be 0. Using this scheme, sparse matrices can perform faster operations and use less memory than its corresponding dense matrix representation."
   ]
  },
  {
   "cell_type": "markdown",
   "metadata": {
    "slideshow": {
     "slide_type": "fragment"
    }
   },
   "source": [
    "Different sparse formats have their strengths and weaknesses. A good starting point is looking at formats that are efficient for constructing these matrices. Typically you would start with one of these forms and then convert to another when ready to do calculations."
   ]
  },
  {
   "cell_type": "markdown",
   "metadata": {
    "slideshow": {
     "slide_type": "subslide"
    }
   },
   "source": [
    "### A.4.1 Coordinate Matrix"
   ]
  },
  {
   "cell_type": "markdown",
   "metadata": {
    "slideshow": {
     "slide_type": "subslide"
    }
   },
   "source": [
    "Perhaps the simplest sparse format to understand is the <U>COOrdinate (COO)</U> format. This variant uses three subarrays to store the element values and their coordinate positions."
   ]
  },
  {
   "cell_type": "markdown",
   "metadata": {
    "slideshow": {
     "slide_type": "fragment"
    }
   },
   "source": [
    "<center><img src=\"imgs/sparse_coo.png\" width=\"50%\" /></center>\n",
    "\n",
    "<div align=\"center\"> source: https://matteding.github.io/2019/04/25/sparse-matrices/ </div>"
   ]
  },
  {
   "cell_type": "markdown",
   "metadata": {
    "slideshow": {
     "slide_type": "subslide"
    }
   },
   "source": [
    "The savings on memory consumption is quite substantial as the matrix size increases. Managing data in a sparse structure is a fixed cost unlike the case for dense matrices."
   ]
  },
  {
   "cell_type": "markdown",
   "metadata": {
    "slideshow": {
     "slide_type": "fragment"
    }
   },
   "source": [
    "The overhead incurred from needing to manage the subarrays is becomes negligible as data grows making it a great choice for some datasets!"
   ]
  },
  {
   "cell_type": "markdown",
   "metadata": {
    "slideshow": {
     "slide_type": "subslide"
    }
   },
   "source": [
    "### A.4.2 Dictionary of Keys Matrix"
   ]
  },
  {
   "cell_type": "markdown",
   "metadata": {
    "slideshow": {
     "slide_type": "subslide"
    }
   },
   "source": [
    "<U>Dictionary Of Keys (DOK)</U> is very much like COO except that it subclasses `dict` to store coordinate-data information as key-value pairs. Since it uses a hash table as storage, identifying values at any given location has constant lookup time! "
   ]
  },
  {
   "cell_type": "markdown",
   "metadata": {
    "slideshow": {
     "slide_type": "fragment"
    }
   },
   "source": [
    "Use this format if you need the functionality that come with builtin dictionaries, but be mindful that hash tables hog more memory than arrays."
   ]
  },
  {
   "cell_type": "markdown",
   "metadata": {
    "slideshow": {
     "slide_type": "fragment"
    }
   },
   "source": [
    "The `SparseMatrix` class uses a dictionary to store non-zero elements, with keys as `(row, column)` tuples and values as the non-zero elements."
   ]
  },
  {
   "cell_type": "code",
   "execution_count": null,
   "metadata": {
    "slideshow": {
     "slide_type": "subslide"
    }
   },
   "outputs": [],
   "source": [
    "class SparseMatrix:\n",
    "    \"\"\"Sparse Matrix class\n",
    "    Args:\n",
    "        data: A dictionary of (i, j) -> value\n",
    "    \"\"\"\n",
    "\n",
    "    def __init__(self, data = None):\n",
    "        self.data = data or {}     \n",
    "    def __getitem__(self, key):\n",
    "        return self.data.get(key, 0)\n",
    "    def __setitem__(self, key, value):\n",
    "        self.data[key] = value\n",
    "    def __delitem__(self, key):\n",
    "        del self.data[key]\n",
    "    def __len__(self):\n",
    "        return len(self.data)\n",
    "    def __str__(self):\n",
    "        return str(self.data)"
   ]
  },
  {
   "cell_type": "markdown",
   "metadata": {
    "slideshow": {
     "slide_type": "subslide"
    }
   },
   "source": [
    "We can easily implement relational operations as follows:"
   ]
  },
  {
   "cell_type": "code",
   "execution_count": null,
   "metadata": {
    "slideshow": {
     "slide_type": "fragment"
    }
   },
   "outputs": [],
   "source": [
    "def __eq__(self, other):\n",
    "    return self.data == other.data\n",
    "def __ne__(self, other):\n",
    "    return self.data != other.data"
   ]
  },
  {
   "cell_type": "code",
   "execution_count": null,
   "metadata": {
    "slideshow": {
     "slide_type": "fragment"
    }
   },
   "outputs": [],
   "source": [
    "def _nrows(self):\n",
    "    if not self.data:\n",
    "        return 0\n",
    "    max_row_index = max(key[0] for key in self.data)\n",
    "    return max_row_index + 1\n",
    "\n",
    "def _ncols(self) -> int:\n",
    "    if not self.data:\n",
    "        return 0\n",
    "    max_col_index = max(key[1] for key in self.data)\n",
    "    return max_col_index + 1"
   ]
  },
  {
   "cell_type": "markdown",
   "metadata": {
    "slideshow": {
     "slide_type": "subslide"
    }
   },
   "source": [
    "The arithmetic operation is slightly more involved:"
   ]
  },
  {
   "cell_type": "code",
   "execution_count": null,
   "metadata": {
    "slideshow": {
     "slide_type": "fragment"
    }
   },
   "outputs": [],
   "source": [
    "def __add__(self, other):\n",
    "    if self._nrows != other._nrows or self._ncols != other._ncols:\n",
    "        raise ValueError(\"Matrices must have the same dimensions for addition\")\n",
    "\n",
    "    result = SparseMatrix(self._nrows, self._ncols)\n",
    "    for i in range(self._nrows):\n",
    "        for j in range(self._ncols):\n",
    "            result[i, j] = self[i, j] + other[i, j]\n",
    "    return result\n",
    "\n",
    "\n",
    "def __mul__(self, other):\n",
    "    if self._ncols != other._nrows:\n",
    "        raise ValueError(\"Invalid dimensions for matrix multiplication\")\n",
    "\n",
    "    result = SparseMatrix(self._nrows, other._ncols)\n",
    "    for i in range(self._nrows):\n",
    "        for j in range(other._ncols):\n",
    "            sum = 0\n",
    "            for k in range(self._ncols):\n",
    "                sum += self[i, k] * other[k, j]\n",
    "            result[i, j] = sum\n",
    "    return result"
   ]
  },
  {
   "cell_type": "markdown",
   "metadata": {
    "slideshow": {
     "slide_type": "subslide"
    }
   },
   "source": [
    "Another variant that uses the functionality of dictionary which may be faster:"
   ]
  },
  {
   "cell_type": "code",
   "execution_count": null,
   "metadata": {
    "slideshow": {
     "slide_type": "fragment"
    }
   },
   "outputs": [],
   "source": [
    "def __add__(self, other):\n",
    "    if not isinstance(other, SparseMatrix):\n",
    "        raise ValueError(\"Addition only supports SparseMatrix instances.\")\n",
    "\n",
    "    result = SparseMatrix()\n",
    "    keys = set(self.data.keys()) | set(other.data.keys())\n",
    "    for key in keys:\n",
    "        result[key] = self[key] + other[key]\n",
    "    return result\n",
    "\n",
    "def __mul__(self, other):\n",
    "    if not isinstance(other, SparseMatrix):\n",
    "        raise ValueError(\"Multiplication only supports SparseMatrix instances.\")\n",
    "\n",
    "    result = SparseMatrix()\n",
    "    # Iterate over non-zero elements in self\n",
    "    for (i, k) in self.data:\n",
    "        # Iterate over non-zero elements in other, where the column index of other matches the row index of self\n",
    "        for (j, l) in other.data:\n",
    "            if k == j:\n",
    "                result[i, l] += self[i, k] * other[j, l] # Note it is [i,j] not [i][j]\n",
    "    return result"
   ]
  },
  {
   "cell_type": "markdown",
   "metadata": {
    "slideshow": {
     "slide_type": "subslide"
    }
   },
   "source": [
    "The conversion from dense matrix can be written as follows:"
   ]
  },
  {
   "cell_type": "code",
   "execution_count": null,
   "metadata": {
    "slideshow": {
     "slide_type": "fragment"
    }
   },
   "outputs": [],
   "source": [
    "def from_dense_matrix(self, matrix):\n",
    "    for i in range(len(matrix)):\n",
    "        for j in range(len(matrix[0])):\n",
    "            if matrix[i][j] != 0:\n",
    "                self[i, j] = matrix[i][j]\n",
    "    # [self[(i, j)] for i in range(len(matrix)) for j in range(len(matrix[0])) if matrix[i][j] != 0]\n",
    "    return self"
   ]
  },
  {
   "cell_type": "markdown",
   "metadata": {
    "slideshow": {
     "slide_type": "subslide"
    }
   },
   "source": [
    "We can play the class as follows:"
   ]
  },
  {
   "cell_type": "code",
   "execution_count": null,
   "metadata": {
    "slideshow": {
     "slide_type": "fragment"
    }
   },
   "outputs": [],
   "source": [
    "import sys\n",
    "sys.path.append(\"../pythonds3/\")"
   ]
  },
  {
   "cell_type": "code",
   "execution_count": null,
   "metadata": {
    "slideshow": {
     "slide_type": "subslide"
    }
   },
   "outputs": [],
   "source": [
    "from pythonds3.basic import SparseMatrix\n",
    "\n",
    "dense_matrix = [[1, 0, 0], [0, 2, 0], [0, 0, 3]]\n",
    "sparse_matrix = SparseMatrix().from_dense_matrix(dense_matrix)\n",
    "print(sparse_matrix)\n",
    "\n",
    "matrix1 = SparseMatrix({(0, 1): 1, (1, 1): 2, (2, 2): 3})\n",
    "matrix2 = SparseMatrix({(1, 1): 3, (2, 2): 4})\n",
    "\n",
    "print(matrix1 + matrix2)\n",
    "print(matrix1 - matrix2)\n",
    "print(matrix1 * matrix2)"
   ]
  },
  {
   "cell_type": "code",
   "execution_count": null,
   "metadata": {
    "slideshow": {
     "slide_type": "subslide"
    }
   },
   "outputs": [],
   "source": [
    "matrix1, matrix2, matrix1 + matrix2, matrix1 - matrix2, matrix1 * matrix2"
   ]
  },
  {
   "cell_type": "markdown",
   "metadata": {
    "slideshow": {
     "slide_type": "subslide"
    }
   },
   "source": [
    "### A.4.3 Linear list"
   ]
  },
  {
   "cell_type": "markdown",
   "metadata": {
    "slideshow": {
     "slide_type": "subslide"
    }
   },
   "source": [
    "<center><img src=\"imgs/sparse_matrixlist.png\" width=\"70%\" /></center>\n",
    "\n",
    "<div align=\"center\"> source: https://www.geeksforgeeks.org/sparse-matrix-representation/ </div>"
   ]
  },
  {
   "cell_type": "markdown",
   "metadata": {
    "slideshow": {
     "slide_type": "fragment"
    }
   },
   "source": [
    "Size of `array` generally not predictable at time of initialization. Start with some default capacity/size (say 10). Increase capacity as needed!"
   ]
  },
  {
   "cell_type": "markdown",
   "metadata": {
    "slideshow": {
     "slide_type": "slide"
    }
   },
   "source": [
    "## References"
   ]
  },
  {
   "cell_type": "markdown",
   "metadata": {
    "id": "2teyKp_e1khl",
    "slideshow": {
     "slide_type": "subslide"
    }
   },
   "source": [
    "1. Textbook 8.2.\n",
    "\n",
    "2. Data Structures & Algorithms in Python Ch 5.\n",
    "\n",
    "3. [https://realpython.com/python-array/](https://realpython.com/python-array/).\n",
    "\n",
    "4. [https://matteding.github.io/2019/04/25/sparse-matrices/](https://matteding.github.io/2019/04/25/sparse-matrices/).\n",
    "\n",
    "5. [https://www.geeksforgeeks.org/sparse-matrix-representation/](https://www.geeksforgeeks.org/sparse-matrix-representation/)."
   ]
  },
  {
   "cell_type": "markdown",
   "metadata": {
    "slideshow": {
     "slide_type": "skip"
    }
   },
   "source": [
    "## Key terms"
   ]
  },
  {
   "cell_type": "markdown",
   "metadata": {
    "slideshow": {
     "slide_type": "skip"
    }
   },
   "source": [
    "- **Array**: A data structure consisting of a collection of elements, each identified by at least one array index or key. Arrays store elements of the same data type and allocate memory in a contiguous block.\n",
    "\n",
    "- **Segmentation Fault**: An error that occurs when a program attempts to access memory that it's not allowed to, often leading to a program crash. This can happen for reasons like accessing an array beyond its bounds.\n",
    "\n",
    "- **Referential Array**: An array that contains references (or pointers) to objects rather than the objects themselves. This allows for more flexible data structures, such as linked lists or trees, to be built using arrays.\n",
    "\n",
    "- **Compact Array**: An array with minimal memory overhead, designed to store data densely without pointers por references. It usually implies that the array is precisely as large as necessary to hold its contents.\n",
    "\n",
    "- **Multidimensional Array**: An array containing one or more arrays. The data is organized in a grid or matrix, accessible through multiple indices. For example, a two-dimensional array represents rows and columns.\n",
    "\n",
    "- **Column Major**: A method of storing multidimensional arrays in memory where elements are stored column by column. This contrasts with row-major order, affecting how operations like traversals and computations are optimized.\n",
    "\n",
    "- **Row Major**: A method of storing multidimensional arrays in memory where elements are stored row by row. This is the default storage method in many programming languages, affecting the efficiency of various operations.\n",
    "\n",
    "- **Sparse Matrix**: A matrix in which most of the elements are zero. Storing only the non-zero elements in memory-efficient data structures saves space and computational resources.\n",
    "\n",
    "- **Coordinate Format (COO)**: A method for storing sparse matrices by representing them as three lists (row, column, value), where each list represents a non-zero element and its position in the matrix.\n",
    "\n",
    "- **Dictionaries of Keys Matrix (DOK)**: A sparse matrix representation using a dictionary (or hash map) where each key is a tuple (row, column) and the value is the element value.\n",
    "\n",
    "- **Sparse Matrix as Linear List**: Representing a sparse matrix by linking the non-zero elements together in a linear list, possibly sorted by row and column indices. This approach can optimize certain operations but may be less efficient for random access compared to other sparse matrix representations."
   ]
  }
 ],
 "metadata": {
  "celltoolbar": "Slideshow",
  "colab": {
   "collapsed_sections": [
    "cDAMEH2XJ14T"
   ],
   "provenance": []
  },
  "kernelspec": {
   "display_name": "Python 3 (ipykernel)",
   "language": "python",
   "name": "python3"
  },
  "language_info": {
   "codemirror_mode": {
    "name": "ipython",
    "version": 3
   },
   "file_extension": ".py",
   "mimetype": "text/x-python",
   "name": "python",
   "nbconvert_exporter": "python",
   "pygments_lexer": "ipython3",
   "version": "3.9.13"
  },
  "rise": {
   "chalkboard": {
    "color": [
     "rgb(250, 0, 0)",
     "rgb(250, 0, 0)"
    ]
   },
   "controls": false,
   "enable_chalkboard": true,
   "footer": "",
   "overlay": "<div class='myfooter'><h4>Arrays</h4></div>",
   "slideNumber": "true",
   "theme": "night"
  },
  "vscode": {
   "interpreter": {
    "hash": "1561eddc5e0c9c74df968f74d5080d02882967127f956e6e7049c43d2ef42321"
   }
  }
 },
 "nbformat": 4,
 "nbformat_minor": 1
}
