{
 "cells": [
  {
   "cell_type": "markdown",
   "metadata": {
    "id": "11n5gndbRzoY",
    "slideshow": {
     "slide_type": "slide"
    }
   },
   "source": [
    "# Introduction\n"
   ]
  },
  {
   "cell_type": "markdown",
   "metadata": {
    "slideshow": {
     "slide_type": "subslide"
    }
   },
   "source": [
    "1. Introduction\n",
    "\n",
    "2. Why Study Data Structures and Abstract Data Types?\n",
    "\n",
    "3. Getting Started with Data\n",
    "\n",
    "4. Review of Programming\n",
    "\n",
    "5. Review of OOP"
   ]
  },
  {
   "cell_type": "markdown",
   "metadata": {
    "id": "7UomBxHtJ14C",
    "slideshow": {
     "slide_type": "slide"
    }
   },
   "source": [
    "## 1.1~1.4 Introduction"
   ]
  },
  {
   "cell_type": "markdown",
   "metadata": {
    "id": "wJjIP5Vne7cM",
    "slideshow": {
     "slide_type": "subslide"
    }
   },
   "source": [
    "Given a problem, a computer scientist’s goal is to develop an <u>algorithm</u>, **a step-by-step list of instructions for solving any instance of the problem that might arise**. Algorithms are finite processes that if followed will solve the problem."
   ]
  },
  {
   "cell_type": "markdown",
   "metadata": {
    "slideshow": {
     "slide_type": "fragment"
    }
   },
   "source": [
    "<center><img src=\"imgs/algo.png\" width=\"40%\" /></center>\n",
    "<center> source: https://www.owkin.com/a-z-of-ai-for-healthcare/algorithm </center>"
   ]
  },
  {
   "cell_type": "markdown",
   "metadata": {
    "slideshow": {
     "slide_type": "fragment"
    }
   },
   "source": [
    "It is very common to include the word <u>computable</u> when describing problems and solutions. We say that a problem is computable if an algorithm exists for solving it. A definition for computer science is to study the problems that are and that are not computable!"
   ]
  },
  {
   "cell_type": "markdown",
   "metadata": {
    "slideshow": {
     "slide_type": "subslide"
    }
   },
   "source": [
    "Computer science is also the study of <u>abstraction</u>. Abstraction allows us to view the problem and solution in such a way as to separate the so-called logical and physical perspectives. "
   ]
  },
  {
   "cell_type": "markdown",
   "metadata": {
    "slideshow": {
     "slide_type": "fragment"
    }
   },
   "source": [
    "For instance, you are using the functions provided by the vehicle designers for the purpose of transporting you from one location to another. These functions are sometimes also referred to as the <u>interface</u>."
   ]
  },
  {
   "cell_type": "markdown",
   "metadata": {
    "id": "k9RA4DbFJ14E",
    "slideshow": {
     "slide_type": "subslide"
    }
   },
   "source": [
    "As another example of abstraction, consider the `Python` `math` module. Once we import the module, we can perform computations such as"
   ]
  },
  {
   "cell_type": "code",
   "execution_count": null,
   "metadata": {
    "colab": {
     "base_uri": "https://localhost:8080/"
    },
    "executionInfo": {
     "elapsed": 293,
     "status": "ok",
     "timestamp": 1684207813039,
     "user": {
      "displayName": "phonchi chung",
      "userId": "13517391734500420886"
     },
     "user_tz": -480
    },
    "id": "pRMstCTrJ14F",
    "outputId": "a6c380d4-5763-46b0-dd26-e4fc7c208586",
    "slideshow": {
     "slide_type": "fragment"
    }
   },
   "outputs": [],
   "source": [
    "import math\n",
    "\n",
    "math.sqrt(16)"
   ]
  },
  {
   "cell_type": "markdown",
   "metadata": {
    "id": "xtOzCNTJcj3N",
    "slideshow": {
     "slide_type": "fragment"
    }
   },
   "source": [
    "This is an example of <u>procedural abstraction</u>. \n",
    "\n",
    "<center><img src=\"imgs/sqrt.png\" width=\"25%\" /></center>"
   ]
  },
  {
   "cell_type": "markdown",
   "metadata": {
    "slideshow": {
     "slide_type": "subslide"
    }
   },
   "source": [
    "<u>Programming</u> is the process of encoding an algorithm into a programming language, so that it can be executed by a computer. Programming languages must provide ways to represent both the _process_ and the _data_ which is known as  <u>control constructs</u> and <u>data types</u>."
   ]
  },
  {
   "cell_type": "markdown",
   "metadata": {
    "slideshow": {
     "slide_type": "fragment"
    }
   },
   "source": [
    "Control constructs allow algorithmic steps to be represented in a convenient yet unambiguous way."
   ]
  },
  {
   "cell_type": "markdown",
   "metadata": {
    "slideshow": {
     "slide_type": "fragment"
    }
   },
   "source": [
    "<center><img src=\"imgs/control_struct.png\" width=\"45%\" /></center>"
   ]
  },
  {
   "cell_type": "markdown",
   "metadata": {
    "slideshow": {
     "slide_type": "subslide"
    }
   },
   "source": [
    "We give the formal definition of algorithm here:\n",
    "\n",
    "1. **Well-Defined**: An algorithm must be a well-defined, ordered set of instructions.\n",
    "\n",
    "2. **Unambiguous steps**: If one step is to add two integers, we must define both ‘integers’ as well as the ‘add’ operation"
   ]
  },
  {
   "cell_type": "markdown",
   "metadata": {
    "slideshow": {
     "slide_type": "fragment"
    }
   },
   "source": [
    "3. **Produce a result**: An algorithm must produce a result. The result can be data returned or some other effect (for example, printing).\n",
    "\n",
    "4. **Terminate in a finite time:** An algorithm must terminate. If it does not, we have not created an algorithm!"
   ]
  },
  {
   "cell_type": "markdown",
   "metadata": {
    "id": "SwFKFBMwRzoa",
    "slideshow": {
     "slide_type": "slide"
    }
   },
   "source": [
    "## 1.5 Why Study Data Structures and Abstract Data Types?"
   ]
  },
  {
   "cell_type": "markdown",
   "metadata": {
    "id": "Ss9hRGHDRzob",
    "slideshow": {
     "slide_type": "subslide"
    }
   },
   "source": [
    "The <u>data abstraction</u> share a similar idea with procedure abstraction. An <u>abstract data type</u>, sometimes abbreviated <u>ADT</u>, is a logical description of how we view the data and the operations that are allowed without regard to how they will be implemented."
   ]
  },
  {
   "cell_type": "markdown",
   "metadata": {
    "slideshow": {
     "slide_type": "fragment"
    }
   },
   "source": [
    "By providing this level of abstraction, we are creating an <u>encapsulation</u> around the data. The idea is that by encapsulating the details of the implementation, we are hiding them from the user's view."
   ]
  },
  {
   "cell_type": "markdown",
   "metadata": {
    "slideshow": {
     "slide_type": "fragment"
    }
   },
   "source": [
    "<center><img src=\"imgs/interface.png\" width=\"20%\" /></center>"
   ]
  },
  {
   "cell_type": "markdown",
   "metadata": {
    "slideshow": {
     "slide_type": "skip"
    }
   },
   "source": [
    "The abstract data type is the shell that the user interacts with. The implementation is hidden one level deeper. The user is not concerned with the details of the implementation!"
   ]
  },
  {
   "cell_type": "markdown",
   "metadata": {
    "id": "M08lekdQJ14I",
    "slideshow": {
     "slide_type": "subslide"
    }
   },
   "source": [
    "The implementation of an abstract data type, often referred to as a <u>data structure</u>, will require that we provide a physical view of the data using some collection of programming constructs and primitive data types."
   ]
  },
  {
   "cell_type": "markdown",
   "metadata": {
    "id": "kmbPdXCmJ14I",
    "slideshow": {
     "slide_type": "fragment"
    }
   },
   "source": [
    "The separation of these two perspectives will allow us to provide an implementation-independent view of the data."
   ]
  },
  {
   "cell_type": "markdown",
   "metadata": {
    "id": "knUz0VD7z2NY",
    "slideshow": {
     "slide_type": "fragment"
    }
   },
   "source": [
    "There will usually be many different ways to implement an abstract data type and the user can remain focused on the problem-solving process."
   ]
  },
  {
   "cell_type": "markdown",
   "metadata": {
    "id": "jBIrOPZCJ14I",
    "slideshow": {
     "slide_type": "slide"
    }
   },
   "source": [
    "## 1.6 Why Study Algorithms?"
   ]
  },
  {
   "cell_type": "markdown",
   "metadata": {
    "id": "Ygh-sqpdJ14J",
    "slideshow": {
     "slide_type": "subslide"
    }
   },
   "source": [
    "Being exposed to different problem-solving techniques and seeing how different algorithms are designed to help us. We can then begin to develop pattern recognition so that the next time a similar problem arises, we are better able to solve it!"
   ]
  },
  {
   "cell_type": "markdown",
   "metadata": {
    "id": "uvUrUd2vJ14J",
    "slideshow": {
     "slide_type": "fragment"
    }
   },
   "source": [
    "On the other hand, it is entirely possible that there are many different ways to implement the details to algorithm. One algorithm may use many fewer resources than another. We would like to have some way to compare these solutions. Even though they both work, one is perhaps \"better\" than the other. "
   ]
  },
  {
   "cell_type": "markdown",
   "metadata": {
    "id": "qH8HRNZ6J14J",
    "slideshow": {
     "slide_type": "subslide"
    }
   },
   "source": [
    "As we study algorithms, we can learn analysis techniques that allow us to compare and contrast solutions based solely on their own characteristics, not the characteristics of the program or computer used to implement them."
   ]
  },
  {
   "cell_type": "markdown",
   "metadata": {
    "id": "rBIJ7ipkJ14K",
    "slideshow": {
     "slide_type": "fragment"
    }
   },
   "source": [
    "There will often be trade-offs that we will need to identify and decide upon. As computer scientists, in addition to our ability to solve problems, we will also need to know and **understand solution evaluation techniques.**"
   ]
  },
  {
   "cell_type": "markdown",
   "metadata": {
    "slideshow": {
     "slide_type": "slide"
    }
   },
   "source": [
    "## 1.8 Getting Started with Data"
   ]
  },
  {
   "cell_type": "markdown",
   "metadata": {
    "slideshow": {
     "slide_type": "subslide"
    }
   },
   "source": [
    "In `Python`, as well as in any other _object-oriented programming_ language, we define a <u>class</u> to be a description of what the data look like (the state) and what the data can do (the behavior). "
   ]
  },
  {
   "cell_type": "markdown",
   "metadata": {
    "id": "n9ehxkHHJ14K",
    "slideshow": {
     "slide_type": "fragment"
    }
   },
   "source": [
    "Classes are analogous to abstract data types because a user of a class only sees the state and behavior of an <u>objects</u> in the object-oriented paradigm. An object is an instance of a class."
   ]
  },
  {
   "cell_type": "markdown",
   "metadata": {
    "id": "vDZiWdilJ14K",
    "slideshow": {
     "slide_type": "subslide"
    }
   },
   "source": [
    "### 1.8.1 Built-in Atomic Data Types"
   ]
  },
  {
   "cell_type": "markdown",
   "metadata": {
    "id": "5j-SudSSJ14K",
    "slideshow": {
     "slide_type": "subslide"
    }
   },
   "source": [
    "`Python` has two main built-in numeric classes that implement the integer and floating-point data types. These Python classes are called `int` and `float`. The standard arithmetic operators, `+`, `-`, `*`, `/`, `%` (modulo), `//` (integer division) and `**` (exponentiation), can be used:"
   ]
  },
  {
   "cell_type": "code",
   "execution_count": null,
   "metadata": {
    "colab": {
     "base_uri": "https://localhost:8080/"
    },
    "executionInfo": {
     "elapsed": 275,
     "status": "ok",
     "timestamp": 1683089137863,
     "user": {
      "displayName": "phonchi chung",
      "userId": "13517391734500420886"
     },
     "user_tz": -480
    },
    "id": "rSbUEmq6J14K",
    "outputId": "f02e8a0f-678d-4423-9751-ba4a797df12c",
    "slideshow": {
     "slide_type": "fragment"
    }
   },
   "outputs": [],
   "source": [
    "print(2 + 3 * 4)\n",
    "print((2 + 3) * 4)\n",
    "print(2 ** 10)\n",
    "print(6 / 3)\n",
    "print(7 / 3)\n",
    "print(7 // 3)\n",
    "print(7 % 3)\n",
    "print(2 ** 100)"
   ]
  },
  {
   "cell_type": "markdown",
   "metadata": {
    "slideshow": {
     "slide_type": "skip"
    }
   },
   "source": [
    "Note that we use parentheses for forcing the order of operations away from normal operator precedence. "
   ]
  },
  {
   "cell_type": "markdown",
   "metadata": {
    "id": "YkG4H_wmJ14L",
    "slideshow": {
     "slide_type": "subslide"
    }
   },
   "source": [
    "The Boolean data type, implemented as the `Python` `bool` class, will be quite useful for representing truth values. The possible state values for a Boolean object are `True` and `False` with the standard Boolean operators, `and`, `or`, and `not`."
   ]
  },
  {
   "cell_type": "code",
   "execution_count": null,
   "metadata": {
    "colab": {
     "base_uri": "https://localhost:8080/"
    },
    "executionInfo": {
     "elapsed": 276,
     "status": "ok",
     "timestamp": 1683089145944,
     "user": {
      "displayName": "phonchi chung",
      "userId": "13517391734500420886"
     },
     "user_tz": -480
    },
    "id": "73-eVqpEJ14L",
    "outputId": "79c3c81c-833a-49b0-85e5-ff3b0b399a58",
    "slideshow": {
     "slide_type": "fragment"
    }
   },
   "outputs": [],
   "source": [
    "print(False or True)\n",
    "print(not (False or True))\n",
    "print(True and True)"
   ]
  },
  {
   "cell_type": "markdown",
   "metadata": {
    "id": "In-sod4hJ14L",
    "slideshow": {
     "slide_type": "fragment"
    }
   },
   "source": [
    "Boolean data objects are also used as results for comparison operators such as equality (`==`) and greater than (`>`). The table below shows the _relational_ and _logical_ operators."
   ]
  },
  {
   "cell_type": "markdown",
   "metadata": {
    "id": "V1hbNXWKJ14M",
    "slideshow": {
     "slide_type": "subslide"
    }
   },
   "source": [
    "| Operation Name          | Operator | Explanation                                              |\n",
    "|-------------------------|----------|----------------------------------------------------------|\n",
    "| less than               | <        | Less than operator                                       |\n",
    "| greater than            | >        | Greater than operator                                    |\n",
    "| less than or equal      | <=       | Less than or equal to operator                           |\n",
    "| greater than or equal   | >=       | Greater than or equal to operator                        |\n",
    "| equal                   | ==       | Equality operator                                        |\n",
    "| not equal               | !=       | Not equal operator                                       |\n",
    "| logical and             | and      | Both operands True for result to be True                 |\n",
    "| logical or              | or       | One or the other operand is True for the result to be True|\n",
    "| logical not             | not      | Negates the truth value, False becomes True, True becomes False |"
   ]
  },
  {
   "cell_type": "code",
   "execution_count": null,
   "metadata": {
    "colab": {
     "base_uri": "https://localhost:8080/"
    },
    "executionInfo": {
     "elapsed": 286,
     "status": "ok",
     "timestamp": 1683098242260,
     "user": {
      "displayName": "phonchi chung",
      "userId": "13517391734500420886"
     },
     "user_tz": -480
    },
    "id": "-R7E5kxSJ14M",
    "outputId": "09193cec-2903-43c1-d57c-c37129d5ffd4",
    "slideshow": {
     "slide_type": "subslide"
    }
   },
   "outputs": [],
   "source": [
    "print(5 == 10)\n",
    "print(10 > 5)\n",
    "print((5 >= 1) and (5 <= 10))\n",
    "print((1 < 5) or (10 < 1))\n",
    "print(1 < 5 < 10)"
   ]
  },
  {
   "cell_type": "markdown",
   "metadata": {
    "slideshow": {
     "slide_type": "subslide"
    }
   },
   "source": [
    "<u>Identifiers</u> are used in programming languages as names. In `Python`, identifiers start with a letter or an underscore (`_`), are **case sensitive**, and can be of any length. "
   ]
  },
  {
   "cell_type": "markdown",
   "metadata": {
    "slideshow": {
     "slide_type": "fragment"
    }
   },
   "source": [
    "A `Python` <u>variable</u> is created when a name is used for the first time on the left-hand side of an <u>assignment statement</u>. Assignment statements provide a way to **associate a name with a value**. The variable will hold a **reference** to a piece of data but not the data itself."
   ]
  },
  {
   "cell_type": "code",
   "execution_count": null,
   "metadata": {
    "slideshow": {
     "slide_type": "fragment"
    }
   },
   "outputs": [],
   "source": [
    "the_sum = 0\n",
    "print(the_sum)\n",
    "\n",
    "the_sum = the_sum + 1\n",
    "print(the_sum)\n",
    "\n",
    "the_sum = True\n",
    "print(the_sum)"
   ]
  },
  {
   "cell_type": "markdown",
   "metadata": {
    "slideshow": {
     "slide_type": "subslide"
    }
   },
   "source": [
    "The assignment statement `the_sum = 0` creates a variable and lets it hold the reference to the data object 0. \n",
    "\n",
    "<center><img src=\"imgs/thesum.png\" width=\"20%\" /></center>"
   ]
  },
  {
   "cell_type": "markdown",
   "metadata": {
    "slideshow": {
     "slide_type": "fragment"
    }
   },
   "source": [
    "At this point in our example, the type of the variable is integer as that is the type of the data currently being referred to by `the_sum`. "
   ]
  },
  {
   "cell_type": "markdown",
   "metadata": {
    "slideshow": {
     "slide_type": "subslide"
    }
   },
   "source": [
    "If the type of the data changes, as shown above with the Boolean value `True`, so does the type of the variable (`the_sum` is now of the type Boolean). \n",
    "\n",
    "<center><img src=\"imgs/thesum2.png\" width=\"20%\" /></center>"
   ]
  },
  {
   "cell_type": "markdown",
   "metadata": {
    "slideshow": {
     "slide_type": "fragment"
    }
   },
   "source": [
    "The assignment statement changes the reference being held by the variable. This is a dynamic characteristic of `Python`. The same variable can refer to many different types of data."
   ]
  },
  {
   "cell_type": "markdown",
   "metadata": {
    "id": "qKmJiyzrJ14N",
    "slideshow": {
     "slide_type": "subslide"
    }
   },
   "source": [
    "### 1.8.2. Built-in Collection Data Types"
   ]
  },
  {
   "cell_type": "markdown",
   "metadata": {
    "id": "CzEFrClyJ14N",
    "slideshow": {
     "slide_type": "subslide"
    }
   },
   "source": [
    "Python has a number of very powerful built-in <u>collection</u> classes. `Lists`, `strings`, and `tuples` are <u>ordered collections (sequence)</u> that are very similar in general structure. `Sets` and `dictionaries` are <u>unordered collections</u>."
   ]
  },
  {
   "cell_type": "markdown",
   "metadata": {
    "slideshow": {
     "slide_type": "fragment"
    }
   },
   "source": [
    "A `list` is an ordered collection of zero or more references to `Python` data objects. Lists are heterogeneous, meaning that the data objects need not all be from the same class and the collection can be assigned to a variable as below."
   ]
  },
  {
   "cell_type": "code",
   "execution_count": null,
   "metadata": {
    "id": "psSIFUilJ14N",
    "outputId": "dad6f1af-0d7e-4304-eab8-15e1600c71d2",
    "slideshow": {
     "slide_type": "fragment"
    }
   },
   "outputs": [],
   "source": [
    "my_list = [1, 3, True, 6.5]\n",
    "my_list"
   ]
  },
  {
   "cell_type": "markdown",
   "metadata": {
    "id": "CEYjPqnWJ14N",
    "slideshow": {
     "slide_type": "subslide"
    }
   },
   "source": [
    "Since `lists` are considered to be sequentially ordered, they support a number of operations that can be applied to any `Python` sequence."
   ]
  },
  {
   "cell_type": "markdown",
   "metadata": {
    "id": "0V5fNcKnJ14N",
    "slideshow": {
     "slide_type": "subslide"
    }
   },
   "source": [
    "| Operation Name | Operator | Explanation                                       |\n",
    "|----------------|----------|---------------------------------------------------|\n",
    "| indexing       | [ ]      | Access an element of a sequence                   |\n",
    "| concatenation  | +        | Combine sequences together                        |\n",
    "| repetition     | *        | Concatenate a repeated number of times            |\n",
    "| membership     | in       | Ask whether an item is in a sequence              |\n",
    "| length         | len      | Ask the number of items in the sequence           |\n",
    "| slicing        | [ : ]    | Extract a part of a sequence                      |\n"
   ]
  },
  {
   "cell_type": "markdown",
   "metadata": {
    "id": "dd7m-qCDJ14N",
    "slideshow": {
     "slide_type": "fragment"
    }
   },
   "source": [
    "Note that the indices for `lists` **start counting with 0**. The slice operation `my_list[1:3]` returns a list of items starting with the item indexed by 1 up to—but not including—the item indexed by 3."
   ]
  },
  {
   "cell_type": "markdown",
   "metadata": {
    "id": "2NGVqR7wJ14N",
    "slideshow": {
     "slide_type": "subslide"
    }
   },
   "source": [
    "`Lists` support a number of methods that will be used to build data structures."
   ]
  },
  {
   "cell_type": "markdown",
   "metadata": {
    "id": "AngpG0KfJ14O",
    "slideshow": {
     "slide_type": "fragment"
    }
   },
   "source": [
    "| Method Name | Use                   | Explanation                                            |\n",
    "|-------------|-----------------------|--------------------------------------------------------|\n",
    "| append      | `a_list.append(item)` | Adds a new item to the end of a list                   |\n",
    "| insert      | `a_list.insert(i,item)`| Inserts an item at the ith position in a list         |\n",
    "| pop         | `a_list.pop()`        | Removes and returns the last item in a list            |\n",
    "| pop         | `a_list.pop(i)`       | Removes and returns the ith item in a list             |\n",
    "| sort        | `a_list.sort()`       | Sorts a list in place                                  |\n",
    "| reverse     | `a_list.reverse()`    | Modifies a list to be in reverse order                 |\n",
    "| del         | `del a_list[i]`       | Deletes the item in the ith position                   |\n",
    "| index       | `a_list.index(item)`  | Returns the index of the first occurrence of item      |\n",
    "| count       | `a_list.count(item)`  | Returns the number of occurrences of item              |\n",
    "| remove      | `a_list.remove(item)` | Removes the first occurrence of item                   |\n"
   ]
  },
  {
   "cell_type": "code",
   "execution_count": null,
   "metadata": {
    "colab": {
     "base_uri": "https://localhost:8080/"
    },
    "executionInfo": {
     "elapsed": 41111,
     "status": "ok",
     "timestamp": 1683099050191,
     "user": {
      "displayName": "phonchi chung",
      "userId": "13517391734500420886"
     },
     "user_tz": -480
    },
    "id": "-AWxXf7xJ14O",
    "outputId": "450025f8-e56f-4ebf-be22-d67c655e5bb0",
    "slideshow": {
     "slide_type": "subslide"
    }
   },
   "outputs": [],
   "source": [
    "my_list = [1024, 3, True, 6.5]\n",
    "my_list.append(False)\n",
    "print(my_list)\n",
    "my_list.insert(2,4.5)\n",
    "print(my_list)\n",
    "print(my_list.pop())\n",
    "print(my_list)\n",
    "print(my_list.pop(1))\n",
    "print(my_list)\n",
    "my_list.pop(2)\n",
    "print(my_list)"
   ]
  },
  {
   "cell_type": "code",
   "execution_count": null,
   "metadata": {
    "slideshow": {
     "slide_type": "subslide"
    }
   },
   "outputs": [],
   "source": [
    "my_list.sort()\n",
    "print(my_list)\n",
    "my_list.reverse()\n",
    "print(my_list)\n",
    "print(my_list.count(6.5))\n",
    "print(my_list.index(4.5))\n",
    "my_list.remove(6.5)\n",
    "print(my_list)\n",
    "del my_list[0]\n",
    "print(my_list)"
   ]
  },
  {
   "cell_type": "markdown",
   "metadata": {
    "id": "UcAcIkGtJ14O",
    "slideshow": {
     "slide_type": "subslide"
    }
   },
   "source": [
    "You can see that some of the methods, such as `pop()`, return a value and also modify the `list`. Others, such as `reverse()`, simply modify the `list` with no return value. You should also notice the familiar \"dot\" notation for asking an object to invoke a method."
   ]
  },
  {
   "cell_type": "markdown",
   "metadata": {
    "id": "DZd-K-Z-J14O",
    "slideshow": {
     "slide_type": "fragment"
    }
   },
   "source": [
    "In fact, even simple data objects such as integers can invoke methods in this way."
   ]
  },
  {
   "cell_type": "code",
   "execution_count": null,
   "metadata": {
    "colab": {
     "base_uri": "https://localhost:8080/"
    },
    "executionInfo": {
     "elapsed": 6912,
     "status": "ok",
     "timestamp": 1683099102902,
     "user": {
      "displayName": "phonchi chung",
      "userId": "13517391734500420886"
     },
     "user_tz": -480
    },
    "id": "X3kcVvSbJ14O",
    "outputId": "efe4544a-365a-4df2-b99c-860bfaec6719",
    "slideshow": {
     "slide_type": "fragment"
    }
   },
   "outputs": [],
   "source": [
    "(54).__add__(21) # Equal to 54+21"
   ]
  },
  {
   "cell_type": "markdown",
   "metadata": {
    "slideshow": {
     "slide_type": "subslide"
    }
   },
   "source": [
    "One common `Python` function that is often discussed in conjunction with `lists` is the `range()` function. `range()` produces a `range` object that represents a sequence of values."
   ]
  },
  {
   "cell_type": "code",
   "execution_count": null,
   "metadata": {
    "slideshow": {
     "slide_type": "fragment"
    }
   },
   "outputs": [],
   "source": [
    "print(range(10))\n",
    "print(list(range(10)))\n",
    "print(range(5, 10))\n",
    "print(list(range(5, 10)))\n",
    "print(list(range(5, 10, 2)))\n",
    "print(list(range(10, 1, -1)))"
   ]
  },
  {
   "cell_type": "markdown",
   "metadata": {
    "slideshow": {
     "slide_type": "subslide"
    }
   },
   "source": [
    "`Strings` are sequential collections of zero or more letters, numbers, and other symbols. Literal string values are differentiated from identifiers by using quotation marks (either single or double):"
   ]
  },
  {
   "cell_type": "code",
   "execution_count": null,
   "metadata": {
    "colab": {
     "base_uri": "https://localhost:8080/"
    },
    "executionInfo": {
     "elapsed": 3,
     "status": "ok",
     "timestamp": 1683099476232,
     "user": {
      "displayName": "phonchi chung",
      "userId": "13517391734500420886"
     },
     "user_tz": -480
    },
    "id": "X7K_sRd6J14P",
    "outputId": "fd2a8955-138a-4ac1-de16-0ddf6c5f7b6b",
    "slideshow": {
     "slide_type": "fragment"
    }
   },
   "outputs": [],
   "source": [
    "print(\"David\")\n",
    "print('David')\n",
    "my_name = \"David\"\n",
    "print(my_name[3])\n",
    "print(my_name * 2)\n",
    "print(len(my_name))"
   ]
  },
  {
   "cell_type": "markdown",
   "metadata": {
    "id": "nedecSBCJ14P",
    "slideshow": {
     "slide_type": "skip"
    }
   },
   "source": [
    "Since strings are sequences, all of the sequence operations described above work as you would expect. In addition, strings have a number of methods:"
   ]
  },
  {
   "cell_type": "markdown",
   "metadata": {
    "colab": {
     "base_uri": "https://localhost:8080/"
    },
    "executionInfo": {
     "elapsed": 2,
     "status": "ok",
     "timestamp": 1683099478417,
     "user": {
      "displayName": "phonchi chung",
      "userId": "13517391734500420886"
     },
     "user_tz": -480
    },
    "id": "MbyXNl9QJ14Q",
    "outputId": "dc3fb1c5-9359-430b-a893-e1ee3aff785c",
    "slideshow": {
     "slide_type": "skip"
    }
   },
   "source": [
    "| Method Name | Use                         | Explanation                                                        |\n",
    "|-------------|-----------------------------|--------------------------------------------------------------------|\n",
    "| center      | `a_string.center(w)`        | Returns a string centered in a field of size `w`                   |\n",
    "| count       | `a_string.count(item)`      | Returns the number of occurrences of `item` in the string          |\n",
    "| ljust       | `a_string.ljust(w)`         | Returns a string left-justified in a field of size `w`             |\n",
    "| lower       | `a_string.lower()`          | Returns a string in all lowercase                                  |\n",
    "| rjust       | `a_string.rjust(w)`         | Returns a string right-justified in a field of size `w`            |\n",
    "| find        | `a_string.find(item)`       | Returns the index of the first occurrence of `item`                |\n",
    "| split       | `a_string.split(s_char)`    | Splits a string into substrings at `s_char`                        |"
   ]
  },
  {
   "cell_type": "markdown",
   "metadata": {
    "id": "NVEzNhqCJ14Q",
    "slideshow": {
     "slide_type": "skip"
    }
   },
   "source": [
    "Of these, `split()` will be very useful for processing data. `split()` will take a `string` and return a list of strings using the split character as a division point. If no division is specified, the split method looks for whitespace characters such as tab, newline, and space."
   ]
  },
  {
   "cell_type": "code",
   "execution_count": null,
   "metadata": {
    "colab": {
     "base_uri": "https://localhost:8080/"
    },
    "executionInfo": {
     "elapsed": 2,
     "status": "ok",
     "timestamp": 1683099479769,
     "user": {
      "displayName": "phonchi chung",
      "userId": "13517391734500420886"
     },
     "user_tz": -480
    },
    "id": "gnCiAKAcJ14Q",
    "outputId": "278edbdd-e8c7-4ab0-9bc9-0383eb9f751f",
    "slideshow": {
     "slide_type": "skip"
    }
   },
   "outputs": [],
   "source": [
    "print(my_name)\n",
    "print(my_name.upper())\n",
    "print(my_name.center(10))\n",
    "print(my_name.find(\"v\"))\n",
    "print(my_name.split(\"v\"))"
   ]
  },
  {
   "cell_type": "markdown",
   "metadata": {
    "id": "AuYGB-WkJ14Q",
    "slideshow": {
     "slide_type": "subslide"
    }
   },
   "source": [
    "A major difference between `lists` and `strings` is that `lists` can be modified while `strings` cannot. This is referred to as mutability. `Lists` are <u>mutable</u>; `strings` are <u>immutable</u>."
   ]
  },
  {
   "cell_type": "code",
   "execution_count": null,
   "metadata": {
    "colab": {
     "base_uri": "https://localhost:8080/"
    },
    "executionInfo": {
     "elapsed": 2,
     "status": "ok",
     "timestamp": 1683099480063,
     "user": {
      "displayName": "phonchi chung",
      "userId": "13517391734500420886"
     },
     "user_tz": -480
    },
    "id": "SBLwG3kZJ14Q",
    "outputId": "c6f67521-941d-419d-8e3f-dd721c96941e",
    "slideshow": {
     "slide_type": "fragment"
    }
   },
   "outputs": [],
   "source": [
    "print(my_list)\n",
    "my_list[0] = 2 ** 10\n",
    "print(my_list)\n",
    "\n",
    "print(my_name)\n",
    "my_name[0] = \"X\""
   ]
  },
  {
   "cell_type": "markdown",
   "metadata": {
    "id": "vpk30SrdJ14Q",
    "slideshow": {
     "slide_type": "subslide"
    }
   },
   "source": [
    "`Tuples` are very similar to `lists` in that they are heterogeneous sequences of data. The difference is that a `tuple` is immutable, like a `string`. As sequences, they can use operation described above:"
   ]
  },
  {
   "cell_type": "code",
   "execution_count": null,
   "metadata": {
    "colab": {
     "base_uri": "https://localhost:8080/"
    },
    "executionInfo": {
     "elapsed": 2,
     "status": "ok",
     "timestamp": 1683099481589,
     "user": {
      "displayName": "phonchi chung",
      "userId": "13517391734500420886"
     },
     "user_tz": -480
    },
    "id": "rJT8fHznJ14Q",
    "outputId": "0a79fabf-2ddc-4ad7-aae3-5e00386b4d20",
    "slideshow": {
     "slide_type": "fragment"
    }
   },
   "outputs": [],
   "source": [
    "my_tuple = (2, True, 4.96)\n",
    "print(my_tuple)\n",
    "print(len(my_tuple))\n",
    "print(my_tuple[0])\n",
    "print(my_tuple * 3)\n",
    "print(my_tuple[0:2])\n",
    "\n",
    "my_tuple[1] = False"
   ]
  },
  {
   "cell_type": "markdown",
   "metadata": {
    "id": "xohLBKNfJ14Q",
    "slideshow": {
     "slide_type": "subslide"
    }
   },
   "source": [
    "A `set` is an **unordered collection of zero or more immutable `Python` data objects**. `Sets` **do not allow duplicates**. The empty set is represented by `set()`:"
   ]
  },
  {
   "cell_type": "code",
   "execution_count": null,
   "metadata": {
    "colab": {
     "base_uri": "https://localhost:8080/"
    },
    "executionInfo": {
     "elapsed": 271,
     "status": "ok",
     "timestamp": 1683099483987,
     "user": {
      "displayName": "phonchi chung",
      "userId": "13517391734500420886"
     },
     "user_tz": -480
    },
    "id": "rOsigFp5J14R",
    "outputId": "81d2e268-e2c3-47d1-b8ca-cbf6186819aa",
    "slideshow": {
     "slide_type": "fragment"
    }
   },
   "outputs": [],
   "source": [
    "my_set = {3, 6, \"cat\", 4.5, False}\n",
    "my_set"
   ]
  },
  {
   "cell_type": "markdown",
   "metadata": {
    "id": "Wvfz017eJ14R",
    "slideshow": {
     "slide_type": "subslide"
    }
   },
   "source": [
    "Even though `sets` are not considered to be sequential, they do support a few of the familiar operations presented earlier."
   ]
  },
  {
   "cell_type": "markdown",
   "metadata": {
    "colab": {
     "base_uri": "https://localhost:8080/"
    },
    "executionInfo": {
     "elapsed": 282,
     "status": "ok",
     "timestamp": 1683099508981,
     "user": {
      "displayName": "phonchi chung",
      "userId": "13517391734500420886"
     },
     "user_tz": -480
    },
    "id": "jyGxNrcyJ14R",
    "outputId": "06d68453-ecbf-4b30-dcb1-f7594b395024",
    "slideshow": {
     "slide_type": "fragment"
    }
   },
   "source": [
    "| Operation Name | Operator             | Explanation                                                         |\n",
    "|----------------|----------------------|---------------------------------------------------------------------|\n",
    "| membership     | `in`                 | Set membership                                                      |\n",
    "| length         | `len`                | Returns the cardinality of the set                                  |\n",
    "| union          | `a_set \\| other_set`  | Returns a new set with all elements from both sets                  |\n",
    "| intersection   | `a_set & other_set`  | Returns a new set with only those elements common to both sets      |\n",
    "| difference     | `a_set - other_set`  | Returns a new set with all items from the first set not in the second|\n",
    "| subset         | `a_set <= other_set` | Asks whether all elements of the first set are in the second        |"
   ]
  },
  {
   "cell_type": "code",
   "execution_count": null,
   "metadata": {
    "colab": {
     "base_uri": "https://localhost:8080/"
    },
    "executionInfo": {
     "elapsed": 297,
     "status": "ok",
     "timestamp": 1683099650685,
     "user": {
      "displayName": "phonchi chung",
      "userId": "13517391734500420886"
     },
     "user_tz": -480
    },
    "id": "SHup2KBzjgLZ",
    "outputId": "14b566f3-a6d5-475d-c70b-e29fec8b0bb7",
    "slideshow": {
     "slide_type": "subslide"
    }
   },
   "outputs": [],
   "source": [
    "print(len(my_set))\n",
    "print(False in my_set)\n",
    "print(\"dog\" in my_set)"
   ]
  },
  {
   "cell_type": "markdown",
   "metadata": {
    "id": "ss9HilbmJ14R",
    "slideshow": {
     "slide_type": "skip"
    }
   },
   "source": [
    "`Sets` support a number of methods that should be familiar to those who have worked with them in a mathematics setting."
   ]
  },
  {
   "cell_type": "markdown",
   "metadata": {
    "id": "3chkjulKJ14S",
    "slideshow": {
     "slide_type": "skip"
    }
   },
   "source": [
    "| Method Name    | Use                        | Explanation                                                     |\n",
    "|----------------|----------------------------|-----------------------------------------------------------------|\n",
    "| union          | `a_set.union(other_set)`   | Returns a new set with all elements from both sets              |\n",
    "| intersection   | `a_set.intersection(other_set)` | Returns a new set with only those elements common to both sets |\n",
    "| difference     | `a_set.difference(other_set)` | Returns a new set with all items from the first set not in the second |\n",
    "| issubset       | `a_set.issubset(other_set)`| Asks whether all elements of one set are in the other           |\n",
    "| add            | `a_set.add(item)`          | Adds item to the set                                            |\n",
    "| remove         | `a_set.remove(item)`       | Removes item from the set                                       |\n",
    "| pop            | `a_set.pop()`              | Removes an arbitrary element from the set                       |\n",
    "| clear          | `a_set.clear()`            | Removes all elements from the set                               |"
   ]
  },
  {
   "cell_type": "code",
   "execution_count": null,
   "metadata": {
    "colab": {
     "base_uri": "https://localhost:8080/"
    },
    "executionInfo": {
     "elapsed": 429,
     "status": "ok",
     "timestamp": 1683099911482,
     "user": {
      "displayName": "phonchi chung",
      "userId": "13517391734500420886"
     },
     "user_tz": -480
    },
    "id": "JTTu3PDyJ14S",
    "outputId": "56f6d853-279b-48b3-a127-c7aed8dd2d04",
    "slideshow": {
     "slide_type": "skip"
    }
   },
   "outputs": [],
   "source": [
    "your_set = {99, 3, 100}\n",
    "print(my_set.union(your_set))\n",
    "print(my_set | your_set)\n",
    "print(my_set.intersection(your_set))\n",
    "print(my_set & your_set)\n",
    "print(my_set.difference(your_set))\n",
    "print(my_set - your_set)\n",
    "print({3, 100}.issubset(your_set))\n",
    "print({3, 100} <= your_set)"
   ]
  },
  {
   "cell_type": "code",
   "execution_count": null,
   "metadata": {
    "colab": {
     "base_uri": "https://localhost:8080/"
    },
    "executionInfo": {
     "elapsed": 2,
     "status": "ok",
     "timestamp": 1683099913029,
     "user": {
      "displayName": "phonchi chung",
      "userId": "13517391734500420886"
     },
     "user_tz": -480
    },
    "id": "3JuGwvqAJ14S",
    "outputId": "e63cb892-a286-4082-aae8-ed12f5ac022a",
    "slideshow": {
     "slide_type": "skip"
    }
   },
   "outputs": [],
   "source": [
    "my_set.add(\"house\")\n",
    "print(my_set)\n",
    "my_set.remove(4.5)\n",
    "print(my_set)\n",
    "my_set.pop()\n",
    "print(my_set)\n",
    "my_set.clear()\n",
    "print(my_set)"
   ]
  },
  {
   "cell_type": "markdown",
   "metadata": {
    "id": "35FbMnzUJ14S",
    "slideshow": {
     "slide_type": "subslide"
    }
   },
   "source": [
    "Our final `Python` collection is an unordered structure called a `dictionary`. `Dictionaries` are collections of associated pairs of items where each pair consists of a _key_ and a _value_. This _key-value_ pair is typically written as `key:value`. "
   ]
  },
  {
   "cell_type": "code",
   "execution_count": null,
   "metadata": {
    "colab": {
     "base_uri": "https://localhost:8080/"
    },
    "executionInfo": {
     "elapsed": 2,
     "status": "ok",
     "timestamp": 1683099934924,
     "user": {
      "displayName": "phonchi chung",
      "userId": "13517391734500420886"
     },
     "user_tz": -480
    },
    "id": "h_0pMIDuJ14S",
    "outputId": "879cbce3-2522-42f5-b982-797e507326b8",
    "slideshow": {
     "slide_type": "fragment"
    }
   },
   "outputs": [],
   "source": [
    "capitals = {\"Iowa\": \"Des Moines\", \"Wisconsin\": \"Madison\"}\n",
    "capitals"
   ]
  },
  {
   "cell_type": "markdown",
   "metadata": {
    "id": "OtiEKCSMJ14S",
    "slideshow": {
     "slide_type": "subslide"
    }
   },
   "source": [
    "We can manipulate a `dictionary` by accessing a value via its key or by adding another key-value pair. The syntax for access looks much like a sequence access **except that instead of using the index of the item, we use the key value.**"
   ]
  },
  {
   "cell_type": "code",
   "execution_count": null,
   "metadata": {
    "colab": {
     "base_uri": "https://localhost:8080/"
    },
    "executionInfo": {
     "elapsed": 309,
     "status": "ok",
     "timestamp": 1683099965941,
     "user": {
      "displayName": "phonchi chung",
      "userId": "13517391734500420886"
     },
     "user_tz": -480
    },
    "id": "wEukj1oHJ14S",
    "outputId": "cb0b50b8-eec9-49e3-8b9e-50947c305966",
    "slideshow": {
     "slide_type": "fragment"
    }
   },
   "outputs": [],
   "source": [
    "capitals = {\"Iowa\": \"Des Moines\", \"Wisconsin\": \"Madison\"}\n",
    "print(capitals[\"Iowa\"])\n",
    "capitals[\"Utah\"] = \"Salt Lake City\"\n",
    "print(capitals)\n",
    "capitals[\"California\"] = \"Sacramento\"\n",
    "print(len(capitals))\n",
    "for k in capitals:\n",
    "    print(capitals[k],\"is the capital of\", k)"
   ]
  },
  {
   "cell_type": "markdown",
   "metadata": {
    "id": "J9fdDiNCJ14T",
    "slideshow": {
     "slide_type": "subslide"
    }
   },
   "source": [
    "`Dictionaries` have both methods and operators. The `keys()`, `values()`, and `items()` methods all return objects that contain the values of interest."
   ]
  },
  {
   "cell_type": "markdown",
   "metadata": {
    "id": "xEMTYGHIk5kh",
    "slideshow": {
     "slide_type": "fragment"
    }
   },
   "source": [
    "| Operator | Use                   | Explanation                                                         |\n",
    "|----------|-----------------------|---------------------------------------------------------------------|\n",
    "| `[]`     | `a_dict[k]`           | Returns the value associated with `k`, otherwise its an error       |\n",
    "| `in`     | `key in a_dict`       | Returns `True` if key is in the dictionary, `False` otherwise       |\n",
    "| `del`    | `del a_dict[key]`     | Removes the entry from the dictionary                               |"
   ]
  },
  {
   "cell_type": "markdown",
   "metadata": {
    "id": "Xqd3ysK1J14U",
    "slideshow": {
     "slide_type": "subslide"
    }
   },
   "source": [
    "| Method Name | Use                 | Explanation                                                           |\n",
    "|-------------|---------------------|-----------------------------------------------------------------------|\n",
    "| `keys`      | `a_dict.keys()`     | Returns the keys of the dictionary in a dict_keys object               |\n",
    "| `values`    | `a_dict.values()`   | Returns the values of the dictionary in a dict_values object           |\n",
    "| `items`     | `a_dict.items()`    | Returns the key-value pairs in a dict_items object                     |\n",
    "| `get`       | `a_dict.get(k)`     | Returns the value associated with `k`, `None` otherwise                |\n",
    "| `get`       | `a_dict.get(k, alt)`| Returns the value associated with `k`, `alt` otherwise                 |"
   ]
  },
  {
   "cell_type": "code",
   "execution_count": null,
   "metadata": {
    "id": "xZC0Ab_oJ14U",
    "slideshow": {
     "slide_type": "subslide"
    }
   },
   "outputs": [],
   "source": [
    "phone_ext={\"david\": 1410, \"brad\": 1137, \"roman\": 1171}\n",
    "print(phone_ext)\n",
    "print(phone_ext.keys())\n",
    "print(list(phone_ext.keys()))\n",
    "print(phone_ext.values())\n",
    "print(list(phone_ext.values()))\n",
    "print(phone_ext.items())\n",
    "print(list(phone_ext.items()))\n",
    "print(phone_ext.get(\"kent\"))\n",
    "print(phone_ext.get(\"kent\", \"NO ENTRY\"))"
   ]
  },
  {
   "cell_type": "markdown",
   "metadata": {
    "id": "Sb2mHWztJ14V",
    "slideshow": {
     "slide_type": "slide"
    }
   },
   "source": [
    "## 1.9. Input and Output"
   ]
  },
  {
   "cell_type": "markdown",
   "metadata": {
    "id": "exxX2n_BJ14V",
    "slideshow": {
     "slide_type": "subslide"
    }
   },
   "source": [
    "`Python` provides us with a function that allows us to ask a user to enter some data and returns a reference to the data in the form of a `string`. The function is called `input`."
   ]
  },
  {
   "cell_type": "markdown",
   "metadata": {
    "id": "OXKHZgycJ14V",
    "slideshow": {
     "slide_type": "fragment"
    }
   },
   "source": [
    "`Python`’s function input takes a single parameter that is a `string`. This string is often called the _prompt_ because it contains some helpful text prompting the user to enter something"
   ]
  },
  {
   "cell_type": "code",
   "execution_count": null,
   "metadata": {
    "colab": {
     "base_uri": "https://localhost:8080/"
    },
    "executionInfo": {
     "elapsed": 364,
     "status": "ok",
     "timestamp": 1683100426487,
     "user": {
      "displayName": "phonchi chung",
      "userId": "13517391734500420886"
     },
     "user_tz": -480
    },
    "id": "gLmVJfXAJ14V",
    "outputId": "d49cc0e4-fca6-48b7-a47a-9de389c11b77",
    "slideshow": {
     "slide_type": "fragment"
    }
   },
   "outputs": [],
   "source": [
    "a_name = input(\"Please enter your name: \")\n",
    "print(\"Your name in all capitals is\", a_name.upper(),\n",
    "      \"and has length\", len(a_name))"
   ]
  },
  {
   "cell_type": "markdown",
   "metadata": {
    "id": "HtcIVAvjJ14V",
    "slideshow": {
     "slide_type": "subslide"
    }
   },
   "source": [
    "It is important to note that the value returned from the input function will be a `string` representing the exact characters that were entered after the prompt. **If you want this `string` interpreted as another type, you must provide the type conversion explicitly.**"
   ]
  },
  {
   "cell_type": "code",
   "execution_count": null,
   "metadata": {
    "colab": {
     "base_uri": "https://localhost:8080/"
    },
    "executionInfo": {
     "elapsed": 297,
     "status": "ok",
     "timestamp": 1683101006385,
     "user": {
      "displayName": "phonchi chung",
      "userId": "13517391734500420886"
     },
     "user_tz": -480
    },
    "id": "h9Tc8N0wJ14V",
    "outputId": "871f95c2-4d30-4a9c-bcd4-a6d483079bc9",
    "slideshow": {
     "slide_type": "fragment"
    }
   },
   "outputs": [],
   "source": [
    "s_radius = input(\"Please enter the radius of the circle \")\n",
    "print(s_radius)\n",
    "radius = float(s_radius)\n",
    "print(radius)\n",
    "diameter = 2 * radius\n",
    "print(diameter)"
   ]
  },
  {
   "cell_type": "markdown",
   "metadata": {
    "id": "eb-FzjxHJ14W",
    "slideshow": {
     "slide_type": "subslide"
    }
   },
   "source": [
    "### 1.9.1. String Formatting"
   ]
  },
  {
   "cell_type": "markdown",
   "metadata": {
    "id": "HUdT0USRJ14W",
    "slideshow": {
     "slide_type": "subslide"
    }
   },
   "source": [
    "`print()` takes zero or more parameters and displays them using a single blank as the default separator. It is possible to change the separator character by setting the `sep` argument. In addition, each print ends with a newline character by default. This behavior can be changed by setting the `end` argument."
   ]
  },
  {
   "cell_type": "code",
   "execution_count": null,
   "metadata": {
    "colab": {
     "base_uri": "https://localhost:8080/"
    },
    "executionInfo": {
     "elapsed": 298,
     "status": "ok",
     "timestamp": 1683101092815,
     "user": {
      "displayName": "phonchi chung",
      "userId": "13517391734500420886"
     },
     "user_tz": -480
    },
    "id": "zFaZR6kPJ14a",
    "outputId": "4eee32f7-dc06-4c6e-d913-0204e4edce82",
    "slideshow": {
     "slide_type": "fragment"
    }
   },
   "outputs": [],
   "source": [
    "print(\"Hello\")\n",
    "print(\"Hello\", \"World\")\n",
    "print(\"Hello\", \"World\", sep=\"***\")\n",
    "print(\"Hello\", \"World\", end=\"***\")\n",
    "print(\"Hello\")"
   ]
  },
  {
   "cell_type": "markdown",
   "metadata": {
    "id": "XKJ5pQ1IJ14b",
    "slideshow": {
     "slide_type": "subslide"
    }
   },
   "source": [
    "It is often useful to have more control over the look of your output. Fortunately, `Python` provides us with an alternative called <u>formatted strings</u>. A formatted string is a template in which words or spaces that will remain constant are combined with placeholders for variables that will be inserted into the string."
   ]
  },
  {
   "cell_type": "code",
   "execution_count": null,
   "metadata": {
    "colab": {
     "base_uri": "https://localhost:8080/"
    },
    "executionInfo": {
     "elapsed": 295,
     "status": "ok",
     "timestamp": 1683101448651,
     "user": {
      "displayName": "phonchi chung",
      "userId": "13517391734500420886"
     },
     "user_tz": -480
    },
    "id": "j22nb9uwJ14b",
    "outputId": "837a3c03-57f0-4a62-a037-b9464c17b064",
    "slideshow": {
     "slide_type": "fragment"
    }
   },
   "outputs": [],
   "source": [
    "age = 20\n",
    "print(a_name, \"is\", age, \"years old.\")\n",
    "print(\"%s is %d years old.\" % (a_name, age))"
   ]
  },
  {
   "cell_type": "markdown",
   "metadata": {
    "id": "mLP54ctYJ14b",
    "slideshow": {
     "slide_type": "fragment"
    }
   },
   "source": [
    "The `%` operator is a string operator called the <u>format operator</u>. The left side of the expression holds the template or format string, and the right side holds a collection of values that will be substituted into the format string."
   ]
  },
  {
   "cell_type": "markdown",
   "metadata": {
    "id": "5evnCAylJ14b",
    "slideshow": {
     "slide_type": "subslide"
    }
   },
   "source": [
    "The format string may contain one or more conversion specifications. A conversion character tells the format operator what type of value is going to be inserted into that position in the `string`. In the example above, the `%s` specifies a string, while the `%d` specifies an integer."
   ]
  },
  {
   "cell_type": "markdown",
   "metadata": {
    "id": "rDvyWSaCJ14b",
    "slideshow": {
     "slide_type": "fragment"
    }
   },
   "source": [
    "| Character   | Output Format                                                                                   |\n",
    "|-------------|-------------------------------------------------------------------------------------------------|\n",
    "| `d`, `i`    | Integer                                                                                         |\n",
    "| `u`         | Unsigned integer                                                                                |\n",
    "| `f`         | Floating point as m.ddddd                                                                       |\n",
    "| `e`         | Floating point as m.ddddde+/-xx                                                                 |\n",
    "| `E`         | Floating point as m.dddddE+/-xx                                                                |\n",
    "| `g`         | Use `%e` for exponents less than -4 or greater than +5, otherwise use `%f`                      |\n",
    "| `c`         | Single character                                                                                |\n",
    "| `s`         | String, or any Python data object that can be converted to a string by using the `str` function |\n",
    "| `%`         | Insert a literal `%` character                                                                  |\n"
   ]
  },
  {
   "cell_type": "markdown",
   "metadata": {
    "id": "rn4dQ-7RJ14c",
    "slideshow": {
     "slide_type": "skip"
    }
   },
   "source": [
    "In addition to the format character, you can also include a <u>format modifier</u> between the `% ` and the format character. Format modifiers may be used to left-justify or right-justify the value with a specified field width. Modifiers can also be used to specify the field width along with a number of digits after the decimal point."
   ]
  },
  {
   "cell_type": "markdown",
   "metadata": {
    "slideshow": {
     "slide_type": "skip"
    }
   },
   "source": [
    "| Modifier   | Example       | Description                                                                                   |\n",
    "|------------|---------------|-----------------------------------------------------------------------------------------------|\n",
    "| number     | `%20d`        | Put the value in a field width of 20                                                          |\n",
    "| `-`        | `%-20d`       | Put the value in a field 20 characters wide, left-justified                                   |\n",
    "| `+`        | `%+20d`       | Put the value in a field 20 characters wide, right-justified                                  |\n",
    "| `0`        | `%020d`       | Put the value in a field 20 characters wide, fill in with leading zeros                       |\n",
    "| `.`        | `%20.2f`      | Put the value in a field 20 characters wide with 2 characters to the right of the decimal point|\n",
    "| `(name)`   | `%(name)d`    | Get the value from the supplied dictionary using `name` as the key                            |\n"
   ]
  },
  {
   "cell_type": "code",
   "execution_count": null,
   "metadata": {
    "colab": {
     "base_uri": "https://localhost:8080/"
    },
    "executionInfo": {
     "elapsed": 279,
     "status": "ok",
     "timestamp": 1683101588324,
     "user": {
      "displayName": "phonchi chung",
      "userId": "13517391734500420886"
     },
     "user_tz": -480
    },
    "id": "qsx-08WCJ14c",
    "outputId": "e17f0651-5f3e-45f8-cdc4-2ad534a2aacf",
    "slideshow": {
     "slide_type": "skip"
    }
   },
   "outputs": [],
   "source": [
    "price = 24\n",
    "item = \"banana\"\n",
    "print(\"The %s costs %d cents\" % (item, price))\n",
    "print(\"The %+10s costs %5.2f cents\" % (item, price))\n",
    "print(\"The %+10s costs %10.2f cents\" % (item, price))"
   ]
  },
  {
   "cell_type": "markdown",
   "metadata": {
    "slideshow": {
     "slide_type": "skip"
    }
   },
   "source": [
    "`Python` strings also include a format method that can be used in conjunction with a new `Formatter` class to implement complex string formatting. "
   ]
  },
  {
   "cell_type": "code",
   "execution_count": null,
   "metadata": {
    "slideshow": {
     "slide_type": "skip"
    }
   },
   "outputs": [],
   "source": [
    "print(\"The {} costs {} cents\".format(item, price))\n",
    "print(\"The {:s} costs {:d} cents\".format(item, price))"
   ]
  },
  {
   "cell_type": "markdown",
   "metadata": {
    "slideshow": {
     "slide_type": "subslide"
    }
   },
   "source": [
    "`Python 3.6` introduced <u>f-strings</u>, a way to use proper variable names instead of placeholders. Formatting conversion symbols can still be used inside an f-string, but the alignment symbols are different from those used with placeholders"
   ]
  },
  {
   "cell_type": "markdown",
   "metadata": {
    "slideshow": {
     "slide_type": "fragment"
    }
   },
   "source": [
    "| Modifier | Example   | Description                                                                                   |\n",
    "|----------|-----------|-----------------------------------------------------------------------------------------------|\n",
    "| number   | `:20d`    | Put the value in a field width of 20                                                          |\n",
    "| `<`      | `:<20d`   | Put the value in a field 20 characters wide, left-aligned                                     |\n",
    "| `>`      | `:>20d`   | Put the value in a field 20 characters wide, right-aligned                                    |\n",
    "| `^`      | `:^20d`   | Put the value in a field 20 characters wide, center-aligned                                   |\n",
    "| `0`      | `:020d`   | Put the value in a field 20 characters wide, fill in with leading zeros                       |\n",
    "| `.`      | `:20.2f`  | Put the value in a field 20 characters wide with 2 characters to the right of the decimal point|\n"
   ]
  },
  {
   "cell_type": "code",
   "execution_count": null,
   "metadata": {
    "id": "F5aJwzKuj9gF",
    "slideshow": {
     "slide_type": "subslide"
    }
   },
   "outputs": [],
   "source": [
    "price = 24\n",
    "item = \"banana\"\n",
    "print(f\"The {item:10} costs {price:10.2f} cents\")\n",
    "print(f\"The {item:<10} costs {price:<10.2f} cents\")\n",
    "print(f\"The {item:^10} costs {price:^10.2f} cents\")\n",
    "print(f\"The {item:>10} costs {price:>10.2f} cents\")\n",
    "print(f\"The {item:>10} costs {price:>010.2f} cents\")\n",
    "itemdict = {\"item\": \"banana\", \"price\": 24}\n",
    "print(f\"Item:{itemdict['item']:.>10}\\n\" +\n",
    "    f\"Price:{'$':.>4}{itemdict['price']:5.2f}\")"
   ]
  },
  {
   "cell_type": "markdown",
   "metadata": {
    "id": "T6H4VdkAJ14c",
    "slideshow": {
     "slide_type": "slide"
    }
   },
   "source": [
    "## 1.10. Control Structures"
   ]
  },
  {
   "cell_type": "markdown",
   "metadata": {
    "id": "sAszrEnnJ14d",
    "slideshow": {
     "slide_type": "subslide"
    }
   },
   "source": [
    "As we noted earlier, algorithms require two important control structures: iteration and selection. Both of these are supported by `Python` in various forms. For iteration, `Python` provides a standard `while` statement and a very powerful for statement. The `while` statement repeats a body of code as long as a condition evaluates to `True`:"
   ]
  },
  {
   "cell_type": "code",
   "execution_count": null,
   "metadata": {
    "colab": {
     "base_uri": "https://localhost:8080/"
    },
    "executionInfo": {
     "elapsed": 343,
     "status": "ok",
     "timestamp": 1683101709851,
     "user": {
      "displayName": "phonchi chung",
      "userId": "13517391734500420886"
     },
     "user_tz": -480
    },
    "id": "aybBqNHdJ14d",
    "outputId": "cc2890de-0f67-4c7b-c70d-d966140669ce",
    "slideshow": {
     "slide_type": "fragment"
    }
   },
   "outputs": [],
   "source": [
    "counter = 1\n",
    "while counter <= 5:\n",
    "    print(\"Hello, world\")\n",
    "    counter = counter + 1"
   ]
  },
  {
   "cell_type": "markdown",
   "metadata": {
    "id": "c5cVK04hJ14d",
    "slideshow": {
     "slide_type": "fragment"
    }
   },
   "source": [
    "It is easy to see the structure of a `Python` while statement due to the mandatory **indentation** pattern that the language enforces."
   ]
  },
  {
   "cell_type": "markdown",
   "metadata": {
    "id": "ZzmywYm1J14e",
    "slideshow": {
     "slide_type": "subslide"
    }
   },
   "source": [
    "Even though this type of construct is very useful in a wide variety of situations, another iterative structure, the `for` statement, can be used in conjunction with many of the `Python` collections. The `for` statement can be used to iterate over the members of a collection, so long as the collection is a sequence."
   ]
  },
  {
   "cell_type": "code",
   "execution_count": null,
   "metadata": {
    "colab": {
     "base_uri": "https://localhost:8080/"
    },
    "executionInfo": {
     "elapsed": 2,
     "status": "ok",
     "timestamp": 1683102465996,
     "user": {
      "displayName": "phonchi chung",
      "userId": "13517391734500420886"
     },
     "user_tz": -480
    },
    "id": "1FJPykoruLi6",
    "outputId": "0129b8fa-a822-4b51-bfc3-7a4441616252",
    "slideshow": {
     "slide_type": "fragment"
    }
   },
   "outputs": [],
   "source": [
    "for item in [1, 3, 6, 2, 5]:\n",
    "    print(item)"
   ]
  },
  {
   "cell_type": "markdown",
   "metadata": {
    "id": "KhJfQMXwuZUA",
    "slideshow": {
     "slide_type": "subslide"
    }
   },
   "source": [
    "A common use of the for statement is to implement definite iteration over a `range` of values."
   ]
  },
  {
   "cell_type": "code",
   "execution_count": null,
   "metadata": {
    "colab": {
     "base_uri": "https://localhost:8080/"
    },
    "executionInfo": {
     "elapsed": 313,
     "status": "ok",
     "timestamp": 1683101804193,
     "user": {
      "displayName": "phonchi chung",
      "userId": "13517391734500420886"
     },
     "user_tz": -480
    },
    "id": "iiMamBH2J14e",
    "outputId": "db3f4ddd-8c5d-4130-e9bd-3bc8a9ef3ce2",
    "slideshow": {
     "slide_type": "fragment"
    }
   },
   "outputs": [],
   "source": [
    "for item in range(5):\n",
    "    print(item ** 2)"
   ]
  },
  {
   "cell_type": "markdown",
   "metadata": {
    "id": "cnjL4M8KJ14e",
    "slideshow": {
     "slide_type": "skip"
    }
   },
   "source": [
    "Another useful version of this iteration structure is used to process each character of a `string`."
   ]
  },
  {
   "cell_type": "code",
   "execution_count": null,
   "metadata": {
    "id": "-VxvcbLIJ14e",
    "outputId": "1da89373-3730-4a13-9ae4-1f82443c6c02",
    "slideshow": {
     "slide_type": "skip"
    }
   },
   "outputs": [],
   "source": [
    "word_list = [\"cat\", \"dog\", \"rabbit\"]\n",
    "letter_list = [ ]\n",
    "for a_word in word_list:\n",
    "    for a_letter in a_word:\n",
    "        letter_list.append(a_letter)\n",
    "print(letter_list)"
   ]
  },
  {
   "cell_type": "markdown",
   "metadata": {
    "id": "VP713F2JJ14e",
    "slideshow": {
     "slide_type": "subslide"
    }
   },
   "source": [
    "<u>Selection statements</u> allow programmers to ask questions and then, based on the result, perform different actions. Most programming languages provide two versions of this useful construct: the `if...else` and the `if`. A simple example of a binary selection uses the `if...else` statement."
   ]
  },
  {
   "cell_type": "code",
   "execution_count": null,
   "metadata": {
    "slideshow": {
     "slide_type": "fragment"
    }
   },
   "outputs": [],
   "source": [
    "import math\n",
    "n = 16\n",
    "if n < 0:\n",
    "    print(\"Sorry, value is negative\")\n",
    "else:\n",
    "    print(math.sqrt(n))"
   ]
  },
  {
   "cell_type": "markdown",
   "metadata": {
    "id": "K_IxtEqLn4qb",
    "slideshow": {
     "slide_type": "subslide"
    }
   },
   "source": [
    "Selection constructs, as with any control construct, can be nested so that the result of one question helps decide whether to ask the next. For example, assume that score is a variable holding a reference to a score for a computer science test."
   ]
  },
  {
   "cell_type": "code",
   "execution_count": null,
   "metadata": {
    "slideshow": {
     "slide_type": "fragment"
    }
   },
   "outputs": [],
   "source": [
    "score = 85\n",
    "if score >= 90:\n",
    "    print(\"A\")\n",
    "else:\n",
    "    if score >= 80:\n",
    "        print(\"B\")\n",
    "    else:\n",
    "        if score >= 70:\n",
    "            print(\"C\")\n",
    "        else:\n",
    "            if score >= 60:\n",
    "                print(\"D\")\n",
    "            else:\n",
    "                print(\"F\")"
   ]
  },
  {
   "cell_type": "markdown",
   "metadata": {
    "slideshow": {
     "slide_type": "subslide"
    }
   },
   "source": [
    "An alternative syntax for this type of nested selection uses the `elif` keyword. Note that the final `else` is still necessary to provide the default case if all other conditions fail."
   ]
  },
  {
   "cell_type": "code",
   "execution_count": null,
   "metadata": {
    "slideshow": {
     "slide_type": "fragment"
    }
   },
   "outputs": [],
   "source": [
    "if score >= 90:\n",
    "    print(\"A\")\n",
    "elif score >= 80:\n",
    "    print(\"B\")\n",
    "elif score >= 70:\n",
    "    print(\"C\")\n",
    "elif score >= 60:\n",
    "    print(\"D\")\n",
    "else:\n",
    "    print(\"F\")"
   ]
  },
  {
   "cell_type": "markdown",
   "metadata": {
    "slideshow": {
     "slide_type": "skip"
    }
   },
   "source": [
    "`Python` also has a single-way selection construct, the `if` statement. With this statement, if the condition is true, an action is performed. In the case where the condition is false, processing simply continues on to the next statement after the if."
   ]
  },
  {
   "cell_type": "code",
   "execution_count": null,
   "metadata": {
    "slideshow": {
     "slide_type": "skip"
    }
   },
   "outputs": [],
   "source": [
    "if n < 0:\n",
    "    n = abs(n)\n",
    "print(math.sqrt(n))"
   ]
  },
  {
   "cell_type": "markdown",
   "metadata": {
    "slideshow": {
     "slide_type": "subslide"
    }
   },
   "source": [
    "Returning to `lists`, there is an alternative method for creating a `list` that uses iteration and selection constructs known as a <u>list comprehension</u>. A list comprehension allows you to easily create a `list` based on some processing or selection criteria. "
   ]
  },
  {
   "cell_type": "code",
   "execution_count": null,
   "metadata": {
    "slideshow": {
     "slide_type": "fragment"
    }
   },
   "outputs": [],
   "source": [
    "sq_list = []\n",
    "for x in range(1, 11):\n",
    "    sq_list.append(x * x)\n",
    "\n",
    "print(sq_list)\n",
    "\n",
    "sq_list=[x * x for x in range(1, 11)]\n",
    "sq_list"
   ]
  },
  {
   "cell_type": "markdown",
   "metadata": {
    "slideshow": {
     "slide_type": "subslide"
    }
   },
   "source": [
    "The general syntax for a list comprehension also allows a selection criteria to be added so that only certain items get added. "
   ]
  },
  {
   "cell_type": "code",
   "execution_count": null,
   "metadata": {
    "slideshow": {
     "slide_type": "fragment"
    }
   },
   "outputs": [],
   "source": [
    "sq_list=[x * x for x in range(1,11) if x % 2 != 0]\n",
    "sq_list"
   ]
  },
  {
   "cell_type": "markdown",
   "metadata": {
    "slideshow": {
     "slide_type": "subslide"
    }
   },
   "source": [
    "####  Exercise: Develop a function average that takes a list of integers, `aList`, calculates their average, and prints \"pass\" or \"fail\" based on the average being `>=60` or not, respectively. Include the average score rounded to one decimal place in the output."
   ]
  },
  {
   "cell_type": "code",
   "execution_count": 1,
   "metadata": {
    "slideshow": {
     "slide_type": "fragment"
    }
   },
   "outputs": [],
   "source": [
    "def average(aList):\n",
    "    #Your code here"
   ]
  },
  {
   "cell_type": "code",
   "execution_count": 2,
   "metadata": {
    "slideshow": {
     "slide_type": "fragment"
    }
   },
   "outputs": [
    {
     "name": "stdout",
     "output_type": "stream",
     "text": [
      "pass, the score is 89.3\n",
      "fail, the score is 53.7\n"
     ]
    }
   ],
   "source": [
    "average([99, 100, 74, 63, 100, 100])\n",
    "average([22, 19, 74, 63, 100, 44])"
   ]
  },
  {
   "cell_type": "markdown",
   "metadata": {
    "id": "K1b3Kbbs1iqO",
    "slideshow": {
     "slide_type": "slide"
    }
   },
   "source": [
    "## 1.11. Exception Handling"
   ]
  },
  {
   "cell_type": "markdown",
   "metadata": {
    "slideshow": {
     "slide_type": "subslide"
    }
   },
   "source": [
    "There are two types of errors that typically occur when writing programs. The first, known as a <u>syntax error</u>, simply means that the programmer has made a mistake in the structure of a statement or expression. "
   ]
  },
  {
   "cell_type": "code",
   "execution_count": null,
   "metadata": {
    "slideshow": {
     "slide_type": "fragment"
    }
   },
   "outputs": [],
   "source": [
    "for i in range(10)"
   ]
  },
  {
   "cell_type": "markdown",
   "metadata": {
    "slideshow": {
     "slide_type": "subslide"
    }
   },
   "source": [
    "The other type of error, known as a <u>logic error</u>, denotes a situation where the program executes but gives the wrong result. This can be due to an error in the underlying algorithm or an error in your translation of that algorithm. "
   ]
  },
  {
   "cell_type": "markdown",
   "metadata": {
    "slideshow": {
     "slide_type": "fragment"
    }
   },
   "source": [
    "In some cases, logic errors lead to very bad situations such as trying to divide by zero or trying to access an item in a list where the index of the item is outside the bounds of the list. In this case, the logic error leads to a runtime error that causes the program to terminate! These types of runtime errors are typically called <u>exceptions.</u>"
   ]
  },
  {
   "cell_type": "markdown",
   "metadata": {
    "slideshow": {
     "slide_type": "subslide"
    }
   },
   "source": [
    "Most programming languages provide a way to deal with these errors that will allow the programmer to have some type of intervention if they so choose. In addition, programmers can create their own exceptions if they detect a situation in the program execution that warrants it."
   ]
  },
  {
   "cell_type": "markdown",
   "metadata": {
    "slideshow": {
     "slide_type": "fragment"
    }
   },
   "source": [
    "When an exception occurs, we say that it has been _raised_. You can _handle_ the exception that has been raised by using a `try` statement."
   ]
  },
  {
   "cell_type": "code",
   "execution_count": null,
   "metadata": {
    "slideshow": {
     "slide_type": "fragment"
    }
   },
   "outputs": [],
   "source": [
    "import math\n",
    "a_number = int(input(\"Please enter an integer \"))\n",
    "print(math.sqrt(a_number))"
   ]
  },
  {
   "cell_type": "markdown",
   "metadata": {
    "slideshow": {
     "slide_type": "subslide"
    }
   },
   "source": [
    "We can handle this exception by calling the print function from within a `try` block. A corresponding `except` block \"catches\" the exception and prints a message back to the user in the event that an exception occurs. "
   ]
  },
  {
   "cell_type": "code",
   "execution_count": null,
   "metadata": {
    "slideshow": {
     "slide_type": "fragment"
    }
   },
   "outputs": [],
   "source": [
    "try:\n",
    "    a_number = int(input(\"Please enter an integer \"))\n",
    "    print(math.sqrt(a_number))\n",
    "except:\n",
    "    print(\"Bad value for the square root function\")\n",
    "    print(\"Using the absolute value instead\")\n",
    "    print(math.sqrt(abs(a_number)))"
   ]
  },
  {
   "cell_type": "markdown",
   "metadata": {
    "slideshow": {
     "slide_type": "subslide"
    }
   },
   "source": [
    "It is also possible for a programmer to cause a runtime exception by using the `raise` statement. For example, instead of calling the square root function with a negative number, we could have checked the value first and then raised our own exception!"
   ]
  },
  {
   "cell_type": "code",
   "execution_count": null,
   "metadata": {
    "slideshow": {
     "slide_type": "fragment"
    }
   },
   "outputs": [],
   "source": [
    "if a_number < 0:\n",
    "    raise RuntimeError(\"You can't use a negative number\")\n",
    "else:\n",
    "    print(math.sqrt(a_number))"
   ]
  },
  {
   "cell_type": "markdown",
   "metadata": {
    "slideshow": {
     "slide_type": "slide"
    }
   },
   "source": [
    "## 1.12. Defining Functions"
   ]
  },
  {
   "cell_type": "markdown",
   "metadata": {
    "slideshow": {
     "slide_type": "subslide"
    }
   },
   "source": [
    "The earlier example of procedural abstraction called upon a `Python` function called `sqrt()` from the `math` module to compute the square root. In general, we can hide the details of any computation by defining a function. A function definition requires a **name, a group of parameters, and a body. It may also explicitly return a value.**"
   ]
  },
  {
   "cell_type": "code",
   "execution_count": null,
   "metadata": {
    "slideshow": {
     "slide_type": "fragment"
    }
   },
   "outputs": [],
   "source": [
    "def square(n):\n",
    "     return n ** 2\n",
    "\n",
    "print(square(3))\n",
    "\n",
    "square(square(3))"
   ]
  },
  {
   "cell_type": "markdown",
   "metadata": {
    "slideshow": {
     "slide_type": "slide"
    }
   },
   "source": [
    "## 1.13. Object-Oriented Programming in Python: Defining Classes"
   ]
  },
  {
   "cell_type": "markdown",
   "metadata": {
    "slideshow": {
     "slide_type": "subslide"
    }
   },
   "source": [
    "One of the most powerful features in an object-oriented programming language is the ability to allow a programmer (problem solver) to create new classes that model data that is needed to solve the problem."
   ]
  },
  {
   "cell_type": "markdown",
   "metadata": {
    "slideshow": {
     "slide_type": "fragment"
    }
   },
   "source": [
    "Remember that we use abstract data types to provide the logical description of what a data object looks like (its state) and what it can do (its <u>methods</u>)."
   ]
  },
  {
   "cell_type": "markdown",
   "metadata": {
    "slideshow": {
     "slide_type": "subslide"
    }
   },
   "source": [
    "### 1.13.1. A Fraction Class"
   ]
  },
  {
   "cell_type": "markdown",
   "metadata": {
    "slideshow": {
     "slide_type": "subslide"
    }
   },
   "source": [
    "A very common example to show the details of implementing a user-defined class is to construct a class to implement the abstract data type `Fraction`. Although it is possible to create a floating point approximation for any fraction, in this case we would like to represent the fraction as an exact value."
   ]
  },
  {
   "cell_type": "markdown",
   "metadata": {
    "slideshow": {
     "slide_type": "fragment"
    }
   },
   "source": [
    "The operations for the Fraction type will allow a `Fraction` data object to behave like any other numeric value. We need to be able to add, subtract, multiply, and divide fractions. "
   ]
  },
  {
   "cell_type": "markdown",
   "metadata": {
    "slideshow": {
     "slide_type": "fragment"
    }
   },
   "source": [
    "We also want to be able to show fractions using the standard \"slash\" form, for example `3/5`. In addition, all fraction methods should return results in their lowest terms so that no matter what computation is performed, we always end up with the most common form."
   ]
  },
  {
   "cell_type": "markdown",
   "metadata": {
    "slideshow": {
     "slide_type": "subslide"
    }
   },
   "source": [
    "In `Python`, we define a new class by providing a name and a set of method definitions that are syntactically similar to function definitions. The first method that all classes should provide is the <u>constructor</u>. The constructor defines the way in which data objects are created."
   ]
  },
  {
   "cell_type": "code",
   "execution_count": null,
   "metadata": {
    "slideshow": {
     "slide_type": "fragment"
    }
   },
   "outputs": [],
   "source": [
    "class Fraction:\n",
    "    \"\"\"Class Fraction\"\"\"\n",
    "    def __init__(self, top, bottom):\n",
    "        \"\"\"Constructor definition\"\"\"\n",
    "        self.num = top\n",
    "        self.den = bottom"
   ]
  },
  {
   "cell_type": "markdown",
   "metadata": {
    "slideshow": {
     "slide_type": "fragment"
    }
   },
   "source": [
    "`self` is a special parameter that will always be used as a reference back to the object itself. It must always be the first formal parameter."
   ]
  },
  {
   "cell_type": "markdown",
   "metadata": {
    "slideshow": {
     "slide_type": "subslide"
    }
   },
   "source": [
    "To create an instance of the `Fraction` class, we must invoke the constructor. "
   ]
  },
  {
   "cell_type": "code",
   "execution_count": null,
   "metadata": {
    "slideshow": {
     "slide_type": "fragment"
    }
   },
   "outputs": [],
   "source": [
    "my_fraction = Fraction(3, 5)"
   ]
  },
  {
   "cell_type": "markdown",
   "metadata": {
    "slideshow": {
     "slide_type": "fragment"
    }
   },
   "source": [
    "<center><img src=\"imgs/fraction.png\" width=\"30%\" /></center>"
   ]
  },
  {
   "cell_type": "markdown",
   "metadata": {
    "slideshow": {
     "slide_type": "subslide"
    }
   },
   "source": [
    "#### Abstraction and Encapsulation"
   ]
  },
  {
   "cell_type": "markdown",
   "metadata": {
    "slideshow": {
     "slide_type": "subslide"
    }
   },
   "source": [
    "Since we are using classes to create abstract data types, we should probably discuss the meaning of the word \"abstract\" in this context. <u>Abstraction</u> in object-oriented programming requires **you to focus only on the desired properties and behaviors of the objects and discard what is unimportant or irrelevant.**"
   ]
  },
  {
   "cell_type": "markdown",
   "metadata": {
    "slideshow": {
     "slide_type": "fragment"
    }
   },
   "source": [
    "It is used in a situation where software programmers want to develop similar objects without having to redefine the most similar properties."
   ]
  },
  {
   "cell_type": "markdown",
   "metadata": {
    "slideshow": {
     "slide_type": "subslide"
    }
   },
   "source": [
    "The object-oriented principle of <u>encapsulation</u> is the notion that we should hide the contents of a class, except what is absolutely necessary to expose. Hence, we will restrict the access to our class as much as we can, so that a user can change the class properties and behaviors only from methods provided by the class."
   ]
  },
  {
   "cell_type": "markdown",
   "metadata": {
    "slideshow": {
     "slide_type": "fragment"
    }
   },
   "source": [
    "`Python` does not have private data. Instead, you use naming conventions to design classes that encourage correct use. By convention, `Python` programmers know that any attribute name beginning with an underscore (`_`) is for a class’s internal use only. Code should use the class’s methods to interact with each object’s internal-use data attributes. "
   ]
  },
  {
   "cell_type": "markdown",
   "metadata": {
    "slideshow": {
     "slide_type": "subslide"
    }
   },
   "source": [
    "Attributes whose identifiers do not begin with an underscore (`_`) are considered publicly accessible."
   ]
  },
  {
   "cell_type": "code",
   "execution_count": null,
   "metadata": {
    "slideshow": {
     "slide_type": "fragment"
    }
   },
   "outputs": [],
   "source": [
    "class Fraction:\n",
    "    \"\"\"Class Fraction\"\"\"\n",
    "    def __init__(self, top, bottom):\n",
    "        \"\"\"Constructor definition\"\"\"\n",
    "        self._num = top\n",
    "        self._den = bottom"
   ]
  },
  {
   "cell_type": "markdown",
   "metadata": {
    "slideshow": {
     "slide_type": "subslide"
    }
   },
   "source": [
    "#### Polymorphism"
   ]
  },
  {
   "cell_type": "markdown",
   "metadata": {
    "slideshow": {
     "slide_type": "subslide"
    }
   },
   "source": [
    "<u>Polymorphism</u> means the ability to appear in many forms. In OOP, polymorphism refers to the ability to process objects or methods differently depending on their data type, class, number of arguments, etc. For example, we can overload a constructor with different numbers and types of arguments to give us more optional ways to instantiate an object of the class in question."
   ]
  },
  {
   "cell_type": "markdown",
   "metadata": {
    "slideshow": {
     "slide_type": "fragment"
    }
   },
   "source": [
    "In this case, we can use <u>class methods</u> which are associated with a class rather than individual objects like regular methods are. You can recognize a class method in code when you see two markers: the `@classmethod` decorator before the method’s `def` statement and the use of `cls` as the first parameter."
   ]
  },
  {
   "cell_type": "markdown",
   "metadata": {
    "slideshow": {
     "slide_type": "subslide"
    }
   },
   "source": [
    "We can then provide alternative constructor methods besides `__init__()` to implement polymorphism. Here, we can add additional constructors to handle fractions that are whole numbers and instances with no parameters given:"
   ]
  },
  {
   "cell_type": "code",
   "execution_count": null,
   "metadata": {
    "slideshow": {
     "slide_type": "fragment"
    }
   },
   "outputs": [],
   "source": [
    "class Fraction:\n",
    "    \"\"\"Class Fraction\"\"\"\n",
    "    def __init__(self, top, bottom):\n",
    "        \"\"\"Constructor definition\"\"\"\n",
    "        self._num = top\n",
    "        self._den = bottom\n",
    "    @classmethod\n",
    "    def fromTop(cls, top):\n",
    "        return Fraction(top, 1)\n",
    "    @classmethod\n",
    "    def fromVoid(cls):\n",
    "        return Fraction(0, 1)"
   ]
  },
  {
   "cell_type": "markdown",
   "metadata": {
    "slideshow": {
     "slide_type": "subslide"
    }
   },
   "source": [
    "The `cls` parameter acts like `self` except `self` refers to an object, but the `cls` parameter refers to an object’s class. This means that the code in a class method cannot access an individual object’s attributes or call an object’s regular methods. Class methods can only call other class methods or access class attributes. "
   ]
  },
  {
   "cell_type": "markdown",
   "metadata": {
    "slideshow": {
     "slide_type": "fragment"
    }
   },
   "source": [
    "Calling the constructor with two arguments will invoke the first method, calling it with a single argument will invoke the second method, and calling it with no arguments will invoke the third method."
   ]
  },
  {
   "cell_type": "markdown",
   "metadata": {
    "slideshow": {
     "slide_type": "subslide"
    }
   },
   "source": [
    "Using optional parameters will accomplish the same task in this case. Since the class will behave the same no matter which implementation you use and the user will have no idea which implementation was chosen, this is an example of encapsulation."
   ]
  },
  {
   "cell_type": "code",
   "execution_count": null,
   "metadata": {
    "slideshow": {
     "slide_type": "fragment"
    }
   },
   "outputs": [],
   "source": [
    "class Fraction:\n",
    "    \"\"\"Class Fraction\"\"\"\n",
    "    def __init__(self, top=0, bottom=1):\n",
    "        \"\"\"Constructor definition\"\"\"\n",
    "        self._num = top\n",
    "        self._den = bottom"
   ]
  },
  {
   "cell_type": "markdown",
   "metadata": {
    "slideshow": {
     "slide_type": "subslide"
    }
   },
   "source": [
    "#### Operator overloading"
   ]
  },
  {
   "cell_type": "markdown",
   "metadata": {
    "slideshow": {
     "slide_type": "subslide"
    }
   },
   "source": [
    "The next thing we need to do is implement the behavior that the abstract data type requires. To begin, consider what happens when we try to print a `Fraction` object."
   ]
  },
  {
   "cell_type": "code",
   "execution_count": null,
   "metadata": {
    "slideshow": {
     "slide_type": "fragment"
    }
   },
   "outputs": [],
   "source": [
    "my_fraction = Fraction(3, 5)\n",
    "print(my_fraction)"
   ]
  },
  {
   "cell_type": "markdown",
   "metadata": {
    "slideshow": {
     "slide_type": "fragment"
    }
   },
   "source": [
    "The print function requires that the object convert itself into a string so that the string can be written to the output. This is not what we want. In `Python`, all classes have a set of standard methods that are provided but may not work properly. One of these, `__str__`, is the method to convert an object into a `string`."
   ]
  },
  {
   "cell_type": "markdown",
   "metadata": {
    "slideshow": {
     "slide_type": "subslide"
    }
   },
   "source": [
    "What we need to do is provide a better implementation for this method. We will say that this implementation <u>overrides</u> the previous one, or that it redefines the method’s behavior."
   ]
  },
  {
   "cell_type": "code",
   "execution_count": null,
   "metadata": {
    "slideshow": {
     "slide_type": "fragment"
    }
   },
   "outputs": [],
   "source": [
    "class Fraction:\n",
    "    \"\"\"Class Fraction\"\"\"\n",
    "    def __init__(self, top, bottom):\n",
    "        \"\"\"Constructor definition\"\"\"\n",
    "        self._num = top\n",
    "        self._den = bottom\n",
    "    def __str__(self):\n",
    "        return f\"{self._num}/{self._den}\"\n",
    "    \n",
    "my_fraction = Fraction(3, 5)\n",
    "print(my_fraction)\n",
    "print(f\"I ate {my_fraction} of pizza\")\n",
    "str(my_fraction)"
   ]
  },
  {
   "cell_type": "markdown",
   "metadata": {
    "slideshow": {
     "slide_type": "subslide"
    }
   },
   "source": [
    "We can override many other methods for our new Fraction class. Some of the most important of these are the basic arithmetic operations. "
   ]
  },
  {
   "cell_type": "code",
   "execution_count": null,
   "metadata": {
    "slideshow": {
     "slide_type": "fragment"
    }
   },
   "outputs": [],
   "source": [
    "f1 = Fraction(1, 4)\n",
    "f2 = Fraction(1, 2)\n",
    "f1 + f2"
   ]
  },
  {
   "cell_type": "markdown",
   "metadata": {
    "slideshow": {
     "slide_type": "fragment"
    }
   },
   "source": [
    "We can fix this by providing the Fraction class with a method that overrides the addition method. In `Python`, this method is called `__add__` and it requires two parameters. The first, `self`, is always needed, and the second represents the other operand in the expression."
   ]
  },
  {
   "cell_type": "code",
   "execution_count": null,
   "metadata": {
    "slideshow": {
     "slide_type": "subslide"
    }
   },
   "outputs": [],
   "source": [
    "def gcd(m, n):\n",
    "    while m % n != 0:\n",
    "        m, n = n, m % n\n",
    "    return n\n",
    "\n",
    "class Fraction:\n",
    "    \"\"\"Class Fraction\"\"\"\n",
    "    def __init__(self, top, bottom):\n",
    "        \"\"\"Constructor definition\"\"\"\n",
    "        self._num = top\n",
    "        self._den = bottom\n",
    "    def __str__(self):\n",
    "        return f\"{self._num}/{self._den}\"\n",
    "    def __add__(self, other_fraction):\n",
    "        new_num = self._num * other_fraction._den + \\\n",
    "                     self._den * other_fraction._num\n",
    "        new_den = self._den * other_fraction._den\n",
    "        common = gcd(new_num, new_den)\n",
    "        return Fraction(new_num // common, new_den // common)\n",
    "    \n",
    "f1 = Fraction(1, 4)\n",
    "f2 = Fraction(1, 2)\n",
    "print(f1 + f2)"
   ]
  },
  {
   "cell_type": "markdown",
   "metadata": {
    "slideshow": {
     "slide_type": "subslide"
    }
   },
   "source": [
    "<center><img src=\"imgs/fraction2.png\" width=\"30%\" /></center>"
   ]
  },
  {
   "cell_type": "markdown",
   "metadata": {
    "slideshow": {
     "slide_type": "fragment"
    }
   },
   "source": [
    "An additional group of methods that we need to include in our example `Fraction` class will allow two fractions to compare themselves to one another. Assume we have two `Fraction` objects, `f1` and `f2`. `f1==f2` will only be `True` if they are references to the same object."
   ]
  },
  {
   "cell_type": "markdown",
   "metadata": {
    "slideshow": {
     "slide_type": "subslide"
    }
   },
   "source": [
    " Two different objects with the same numerators and denominators would not be equal under this implementation. This is called <u>shallow equality</u>"
   ]
  },
  {
   "cell_type": "markdown",
   "metadata": {
    "slideshow": {
     "slide_type": "fragment"
    }
   },
   "source": [
    "<center><img src=\"imgs/fraction3.png\" width=\"40%\" /></center>"
   ]
  },
  {
   "cell_type": "markdown",
   "metadata": {
    "slideshow": {
     "slide_type": "subslide"
    }
   },
   "source": [
    "We can create deep equality–equality by the same value, not the same reference–by overriding the `__eq__` method"
   ]
  },
  {
   "cell_type": "markdown",
   "metadata": {
    "slideshow": {
     "slide_type": "fragment"
    }
   },
   "source": [
    "<center><img src=\"imgs/fraction4.png\" width=\"40%\" /></center>"
   ]
  },
  {
   "cell_type": "code",
   "execution_count": null,
   "metadata": {
    "slideshow": {
     "slide_type": "subslide"
    }
   },
   "outputs": [],
   "source": [
    "def gcd(m, n):\n",
    "    while m % n != 0:\n",
    "        m, n = n, m % n\n",
    "    return n\n",
    "\n",
    "class Fraction:\n",
    "    def __init__(self, top, bottom):\n",
    "        self._num = top\n",
    "        self._den = bottom\n",
    "\n",
    "    def __str__(self):\n",
    "        return \"{:d}/{:d}\".format(self._num, self._den)\n",
    "\n",
    "    def __eq__(self, other_fraction):\n",
    "        first_num = self._num * other_fraction._den\n",
    "        second_num = other_fraction._num * self._den\n",
    "\n",
    "        return first_num == second_num\n",
    "\n",
    "    def __add__(self, other_fraction):\n",
    "        new_num = self._num * other_fraction._den \\\n",
    "        + self._den * other_fraction._num\n",
    "        new_den = self._den * other_fraction._den\n",
    "        cmmn = gcd(new_num, new_den)\n",
    "        return Fraction(new_num // cmmn, new_den // cmmn)"
   ]
  },
  {
   "cell_type": "code",
   "execution_count": null,
   "metadata": {
    "slideshow": {
     "slide_type": "subslide"
    }
   },
   "outputs": [],
   "source": [
    "x = Fraction(1, 2)\n",
    "y = Fraction(2, 3)\n",
    "print(y)\n",
    "print(x + y)\n",
    "print(x == y)"
   ]
  },
  {
   "cell_type": "markdown",
   "metadata": {
    "slideshow": {
     "slide_type": "subslide"
    }
   },
   "source": [
    "#### Exercise: Implement the remaining relational operators `__gt__`,` __lt__`.  In the definition of fractions we assumed that negative fractions have a negative numerator and a positive denominator. Using a negative denominator would cause some of the relational operators to give incorrect results. In general, this is an unnecessary constraint. Modify the constructor to allow the user to pass a negative denominator so that all of the operators continue to work properly."
   ]
  },
  {
   "cell_type": "code",
   "execution_count": null,
   "metadata": {
    "slideshow": {
     "slide_type": "fragment"
    }
   },
   "outputs": [],
   "source": [
    "## Your code here"
   ]
  },
  {
   "cell_type": "markdown",
   "metadata": {
    "slideshow": {
     "slide_type": "subslide"
    }
   },
   "source": [
    "### 1.13.2. Inheritance: Logic Gates and Circuits"
   ]
  },
  {
   "cell_type": "markdown",
   "metadata": {
    "slideshow": {
     "slide_type": "subslide"
    }
   },
   "source": [
    "<u>Inheritance</u> is the ability of one class to be related to another class. Children inherit characteristics from their parents. Similarly, `Python` _child classes_ can inherit characteristic data and behavior from a _parent class_. These classes are often referred to as <u>subclasses</u> and <u>superclasses</u>."
   ]
  },
  {
   "cell_type": "markdown",
   "metadata": {
    "slideshow": {
     "slide_type": "fragment"
    }
   },
   "source": [
    "<center><img src=\"imgs/inheritance.png\" width=\"30%\" /></center>"
   ]
  },
  {
   "cell_type": "markdown",
   "metadata": {
    "slideshow": {
     "slide_type": "fragment"
    }
   },
   "source": [
    "For example, the `list` is a child of the `sequential collection`. In this case, we call the `list` the child and the sequence the parent (or subclass list and superclass sequence). This is often referred to as an **Is-a** relationship (the list Is-a sequential collection)."
   ]
  },
  {
   "cell_type": "markdown",
   "metadata": {
    "slideshow": {
     "slide_type": "subslide"
    }
   },
   "source": [
    "`Lists`, `tuples`, and `strings` are all examples of sequential collections. They all inherit common data organization and operations. However, each of them is distinct based on whether the data is homogeneous and whether the collection is immutable. The children all gain from their parents but distinguish themselves **by adding additional characteristics.**"
   ]
  },
  {
   "cell_type": "markdown",
   "metadata": {
    "slideshow": {
     "slide_type": "fragment"
    }
   },
   "source": [
    "By organizing classes in this hierarchical fashion, object-oriented programming languages allow previously written code to be extended to meet the needs of a new situation."
   ]
  },
  {
   "cell_type": "markdown",
   "metadata": {
    "slideshow": {
     "slide_type": "fragment"
    }
   },
   "source": [
    "To explore this idea further, we will construct a simulation, an application to simulate digital circuits. The basic building block for this simulation will be the logic gate. These electronic switches represent Boolean algebra relationships between their input and their output."
   ]
  },
  {
   "cell_type": "markdown",
   "metadata": {
    "slideshow": {
     "slide_type": "subslide"
    }
   },
   "source": [
    "<center><img src=\"imgs/tf_table.png\" width=\"30%\" /></center>"
   ]
  },
  {
   "cell_type": "markdown",
   "metadata": {
    "slideshow": {
     "slide_type": "fragment"
    }
   },
   "source": [
    "<center><img src=\"imgs/circuit.png\" width=\"30%\" /></center>"
   ]
  },
  {
   "cell_type": "markdown",
   "metadata": {
    "slideshow": {
     "slide_type": "subslide"
    }
   },
   "source": [
    "In order to implement a circuit, we will first build a representation for logic gates. Logic gates are easily organized into a class inheritance hierarchy:\n",
    "\n",
    "<center><img src=\"imgs/inheritance2.png\" width=\"30%\" /></center>"
   ]
  },
  {
   "cell_type": "markdown",
   "metadata": {
    "slideshow": {
     "slide_type": "fragment"
    }
   },
   "source": [
    "We can now start to implement the classes by starting with the most general, `LogicGate`. As noted earlier, each gate has a label for identification and a single output line. In addition, we need methods to allow a user of a gate to ask the gate for its label."
   ]
  },
  {
   "cell_type": "code",
   "execution_count": null,
   "metadata": {
    "slideshow": {
     "slide_type": "subslide"
    }
   },
   "outputs": [],
   "source": [
    "class LogicGate:\n",
    "    def __init__(self, lbl):\n",
    "        self._label = lbl\n",
    "        self._output = None\n",
    "\n",
    "    def get_label(self):\n",
    "        return self._label\n",
    "\n",
    "    def get_output(self):\n",
    "        self._output = self.perform_gate_logic()\n",
    "        return self._output"
   ]
  },
  {
   "cell_type": "markdown",
   "metadata": {
    "slideshow": {
     "slide_type": "fragment"
    }
   },
   "source": [
    "At this point, we will not implement the `perform_gate_logic()`. The reason for this is that we do not know how each gate will perform its own logic operation. Those details will be included by each individual gate that is added to the hierarchy. "
   ]
  },
  {
   "cell_type": "markdown",
   "metadata": {
    "slideshow": {
     "slide_type": "fragment"
    }
   },
   "source": [
    "Any new logic gate that gets added to the hierarchy will simply need to implement the `perform_gate_logic()` and it will be used at the appropriate time. Once done, the gate can provide its output value. "
   ]
  },
  {
   "cell_type": "markdown",
   "metadata": {
    "slideshow": {
     "slide_type": "skip"
    }
   },
   "source": [
    "`LogicGate` has two subclasses: `BinaryGate`, which will add two input lines, and `UnaryGate`, which will have only a single input line. "
   ]
  },
  {
   "cell_type": "code",
   "execution_count": null,
   "metadata": {
    "slideshow": {
     "slide_type": "subslide"
    }
   },
   "outputs": [],
   "source": [
    "class BinaryGate(LogicGate):\n",
    "    def __init__(self, lbl):\n",
    "        LogicGate.__init__(self, lbl) # super().__init__(lbl)\n",
    "        self._pin_a = None\n",
    "        self._pin_b = None\n",
    "\n",
    "    def get_pin_a(self):\n",
    "        if self._pin_a == None:\n",
    "            return int(input(\"Enter pin A input for gate \" + self.get_label() + \": \"))\n",
    "        else:\n",
    "            return self._pin_a.get_from().get_output()\n",
    "    def get_pin_b(self):\n",
    "        if self._pin_b == None:\n",
    "            return int(input(\"Enter pin B input for gate \" + self.get_label() + \": \"))\n",
    "        else:\n",
    "            return self._pin_b.get_from().get_output()\n",
    "        \n",
    "    def set_from_pin(self, source):\n",
    "        if self._pin_a == None:\n",
    "            self._pin_a = source\n",
    "        else:\n",
    "            if self._pin_b == None:\n",
    "                self._pin_b = source\n",
    "            else:\n",
    "                raise RuntimeError(\"Error: NO EMPTY PINS\")"
   ]
  },
  {
   "cell_type": "markdown",
   "metadata": {
    "slideshow": {
     "slide_type": "fragment"
    }
   },
   "source": [
    "The call to `set_from_pin()` is very important for making connections."
   ]
  },
  {
   "cell_type": "code",
   "execution_count": null,
   "metadata": {
    "slideshow": {
     "slide_type": "subslide"
    }
   },
   "outputs": [],
   "source": [
    "class UnaryGate(LogicGate):\n",
    "\n",
    "    def __init__(self, lbl):\n",
    "        LogicGate.__init__(self, lbl)\n",
    "\n",
    "        self._pin = None\n",
    "\n",
    "    def get_pin(self):\n",
    "        if self._pin == None:\n",
    "            return int(input(\"Enter pin input for gate \" + self.get_label() + \": \"))\n",
    "        else:\n",
    "            return self._pin.get_from().get_output()\n",
    "\n",
    "    def set_from_pin(self, source):\n",
    "        if self._pin == None:\n",
    "            self._pin = source\n",
    "        else:\n",
    "            print(\"Cannot Connect: NO EMPTY PINS on this gate\")"
   ]
  },
  {
   "cell_type": "markdown",
   "metadata": {
    "slideshow": {
     "slide_type": "fragment"
    }
   },
   "source": [
    "The constructors in both of these classes start with an explicit call to the constructor of the parent class using the parent’s `__init__` method. The constructor then goes on to add the two input lines (`pin_a` and `pin_b`). "
   ]
  },
  {
   "cell_type": "markdown",
   "metadata": {
    "slideshow": {
     "slide_type": "subslide"
    }
   },
   "source": [
    "Now that we have a general class for gates depending on the number of input lines, we can build specific gates that have unique behavior. For example, the `AndGate` class will be a subclass of `BinaryGate` since AND gates have two input lines"
   ]
  },
  {
   "cell_type": "code",
   "execution_count": null,
   "metadata": {
    "slideshow": {
     "slide_type": "fragment"
    }
   },
   "outputs": [],
   "source": [
    "class AndGate(BinaryGate):\n",
    "    def __init__(self, lbl):\n",
    "        super().__init__(lbl)\n",
    "\n",
    "    def perform_gate_logic(self):\n",
    "        a = self.get_pin_a()\n",
    "        b = self.get_pin_b()\n",
    "        if a == 1 and b == 1:\n",
    "            return 1\n",
    "        else:\n",
    "            return 0\n",
    "\n",
    "g1 = AndGate(\"G1\")\n",
    "g1.get_output()"
   ]
  },
  {
   "cell_type": "markdown",
   "metadata": {
    "slideshow": {
     "slide_type": "subslide"
    }
   },
   "source": [
    "The same development can be done for OR gates and NOT gates:"
   ]
  },
  {
   "cell_type": "code",
   "execution_count": null,
   "metadata": {
    "slideshow": {
     "slide_type": "fragment"
    }
   },
   "outputs": [],
   "source": [
    "class OrGate(BinaryGate):\n",
    "\n",
    "    def __init__(self, lbl):\n",
    "        BinaryGate.__init__(self, lbl)\n",
    "\n",
    "    def perform_gate_logic(self):\n",
    "\n",
    "        a = self.get_pin_a()\n",
    "        b = self.get_pin_b()\n",
    "        if a == 1 or b == 1:\n",
    "            return 1\n",
    "        else:\n",
    "            return 0\n",
    "\n",
    "class NotGate(UnaryGate):\n",
    "\n",
    "    def __init__(self, lbl):\n",
    "        UnaryGate.__init__(self, lbl)\n",
    "\n",
    "    def perform_gate_logic(self):\n",
    "        if self.get_pin():\n",
    "            return 0\n",
    "        else:\n",
    "            return 1"
   ]
  },
  {
   "cell_type": "code",
   "execution_count": null,
   "metadata": {
    "slideshow": {
     "slide_type": "subslide"
    }
   },
   "outputs": [],
   "source": [
    "g2 = OrGate(\"G2\")\n",
    "print(g2.get_output())\n",
    "\n",
    "g3 = NotGate(\"G3\")\n",
    "g3.get_output()"
   ]
  },
  {
   "cell_type": "markdown",
   "metadata": {
    "slideshow": {
     "slide_type": "subslide"
    }
   },
   "source": [
    "Now that we have the basic gates working, we can turn our attention to building circuits. In order to create a circuit, we need to connect gates together, the output of one flowing into the input of another. To do this, we will implement a new class called `Connector`.\n",
    "\n",
    "<center><img src=\"imgs/connect.png\" width=\"25%\" /></center>"
   ]
  },
  {
   "cell_type": "markdown",
   "metadata": {
    "slideshow": {
     "slide_type": "fragment"
    }
   },
   "source": [
    "The `Connector` class will not reside in the gate hierarchy. It will, however, use the gate hierarchy in that each connector will have two gates, one on either end. This relationship is very important in object-oriented programming. It is called the **Has-a relationship**. "
   ]
  },
  {
   "cell_type": "markdown",
   "metadata": {
    "slideshow": {
     "slide_type": "subslide"
    }
   },
   "source": [
    "Now, with the `Connector` class, we say that a `Connector` Has-a `LogicGate`, meaning that connectors will have instances of the `LogicGate` class within them but are not part of the hierarchy."
   ]
  },
  {
   "cell_type": "code",
   "execution_count": null,
   "metadata": {
    "slideshow": {
     "slide_type": "fragment"
    }
   },
   "outputs": [],
   "source": [
    "class Connector:\n",
    "    def __init__(self, fgate, tgate):\n",
    "        self.from_gate = fgate\n",
    "        self.to_gate = tgate\n",
    "\n",
    "        tgate.set_from_pin(self)\n",
    "\n",
    "    def get_from(self):\n",
    "        return self.from_gate"
   ]
  },
  {
   "cell_type": "markdown",
   "metadata": {
    "slideshow": {
     "slide_type": "subslide"
    }
   },
   "source": [
    "<center><img src=\"imgs/circuit2.png\" width=\"50%\" /></center>"
   ]
  },
  {
   "cell_type": "code",
   "execution_count": null,
   "metadata": {
    "slideshow": {
     "slide_type": "subslide"
    }
   },
   "outputs": [],
   "source": [
    "g1 = AndGate(\"gand1\")\n",
    "g2 = AndGate(\"gand2\")\n",
    "g3 = OrGate(\"gor3\")\n",
    "g4 = NotGate(\"gnot4\")\n",
    "c1 = Connector(g1, g3)\n",
    "c2 = Connector(g2, g3)\n",
    "c3 = Connector(g3, g4)\n",
    "g4.get_output()"
   ]
  },
  {
   "cell_type": "markdown",
   "metadata": {
    "slideshow": {
     "slide_type": "skip"
    }
   },
   "source": [
    "https://pythontutor.com/render.html#code=class%20LogicGate%3A%0A%20%20%20%20def%20__init__%28self,%20lbl%29%3A%0A%20%20%20%20%20%20%20%20self._label%20%3D%20lbl%0A%20%20%20%20%20%20%20%20self._output%20%3D%20None%0A%0A%20%20%20%20def%20get_label%28self%29%3A%0A%20%20%20%20%20%20%20%20return%20self._label%0A%0A%20%20%20%20def%20get_output%28self%29%3A%0A%20%20%20%20%20%20%20%20self._output%20%3D%20self.perform_gate_logic%28%29%0A%20%20%20%20%20%20%20%20return%20self._output%0A%0Aclass%20BinaryGate%28LogicGate%29%3A%0A%20%20%20%20def%20__init__%28self,%20lbl%29%3A%0A%20%20%20%20%20%20%20%20LogicGate.__init__%28self,%20lbl%29%20%23%20super%28%29.__init__%28lbl%29%0A%20%20%20%20%20%20%20%20self._pin_a%20%3D%20None%0A%20%20%20%20%20%20%20%20self._pin_b%20%3D%20None%0A%0A%20%20%20%20def%20get_pin_a%28self%29%3A%0A%20%20%20%20%20%20%20%20if%20self._pin_a%20%3D%3D%20None%3A%0A%20%20%20%20%20%20%20%20%20%20%20%20return%20int%28input%28%22Enter%20pin%20A%20input%20for%20gate%20%22%20%2B%20self.get_label%28%29%20%2B%20%22%3A%20%22%29%29%0A%20%20%20%20%20%20%20%20else%3A%0A%20%20%20%20%20%20%20%20%20%20%20%20return%20self._pin_a.get_from%28%29.get_output%28%29%0A%20%20%20%20def%20get_pin_b%28self%29%3A%0A%20%20%20%20%20%20%20%20if%20self._pin_b%20%3D%3D%20None%3A%0A%20%20%20%20%20%20%20%20%20%20%20%20return%20int%28input%28%22Enter%20pin%20B%20input%20for%20gate%20%22%20%2B%20self.get_label%28%29%20%2B%20%22%3A%20%22%29%29%0A%20%20%20%20%20%20%20%20else%3A%0A%20%20%20%20%20%20%20%20%20%20%20%20return%20self._pin_b.get_from%28%29.get_output%28%29%0A%20%20%20%20%20%20%20%20%0A%20%20%20%20def%20set_from_pin%28self,%20source%29%3A%0A%20%20%20%20%20%20%20%20if%20self._pin_a%20%3D%3D%20None%3A%0A%20%20%20%20%20%20%20%20%20%20%20%20self._pin_a%20%3D%20source%0A%20%20%20%20%20%20%20%20else%3A%0A%20%20%20%20%20%20%20%20%20%20%20%20if%20self._pin_b%20%3D%3D%20None%3A%0A%20%20%20%20%20%20%20%20%20%20%20%20%20%20%20%20self._pin_b%20%3D%20source%0A%20%20%20%20%20%20%20%20%20%20%20%20else%3A%0A%20%20%20%20%20%20%20%20%20%20%20%20%20%20%20%20raise%20RuntimeError%28%22Error%3A%20NO%20EMPTY%20PINS%22%29%0A%20%20%20%20%20%20%20%20%20%20%20%20%20%20%20%20%0Aclass%20UnaryGate%28LogicGate%29%3A%0A%0A%20%20%20%20def%20__init__%28self,%20lbl%29%3A%0A%20%20%20%20%20%20%20%20LogicGate.__init__%28self,%20lbl%29%0A%0A%20%20%20%20%20%20%20%20self._pin%20%3D%20None%0A%0A%20%20%20%20def%20get_pin%28self%29%3A%0A%20%20%20%20%20%20%20%20if%20self._pin%20%3D%3D%20None%3A%0A%20%20%20%20%20%20%20%20%20%20%20%20return%20int%28input%28%22Enter%20pin%20input%20for%20gate%20%22%20%2B%20self.get_label%28%29%20%2B%20%22%3A%20%22%29%29%0A%20%20%20%20%20%20%20%20else%3A%0A%20%20%20%20%20%20%20%20%20%20%20%20return%20self._pin.get_from%28%29.get_output%28%29%0A%0A%20%20%20%20def%20set_from_pin%28self,%20source%29%3A%0A%20%20%20%20%20%20%20%20if%20self._pin%20%3D%3D%20None%3A%0A%20%20%20%20%20%20%20%20%20%20%20%20self._pin%20%3D%20source%0A%20%20%20%20%20%20%20%20else%3A%0A%20%20%20%20%20%20%20%20%20%20%20%20print%28%22Cannot%20Connect%3A%20NO%20EMPTY%20PINS%20on%20this%20gate%22%29%0A%20%20%20%20%20%20%20%20%20%20%20%20%0A%20%20%20%20%20%20%20%20%20%20%20%20%0Aclass%20AndGate%28BinaryGate%29%3A%0A%20%20%20%20def%20__init__%28self,%20lbl%29%3A%0A%20%20%20%20%20%20%20%20super%28%29.__init__%28lbl%29%0A%0A%20%20%20%20def%20perform_gate_logic%28self%29%3A%0A%20%20%20%20%20%20%20%20a%20%3D%20self.get_pin_a%28%29%0A%20%20%20%20%20%20%20%20b%20%3D%20self.get_pin_b%28%29%0A%20%20%20%20%20%20%20%20if%20a%20%3D%3D%201%20and%20b%20%3D%3D%201%3A%0A%20%20%20%20%20%20%20%20%20%20%20%20return%201%0A%20%20%20%20%20%20%20%20else%3A%0A%20%20%20%20%20%20%20%20%20%20%20%20return%200%0A%20%20%20%20%20%20%20%20%20%20%20%20%0Aclass%20OrGate%28BinaryGate%29%3A%0A%0A%20%20%20%20def%20__init__%28self,%20lbl%29%3A%0A%20%20%20%20%20%20%20%20BinaryGate.__init__%28self,%20lbl%29%0A%0A%20%20%20%20def%20perform_gate_logic%28self%29%3A%0A%0A%20%20%20%20%20%20%20%20a%20%3D%20self.get_pin_a%28%29%0A%20%20%20%20%20%20%20%20b%20%3D%20self.get_pin_b%28%29%0A%20%20%20%20%20%20%20%20if%20a%20%3D%3D%201%20or%20b%20%3D%3D%201%3A%0A%20%20%20%20%20%20%20%20%20%20%20%20return%201%0A%20%20%20%20%20%20%20%20else%3A%0A%20%20%20%20%20%20%20%20%20%20%20%20return%200%0A%0Aclass%20NotGate%28UnaryGate%29%3A%0A%0A%20%20%20%20def%20__init__%28self,%20lbl%29%3A%0A%20%20%20%20%20%20%20%20UnaryGate.__init__%28self,%20lbl%29%0A%0A%20%20%20%20def%20perform_gate_logic%28self%29%3A%0A%20%20%20%20%20%20%20%20if%20self.get_pin%28%29%3A%0A%20%20%20%20%20%20%20%20%20%20%20%20return%200%0A%20%20%20%20%20%20%20%20else%3A%0A%20%20%20%20%20%20%20%20%20%20%20%20return%201%0A%20%20%20%20%20%20%20%20%20%20%20%20%0Aclass%20Connector%3A%0A%20%20%20%20def%20__init__%28self,%20fgate,%20tgate%29%3A%0A%20%20%20%20%20%20%20%20self.from_gate%20%3D%20fgate%0A%20%20%20%20%20%20%20%20self.to_gate%20%3D%20tgate%0A%0A%20%20%20%20%20%20%20%20tgate.set_from_pin%28self%29%0A%0A%20%20%20%20def%20get_from%28self%29%3A%0A%20%20%20%20%20%20%20%20return%20self.from_gate%0A%20%20%20%20%20%20%20%20%0Ag1%20%3D%20AndGate%28%22G1%22%29%0Ag2%20%3D%20AndGate%28%22G2%22%29%0Ag3%20%3D%20OrGate%28%22G3%22%29%0Ag4%20%3D%20NotGate%28%22G4%22%29%0Ac1%20%3D%20Connector%28g1,%20g3%29%0Ac2%20%3D%20Connector%28g2,%20g3%29%0Ac3%20%3D%20Connector%28g3,%20g4%29%0Ag4.get_output%28%29&cumulative=false&curInstr=117&heapPrimitives=nevernest&mode=display&origin=opt-frontend.js&py=3&rawInputLstJSON=%5B%5D&textReferences=false"
   ]
  },
  {
   "cell_type": "markdown",
   "metadata": {
    "slideshow": {
     "slide_type": "slide"
    }
   },
   "source": [
    "## References"
   ]
  },
  {
   "cell_type": "markdown",
   "metadata": {
    "id": "2teyKp_e1khl",
    "slideshow": {
     "slide_type": "subslide"
    }
   },
   "source": [
    "1. Texrbook Ch1"
   ]
  },
  {
   "cell_type": "markdown",
   "metadata": {
    "slideshow": {
     "slide_type": "skip"
    }
   },
   "source": [
    "## Key terms"
   ]
  },
  {
   "cell_type": "markdown",
   "metadata": {
    "slideshow": {
     "slide_type": "skip"
    }
   },
   "source": [
    "Here's a brief definition for each of the keywords you've listed:\n",
    "\n",
    "- **Algorithm**: A step-by-step procedure or formula for solving a problem or accomplishing some task. It's a set of rules that precisely define a sequence of operations.\n",
    "\n",
    "- **Computable**: Refers to a problem that can be solved by a computational process, i.e., there exists an algorithm that can produce an answer for any given input in a finite amount of time.\n",
    "\n",
    "- **Abstraction**: The process of hiding the complex reality while exposing only the necessary parts. It's a fundamental concept in computer science and programming that helps in managing complexity by reducing and hiding details.\n",
    "\n",
    "- **Interface**: A shared boundary across which two or more separate components of a computer system exchange information. It can refer to a software interface that allows two programs to communicate or a user interface that enables interaction between the user and the computer.\n",
    "\n",
    "- **Procedure Abstraction**: A type of abstraction that involves creating procedures (or functions) that can be used to perform specific tasks, hiding the details of the task's implementation from the user of the procedure.\n",
    "\n",
    "- **Programming**: The process of creating a set of instructions that tell a computer how to perform a task. Programming involves writing code in a programming language to solve specific problems or to create applications and software.\n",
    "\n",
    "- **Control Constructs**: The elements of a programming language that control the flow of execution of the program, such as loops (for, while), conditional statements (if, switch), and branching statements (break, continue).\n",
    "\n",
    "- **Data Types**: Categories of data that tell the compiler or interpreter how the programmer intends to use the data. Common data types include integers, floating-point numbers, characters, and booleans.\n",
    "\n",
    "- **ADT (Abstract Data Type)**: A mathematical model for data types where a data type is defined by its behavior (semantics) from the point of view of a user, specifically in terms of possible values, possible operations on data of this type, and the behavior of these operations.\n",
    "\n",
    "- **Encapsulation**: A principle of object-oriented programming that involves bundling the data (attributes) and methods that operate on the data into a single unit or class and restricting access to some of the object's components.\n",
    "\n",
    "- **Data Structure**: A particular way of organizing and storing data in a computer so that it can be accessed and modified efficiently. Examples include arrays, linked lists, trees, and graphs.\n",
    "\n",
    "- **Identifiers**: Names used to identify variables, functions, classes, modules, and other entities in code. They help in distinguishing one entity from another.\n",
    "\n",
    "- **Variables**: Symbols that are used to store data values. In programming, a variable is associated with a data type, and it can hold different values at different times during the execution of the program.\n",
    "\n",
    "- **Assignment Statement**: A statement in programming that assigns a value to a variable. It typically uses the assignment operator (=) to assign the right-hand side expression to the left-hand side variable.\n",
    "\n",
    "- **Sequence**: In programming, a sequence is an ordered collection of elements. It can refer to data structures like arrays or lists where elements are stored in a specific order.\n",
    "\n",
    "- **Unordered Collections**: Data structures where elements are not stored in any specific order, and there is no particular sequence in which they are stored or accessed. Examples include sets and dictionaries (in some languages).\n",
    "\n",
    "- **Formatted String**: A string that contains placeholders for inserting variables or expressions into the string, allowing for dynamic string creation with variable content.\n",
    "\n",
    "- **Mutable**: In programming, a mutable object is one whose state or value can be changed after it's created. This means that methods or operations can modify the data held by the object without needing to create a new object.\n",
    "\n",
    "- **Format Operator**: An operator used in some programming languages (like `%` in `Python`) to format strings, by substituting variables or expressions into placeholders defined in a format string.\n",
    "\n",
    "- **Format Modifier**: Instructions used in formatted strings to control the formatting of inserted values, such as specifying the number of decimal places for a floating-point number or padding for alignment.\n",
    "\n",
    "- **Selection Statements**: Statements that allow a program to execute different code blocks based on certain conditions. The most common selection statement is the if statement.\n",
    "\n",
    "- **Syntax Error**: An error in the syntax of a programming language code, meaning the code does not follow the rules or grammar of the language. Syntax errors are detected by the compiler or interpreter.\n",
    "\n",
    "- **Logic Error**: A bug in a program that causes it to operate incorrectly but does not prevent the program from running. Logic errors produce unintended or erroneous output or behavior.\n",
    "\n",
    "- **Exceptions**: Events that occur during the execution of a program that disrupt the normal flow of instructions. Exceptions are typically handled by exception handling constructs in programming languages.\n",
    "\n",
    "- **Module**: A module is a file containing Python definitions and statements. The file name is the module name with the suffix `.py` added. Modules are used to organize code in a logical and manageable way. In other languages, similar concepts are packages or libraries.\n",
    "\n",
    "- **Functions**: Blocks of code that perform a specific task and can be executed when called. Functions can take inputs (arguments) and can return outputs (return values).\n",
    "\n",
    "- **Argument**: In programming, an argument is a value that is passed to a function or method when it is called. In function definitions, the variables that receive these passed values are called parameters.\n",
    "\n",
    "- **Keyword**: In programming, a keyword is a word that is reserved by a program because the word has a special meaning. Keywords can be commands or parameters and cannot be used for other purposes, such as naming variables or functions.\n",
    "\n",
    "- **OOP**: Object-Oriented Programming (OOP) is a programming paradigm based on using \"objects\" — instances of classes, which encapsulate data and functions. It emphasizes principles like encapsulation, inheritance, and polymorphism to structure software in a more modular and reusable way.\n",
    "\n",
    "- **Class**: In object-oriented programming (OOP), a class is a blueprint for creating objects. It defines a set of attributes that will characterize any object that is instantiated from the class. These attributes are data members and methods, accessed via dot notation.\n",
    "\n",
    "- **Object**: In object-oriented programming (OOP), an object is an instance of a class. It is a concrete entity that represents something in the program that can perform certain actions and has certain characteristics. Objects are characterized by methods (representing behaviors) and attributes (representing states or properties).\n",
    "\n",
    "- **Attribute**: In OOP, an attribute is a named property of a class. It has a type and is typically used to hold data. The state of an object is determined by the values of its attributes.\n",
    "\n",
    "- **Methods**: Functions that are associated with an object or class in object-oriented programming. They can operate on the data (attributes) contained within the object/class.\n",
    "\n",
    "- **Constructor**: A special method in a class in object-oriented programming. Its primary purpose is to initialize new instances of that class. It can set the initial state of an object by assigning values to instance variables. The constructor method is automatically called when an object of a class is instantiated.\n",
    "\n",
    "- **Polymorphism**: The ability in programming to present the same interface for differing underlying forms (data types). With polymorphism, a single interface can represent different underlying forms of data.\n",
    "\n",
    "- **Overrides**: A feature in object-oriented programming where a subclass or child class provides a specific implementation of a method that is already provided by one of its superclasses or parent classes.\n",
    "\n",
    "- **Overloading**: The ability to define multiple functions or methods with the same name but different signatures (i.e., different sets of parameters) within the same scope.\n",
    "\n",
    "- **Shallow Copies**: Copies of objects where the copy contains references to the same objects as the original. Changes to the contents of the objects in the copy will affect the original, and vice versa.\n",
    "\n",
    "- **Deep Copies**: Copies of objects where the copy contains copies of all objects it originally contained, recursively. Changes to the contents of the objects in the copy will not affect the original, and vice versa.\n",
    "\n",
    "- **Inheritance**: A principle in object-oriented programming where a new class is derived from an existing class. The derived class inherits attributes and methods of the existing class, allowing for code reuse and the creation of hierarchical class structures.\n",
    "\n",
    "\n"
   ]
  }
 ],
 "metadata": {
  "celltoolbar": "Slideshow",
  "colab": {
   "collapsed_sections": [
    "cDAMEH2XJ14T"
   ],
   "provenance": []
  },
  "kernelspec": {
   "display_name": "Python 3 (ipykernel)",
   "language": "python",
   "name": "python3"
  },
  "language_info": {
   "codemirror_mode": {
    "name": "ipython",
    "version": 3
   },
   "file_extension": ".py",
   "mimetype": "text/x-python",
   "name": "python",
   "nbconvert_exporter": "python",
   "pygments_lexer": "ipython3",
   "version": "3.9.13"
  },
  "rise": {
   "chalkboard": {
    "color": [
     "rgb(250, 0, 0)",
     "rgb(250, 0, 0)"
    ]
   },
   "controls": false,
   "enable_chalkboard": true,
   "footer": "",
   "overlay": "<div class='myfooter'><h4>Introduction</h4></div>",
   "slideNumber": "true",
   "theme": "night"
  },
  "vscode": {
   "interpreter": {
    "hash": "1561eddc5e0c9c74df968f74d5080d02882967127f956e6e7049c43d2ef42321"
   }
  }
 },
 "nbformat": 4,
 "nbformat_minor": 1
}
